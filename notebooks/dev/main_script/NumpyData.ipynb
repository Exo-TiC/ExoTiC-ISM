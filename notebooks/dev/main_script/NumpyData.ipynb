{
 "cells": [
  {
   "cell_type": "markdown",
   "metadata": {},
   "source": [
    "# How to quickly save and load data with numpy\n",
    "\n",
    "Sometimes data is generated in your code that doesn't need to be save in a pretty, human-readable way, but we would still like to save it somewhere so that we can retrieve it later.\n",
    "Numpy has a couple of pretty nifty functions for that and a general overview can be found here:\n",
    "https://docs.scipy.org/doc/numpy/reference/routines.io.html\n",
    "\n",
    "We will be focussing on numpy.savez(), a function that lets to save arrays to .npz files, which are basically zipped files."
   ]
  },
  {
   "cell_type": "code",
   "execution_count": null,
   "metadata": {},
   "outputs": [],
   "source": [
    "# Let's ge tour numpy in\n",
    "import numpy as np\n",
    "import os  # so that we can delete the file later"
   ]
  },
  {
   "cell_type": "code",
   "execution_count": null,
   "metadata": {},
   "outputs": [],
   "source": [
    "# Generate some random arrays\n",
    "x = np.arange(10)\n",
    "y = np.array(([2,3,4,6,4,4,5,4,4,5,6,4,5,56,6,5,3,4], [4,3,4,56,6,7,8,9,7,6,6,], ['Hello!', 'Why', 'not', 'strings?']))\n",
    "z = np.ones((13,13))\n",
    "many = np.array([[3,4,5], [6,4,52]])\n",
    "more = np.ones((4,17))"
   ]
  },
  {
   "cell_type": "code",
   "execution_count": null,
   "metadata": {},
   "outputs": [],
   "source": [
    "# It's good practice to double check your data:\n",
    "print('x shape: ', x.shape)\n",
    "print('y shape: ', y.shape)\n",
    "print('z shape: ', z.shape)\n",
    "print('many shape: ', many.shape)\n",
    "print('more shape: ', more.shape)"
   ]
  },
  {
   "cell_type": "code",
   "execution_count": null,
   "metadata": {},
   "outputs": [],
   "source": [
    "print('x type: ', type(x))\n",
    "print('y type: ', type(y))\n",
    "print('z type: ', type(z))\n",
    "print('more type: ', type(more))"
   ]
  },
  {
   "cell_type": "code",
   "execution_count": null,
   "metadata": {},
   "outputs": [],
   "source": [
    "# We can now save that to a .npz file\n",
    "\n",
    "# We need a name for our file\n",
    "filename = 'numpy_file_1'\n",
    "\n",
    "# And this is how we save it\n",
    "np.savez(filename, name_1=x, name_2=y, name_3=z, name_4=many, name_5=more)\n",
    "\n",
    "print('This will save it to your current directory btw, whereever you opened this notebook in.')"
   ]
  },
  {
   "cell_type": "code",
   "execution_count": null,
   "metadata": {},
   "outputs": [],
   "source": [
    "# Now that we saved it, load it back into this notebook.\n",
    "in_data = np.load(filename+'.npz')\n",
    "\n",
    "# Check what data is hidden in our loaded file\n",
    "print(in_data.files)"
   ]
  },
  {
   "cell_type": "code",
   "execution_count": null,
   "metadata": {},
   "outputs": [],
   "source": [
    "# Want to acces the array with name array_name_2? Here we go!\n",
    "short = in_data['name_4']\n",
    "print(short)"
   ]
  },
  {
   "cell_type": "code",
   "execution_count": null,
   "metadata": {},
   "outputs": [],
   "source": [
    "print('Type of short: ', type(short))\n",
    "print('Shape of short: ', short.shape)"
   ]
  },
  {
   "cell_type": "code",
   "execution_count": null,
   "metadata": {},
   "outputs": [],
   "source": [
    "short\n",
    "\n",
    "# And delete the file now, so that we don't clutter your current working directory.\n",
    "os.remove(filename+'.npz')"
   ]
  },
  {
   "cell_type": "markdown",
   "metadata": {},
   "source": [
    "## Random tests on saved data"
   ]
  },
  {
   "cell_type": "code",
   "execution_count": null,
   "metadata": {},
   "outputs": [],
   "source": [
    "path = '/Users/ilaginja/Documents/data_from_repos/hst_marg_data/outputs'\n",
    "fname1 = 'marginalization_results_testing.npz'\n",
    "fname2 = 'masked_marginalization_results_testing.npz'\n",
    "fname3 = 'unmasked_marginalization_results_testing.npz'"
   ]
  },
  {
   "cell_type": "code",
   "execution_count": null,
   "metadata": {},
   "outputs": [],
   "source": [
    "# Load\n",
    "data1 = np.load(os.path.join(path, fname1), allow_pickle=True)\n",
    "data2 = np.load(os.path.join(path, fname2), allow_pickle=True)\n",
    "data3 = np.load(os.path.join(path, fname3), allow_pickle=True)"
   ]
  },
  {
   "cell_type": "code",
   "execution_count": null,
   "metadata": {},
   "outputs": [],
   "source": [
    "print(data1.files)\n",
    "print(data2.files)\n",
    "print(data3.files)"
   ]
  },
  {
   "cell_type": "code",
   "execution_count": null,
   "metadata": {},
   "outputs": [],
   "source": [
    "for kw in data1.files:\n",
    "    print(kw)\n",
    "    print(data1[kw])\n",
    "    print(data2[kw])\n",
    "    print(data3[kw])\n",
    "    print('\\n')"
   ]
  },
  {
   "cell_type": "code",
   "execution_count": null,
   "metadata": {},
   "outputs": [],
   "source": []
  }
 ],
 "metadata": {
  "kernelspec": {
   "display_name": "Python 3",
   "language": "python",
   "name": "python3"
  },
  "language_info": {
   "codemirror_mode": {
    "name": "ipython",
    "version": 3
   },
   "file_extension": ".py",
   "mimetype": "text/x-python",
   "name": "python",
   "nbconvert_exporter": "python",
   "pygments_lexer": "ipython3",
   "version": "3.7.3"
  }
 },
 "nbformat": 4,
 "nbformat_minor": 2
}
