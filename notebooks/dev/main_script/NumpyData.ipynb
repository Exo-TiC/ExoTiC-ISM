{
 "cells": [
  {
   "cell_type": "markdown",
   "metadata": {},
   "source": [
    "# How to quickly save and load data with numpy\n",
    "\n",
    "Sometimes data is generated in your code that doesn't need to be save in a pretty, human-readable way, but we would still like to save it somewhere so that we can retrieve it later.\n",
    "Numpy has a couple of pretty nifty functions for that and a general overview can be found here:\n",
    "https://docs.scipy.org/doc/numpy/reference/routines.io.html\n",
    "\n",
    "We will be focussing on numpy.savez(), a function that lets to save arrays to .npz files, which are basically zipped files."
   ]
  },
  {
   "cell_type": "code",
   "execution_count": 4,
   "metadata": {
    "collapsed": true
   },
   "outputs": [],
   "source": [
    "# Let's ge tour numpy in\n",
    "import numpy as np\n",
    "import os  # so that we can delete the file later"
   ]
  },
  {
   "cell_type": "code",
   "execution_count": null,
   "metadata": {
    "collapsed": true
   },
   "outputs": [],
   "source": [
    "# Generate some random arrays\n",
    "x = np.arange(10)\n",
    "y = np.array(([2,3,4,6,4,4,5,4,4,5,6,4,5,56,6,5,3,4], [4,3,4,56,6,7,8,9,7,6,6,], ['Hello!', 'Why', 'not', 'strings?']))\n",
    "z = np.ones((13,13))\n",
    "many = np.array([[3,4,5], [6,4,52]])\n",
    "more = np.ones((4,17))"
   ]
  },
  {
   "cell_type": "code",
   "execution_count": null,
   "metadata": {},
   "outputs": [],
   "source": [
    "# It's good practice to double check your data:\n",
    "print('x shape: ', x.shape)\n",
    "print('y shape: ', y.shape)\n",
    "print('z shape: ', z.shape)\n",
    "print('many shape: ', many.shape)\n",
    "print('more shape: ', more.shape)"
   ]
  },
  {
   "cell_type": "code",
   "execution_count": null,
   "metadata": {},
   "outputs": [],
   "source": [
    "print('x type: ', type(x))\n",
    "print('y type: ', type(y))\n",
    "print('z type: ', type(z))\n",
    "print('more type: ', type(more))"
   ]
  },
  {
   "cell_type": "code",
   "execution_count": null,
   "metadata": {},
   "outputs": [],
   "source": [
    "# We can now save that to a .npz file\n",
    "\n",
    "# We need a name for our file\n",
    "filename = 'numpy_file_1'\n",
    "\n",
    "# And this is how we save it\n",
    "np.savez(filename, name_1=x, name_2=y, name_3=z, name_4=many, name_5=more)\n",
    "\n",
    "print('This will save it to your current directory btw, whereever you opened this notebook in.')"
   ]
  },
  {
   "cell_type": "code",
   "execution_count": null,
   "metadata": {},
   "outputs": [],
   "source": [
    "# Now that we saved it, load it back into this notebook.\n",
    "in_data = np.load(filename+'.npz')\n",
    "\n",
    "# Check what data is hidden in our loaded file\n",
    "print(in_data.files)"
   ]
  },
  {
   "cell_type": "code",
   "execution_count": null,
   "metadata": {},
   "outputs": [],
   "source": [
    "# Want to acces the array with name array_name_2? Here we go!\n",
    "short = in_data['name_4']\n",
    "print(short)"
   ]
  },
  {
   "cell_type": "code",
   "execution_count": null,
   "metadata": {},
   "outputs": [],
   "source": [
    "print('Type of short: ', type(short))\n",
    "print('Shape of short: ', short.shape)"
   ]
  },
  {
   "cell_type": "code",
   "execution_count": null,
   "metadata": {},
   "outputs": [],
   "source": [
    "short\n",
    "\n",
    "# And delete the file now, so that we don't clutter your current working directory.\n",
    "os.remove(filename+'.npz')"
   ]
  },
  {
   "cell_type": "markdown",
   "metadata": {},
   "source": [
    "## Random tests on saved data"
   ]
  },
  {
   "cell_type": "code",
   "execution_count": 32,
   "metadata": {
    "collapsed": true
   },
   "outputs": [],
   "source": [
    "path = '/Users/ilaginja/Documents/data_from_repos/hst_marg_data/outputs'\n",
    "fname1 = 'marginalization_results_testing.npz'\n",
    "fname2 = 'masked_marginalization_results_testing.npz'\n",
    "fname3 = 'unmasked_marginalization_results_testing.npz'"
   ]
  },
  {
   "cell_type": "code",
   "execution_count": 33,
   "metadata": {},
   "outputs": [],
   "source": [
    "# Load\n",
    "data1 = np.load(os.path.join(path, fname1), allow_pickle=True)\n",
    "data2 = np.load(os.path.join(path, fname2), allow_pickle=True)\n",
    "data3 = np.load(os.path.join(path, fname3), allow_pickle=True)"
   ]
  },
  {
   "cell_type": "code",
   "execution_count": 34,
   "metadata": {},
   "outputs": [
    {
     "name": "stdout",
     "output_type": "stream",
     "text": [
      "['w_q', 'best_sys', 'marg_rl', 'marg_rl_err', 'marg_epoch', 'marg_epoch_err', 'marg_inclin_rad', 'marg_inclin_rad_err', 'marg_inclin_deg', 'marg_inclin_deg_err', 'marg_msmpr', 'marg_msmpr_err', 'marg_aors', 'marg_aors_err', 'rl_sdnr', 'pos', 'allow_pickle']\n",
      "['w_q', 'best_sys', 'marg_rl', 'marg_rl_err', 'marg_epoch', 'marg_epoch_err', 'marg_inclin_rad', 'marg_inclin_rad_err', 'marg_inclin_deg', 'marg_inclin_deg_err', 'marg_msmpr', 'marg_msmpr_err', 'marg_aors', 'marg_aors_err', 'rl_sdnr', 'pos', 'allow_pickle']\n",
      "['w_q', 'best_sys', 'marg_rl', 'marg_rl_err', 'marg_epoch', 'marg_epoch_err', 'marg_inclin_rad', 'marg_inclin_rad_err', 'marg_inclin_deg', 'marg_inclin_deg_err', 'marg_msmpr', 'marg_msmpr_err', 'marg_aors', 'marg_aors_err', 'rl_sdnr', 'pos', 'allow_pickle']\n"
     ]
    }
   ],
   "source": [
    "print(data1.files)\n",
    "print(data2.files)\n",
    "print(data3.files)"
   ]
  },
  {
   "cell_type": "code",
   "execution_count": 35,
   "metadata": {},
   "outputs": [
    {
     "name": "stdout",
     "output_type": "stream",
     "text": [
      "w_q\n",
      "[7.22979974e-15 2.05329398e-10 1.25716988e-10 1.12558415e-10\n",
      " 6.82701295e-11 2.64631714e-08 3.92251869e-08 2.75371335e-08\n",
      " 2.71970501e-08 1.64958448e-08 1.66274816e-08 2.39288137e-08\n",
      " 2.00438157e-08 1.79664344e-08 1.08971933e-08 2.50520768e-08\n",
      " 1.77822532e-08 1.34666337e-08 1.08430402e-08 6.57663632e-09\n",
      " 2.17794713e-08 1.60609513e-08 1.02228746e-08 9.20470552e-09\n",
      " 5.58293611e-09 2.30467851e-09 1.74675588e-03 1.11358121e-03\n",
      " 1.71491152e-03 1.09674256e-03 8.21948151e-02 5.94614593e-02\n",
      " 3.71342755e-02 6.65139030e-02 4.03427215e-02 5.12069857e-02\n",
      " 3.65574659e-02 2.46204948e-02 4.05067599e-02 2.45685918e-02\n",
      " 1.08774726e-01 8.21347384e-02 4.98277437e-02 3.87895348e-02\n",
      " 2.35270421e-02 8.09643001e-02 5.90775583e-02 3.68928274e-02\n",
      " 3.18896495e-02 1.93420502e-02]\n",
      "[7.22979974e-15 2.05329398e-10 1.25716988e-10 1.12558415e-10\n",
      " 6.82701295e-11 2.64631714e-08 3.92251869e-08 2.75371335e-08\n",
      " 2.71970501e-08 1.64958448e-08 1.66274816e-08 2.39288137e-08\n",
      " 2.00438157e-08 1.79664344e-08 1.08971933e-08 2.50520768e-08\n",
      " 1.77822532e-08 1.34666337e-08 1.08430402e-08 6.57663632e-09\n",
      " 2.17794713e-08 1.60609513e-08 1.02228746e-08 9.20470552e-09\n",
      " 5.58293611e-09 2.30467851e-09 1.74675588e-03 1.11358121e-03\n",
      " 1.71491152e-03 1.09674256e-03 8.21948151e-02 5.94614593e-02\n",
      " 3.71342755e-02 6.65139030e-02 4.03427215e-02 5.12069857e-02\n",
      " 3.65574659e-02 2.46204948e-02 4.05067599e-02 2.45685918e-02\n",
      " 1.08774726e-01 8.21347384e-02 4.98277437e-02 3.87895348e-02\n",
      " 2.35270421e-02 8.09643001e-02 5.90775583e-02 3.68928274e-02\n",
      " 3.18896495e-02 1.93420502e-02]\n",
      "[7.22979974e-15 2.05329398e-10 1.25716988e-10 1.12558415e-10\n",
      " 6.82701295e-11 2.64631714e-08 3.92251869e-08 2.75371335e-08\n",
      " 2.71970501e-08 1.64958448e-08 1.66274816e-08 2.39288137e-08\n",
      " 2.00438157e-08 1.79664344e-08 1.08971933e-08 2.50520768e-08\n",
      " 1.77822532e-08 1.34666337e-08 1.08430402e-08 6.57663632e-09\n",
      " 2.17794713e-08 1.60609513e-08 1.02228746e-08 9.20470552e-09\n",
      " 5.58293611e-09 2.30467851e-09 1.74675588e-03 1.11358121e-03\n",
      " 1.71491152e-03 1.09674256e-03 8.21948151e-02 5.94614593e-02\n",
      " 3.71342755e-02 6.65139030e-02 4.03427215e-02 5.12069857e-02\n",
      " 3.65574659e-02 2.46204948e-02 4.05067599e-02 2.45685918e-02\n",
      " 1.08774726e-01 8.21347384e-02 4.98277437e-02 3.87895348e-02\n",
      " 2.35270421e-02 8.09643001e-02 5.90775583e-02 3.68928274e-02\n",
      " 3.18896495e-02 1.93420502e-02]\n",
      "\n",
      "\n",
      "best_sys\n",
      "40\n",
      "40\n",
      "40\n",
      "\n",
      "\n",
      "marg_rl\n",
      "0.12401905841361494\n",
      "0.12401905841361494\n",
      "0.12401905841361494\n",
      "\n",
      "\n",
      "marg_rl_err\n",
      "0.00019560291752800156\n",
      "0.00019560291752800156\n",
      "0.00019560291752800156\n",
      "\n",
      "\n",
      "marg_epoch\n",
      "57957.97007898447\n",
      "57957.97007898447\n",
      "57957.97007898447\n",
      "\n",
      "\n",
      "marg_epoch_err\n",
      "0.0001836464061859145\n",
      "0.0001836464061859145\n",
      "0.0001836464061859145\n",
      "\n",
      "\n",
      "marg_inclin_rad\n",
      "None\n",
      "None\n",
      "None\n",
      "\n",
      "\n",
      "marg_inclin_rad_err\n",
      "None\n",
      "None\n",
      "None\n",
      "\n",
      "\n",
      "marg_inclin_deg\n",
      "None\n",
      "None\n",
      "None\n",
      "\n",
      "\n",
      "marg_inclin_deg_err\n",
      "None\n",
      "None\n",
      "None\n",
      "\n",
      "\n",
      "marg_msmpr\n",
      "None\n",
      "None\n",
      "None\n",
      "\n",
      "\n",
      "marg_msmpr_err\n",
      "None\n",
      "None\n",
      "None\n",
      "\n",
      "\n",
      "marg_aors\n",
      "None\n",
      "None\n",
      "None\n",
      "\n",
      "\n",
      "marg_aors_err\n",
      "None\n",
      "None\n",
      "None\n",
      "\n",
      "\n",
      "rl_sdnr\n",
      "[182.69786075 165.32924235 165.3083883  164.65091994 164.65091994\n",
      " 156.85759643 155.25693691 155.00324807 154.11435283 154.11435283\n",
      " 156.77210446 155.23517642 154.62360229 153.93366979 153.93366979\n",
      " 155.11998356 154.84991176 154.42922694 153.94086388 153.94086388\n",
      " 154.44549002 154.1041378  154.01041771 153.31381233 153.31381233\n",
      " 160.84711801 134.07545207 133.95977473 131.96098392 131.84871985\n",
      " 125.7510669  125.36191964 125.3038429  122.81473885 122.81473885\n",
      " 125.67253732 125.31910052 125.06643206 122.8025191  122.8025191\n",
      " 122.82905364 122.29547469 122.29486059 121.72425917 121.72425917\n",
      " 122.34196309 121.8899813  121.82844199 121.00925033 121.00925033]\n",
      "[182.69786075 165.32924235 165.3083883  164.65091994 164.65091994\n",
      " 156.85759643 155.25693691 155.00324807 154.11435283 154.11435283\n",
      " 156.77210446 155.23517642 154.62360229 153.93366979 153.93366979\n",
      " 155.11998356 154.84991176 154.42922694 153.94086388 153.94086388\n",
      " 154.44549002 154.1041378  154.01041771 153.31381233 153.31381233\n",
      " 160.84711801 134.07545207 133.95977473 131.96098392 131.84871985\n",
      " 125.7510669  125.36191964 125.3038429  122.81473885 122.81473885\n",
      " 125.67253732 125.31910052 125.06643206 122.8025191  122.8025191\n",
      " 122.82905364 122.29547469 122.29486059 121.72425917 121.72425917\n",
      " 122.34196309 121.8899813  121.82844199 121.00925033 121.00925033]\n",
      "[182.69786075 165.32924235 165.3083883  164.65091994 164.65091994\n",
      " 156.85759643 155.25693691 155.00324807 154.11435283 154.11435283\n",
      " 156.77210446 155.23517642 154.62360229 153.93366979 153.93366979\n",
      " 155.11998356 154.84991176 154.42922694 153.94086388 153.94086388\n",
      " 154.44549002 154.1041378  154.01041771 153.31381233 153.31381233\n",
      " 160.84711801 134.07545207 133.95977473 131.96098392 131.84871985\n",
      " 125.7510669  125.36191964 125.3038429  122.81473885 122.81473885\n",
      " 125.67253732 125.31910052 125.06643206 122.8025191  122.8025191\n",
      " 122.82905364 122.29547469 122.29486059 121.72425917 121.72425917\n",
      " 122.34196309 121.8899813  121.82844199 121.00925033 121.00925033]\n",
      "\n",
      "\n",
      "pos\n",
      "[[ 0  1  2  3  4  5  6  7  8  9 10 11 12 13 14 15 16 17 18 19 20 21 22 23\n",
      "  24 25 26 27 28 29 30 31 32 33 34 35 36 37 38 39 40 41 42 43 44 45 46 47\n",
      "  48 49]]\n",
      "False\n",
      "False\n",
      "\n",
      "\n",
      "allow_pickle\n",
      "True\n",
      "True\n",
      "True\n",
      "\n",
      "\n"
     ]
    }
   ],
   "source": [
    "for kw in data1.files:\n",
    "    print(kw)\n",
    "    print(data1[kw])\n",
    "    print(data2[kw])\n",
    "    print(data3[kw])\n",
    "    print('\\n')"
   ]
  },
  {
   "cell_type": "code",
   "execution_count": null,
   "metadata": {
    "collapsed": true
   },
   "outputs": [],
   "source": []
  }
 ],
 "metadata": {
  "kernelspec": {
   "display_name": "Python 3",
   "language": "python",
   "name": "python3"
  },
  "language_info": {
   "codemirror_mode": {
    "name": "ipython",
    "version": 3
   },
   "file_extension": ".py",
   "mimetype": "text/x-python",
   "name": "python",
   "nbconvert_exporter": "python",
   "pygments_lexer": "ipython3",
   "version": "3.7.2"
  }
 },
 "nbformat": 4,
 "nbformat_minor": 2
}
