{
 "cells": [
  {
   "cell_type": "markdown",
   "metadata": {},
   "source": [
    "# Generating plots\n",
    "\n",
    "This notebook reads the results from a specified location (defaults to `outputs` folder defined in the configfile) and generates some plots. You can plug and play with the data to create your own custom plots."
   ]
  },
  {
   "cell_type": "code",
   "execution_count": null,
   "metadata": {},
   "outputs": [],
   "source": [
    "# Imports\n",
    "import os\n",
    "import numpy as np\n",
    "import matplotlib.pyplot as plt\n",
    "%matplotlib inline\n",
    "\n",
    "os.chdir('../HST_python/')\n",
    "from config import CONFIG_INI"
   ]
  },
  {
   "cell_type": "code",
   "execution_count": null,
   "metadata": {},
   "outputs": [],
   "source": [
    "# Define directory to read data from\n",
    "readdir = CONFIG_INI.get('data_paths', 'output_path')\n",
    "suffix = CONFIG_INI.get('data_paths', 'run_name')\n",
    "\n",
    "print('Directory: {}'.format(readdir))\n",
    "print('Name suffix: {}'.format(suffix))"
   ]
  },
  {
   "cell_type": "markdown",
   "metadata": {},
   "source": [
    "## Read the data"
   ]
  },
  {
   "cell_type": "code",
   "execution_count": null,
   "metadata": {},
   "outputs": [],
   "source": [
    "# Read data from the fitting\n",
    "fit_data = np.load(os.path.join(readdir, 'full-fit'+suffix+'.npz'))\n",
    "print(type(fit_data))\n",
    "print('Fit data contents:\\n{}'.format(fit_data.files))"
   ]
  },
  {
   "cell_type": "code",
   "execution_count": null,
   "metadata": {},
   "outputs": [],
   "source": [
    "# Read individual data\n",
    "sys_phase = fit_data['sys_phase']\n",
    "sys_rawflux = fit_data['sys_rawflux']\n",
    "sys_model_phase = fit_data['sys_model_phase']\n",
    "sys_model = fit_data['sys_model']\n",
    "sys_flux = fit_data['sys_flux']\n",
    "sys_flux_err = fit_data['sys_flux_err']\n",
    "sys_depth = fit_data['sys_depth']\n",
    "sys_depth_err = fit_data['sys_depth_err']\n",
    "sys_residuals = fit_data['sys_residuals']"
   ]
  },
  {
   "cell_type": "code",
   "execution_count": null,
   "metadata": {},
   "outputs": [],
   "source": [
    "# Read data from marginalisation\n",
    "marg_data = np.load(os.path.join(readdir, 'marginalization_results'+suffix+'.npz'))\n",
    "print(type(marg_data))\n",
    "print('Marg data contents:\\n{}'.format(marg_data.files))"
   ]
  },
  {
   "cell_type": "code",
   "execution_count": null,
   "metadata": {},
   "outputs": [],
   "source": [
    "# Read individual data\n",
    "w_q = marg_data['w_q']\n",
    "best_sys = marg_data['best_sys']\n",
    "marg_rl = marg_data['marg_rl']\n",
    "marg_rl_err = marg_data['marg_rl_err']\n",
    "marg_epoch = marg_data['marg_epoch']\n",
    "marg_epoch_err = marg_data['marg_epoch_err']\n",
    "marg_inclin_rad = marg_data['marg_inclin_rad']\n",
    "marg_inclin_rad_err = marg_data['marg_inclin_rad_err']\n",
    "marg_inclin_deg = marg_data['marg_inclin_deg']\n",
    "marg_inclin_deg_err = marg_data['marg_inclin_deg_err']\n",
    "marg_msmpr = marg_data['marg_msmpr']\n",
    "marg_msmpr_err = marg_data['marg_msmpr_err']\n",
    "marg_aors = marg_data['marg_aors']\n",
    "marg_aors_err = marg_data['marg_aors_err']\n",
    "rl_sdnr = marg_data['rl_sdnr']\n",
    "pos = marg_data['pos']"
   ]
  },
  {
   "cell_type": "markdown",
   "metadata": {},
   "source": [
    "## Plots\n",
    "\n",
    "### From marginalisation code"
   ]
  },
  {
   "cell_type": "code",
   "execution_count": null,
   "metadata": {},
   "outputs": [],
   "source": [
    "sys_no = 15      # numbering starts at 0\n",
    "\n",
    "plt.figure(figsize=(18, 12))\n",
    "plt.title('Model no. ' + str(sys_no+1) + '/50')\n",
    "plt.scatter(sys_phase[sys_no], sys_rawflux[sys_no], s=5, label='Data')\n",
    "plt.plot(sys_model_phase[sys_no], sys_model[sys_no], 'k', label='Smooth model')\n",
    "plt.errorbar(sys_phase[sys_no], sys_flux[sys_no], yerr=sys_flux_err[sys_no], fmt='m.', label='Fit')\n",
    "plt.xlim(-0.03, 0.03)\n",
    "plt.xlabel('Planet Phase')\n",
    "plt.ylabel('Normalized flux')"
   ]
  },
  {
   "cell_type": "code",
   "execution_count": null,
   "metadata": {},
   "outputs": [],
   "source": [
    "plt.figure(figsize=(16, 7))\n",
    "plt.plot(w_q)\n",
    "plt.ylabel('Weight')\n",
    "plt.xlabel('Systematic model number')"
   ]
  },
  {
   "cell_type": "code",
   "execution_count": null,
   "metadata": {},
   "outputs": [],
   "source": [
    "plt.figure(figsize=(16, 7))\n",
    "plt.plot(rl_sdnr)\n",
    "plt.ylabel('Standard deviation of residuals')\n",
    "plt.xlabel('Systematic model number')"
   ]
  },
  {
   "cell_type": "code",
   "execution_count": null,
   "metadata": {},
   "outputs": [],
   "source": [
    "plt.figure(figsize=(16, 7))\n",
    "plt.errorbar(np.arange(1, len(sys_depth[pos][0])+1), sys_depth[pos][0], yerr=sys_depth_err[pos][0], fmt='.')\n",
    "plt.ylabel('$R_P/R_*$')\n",
    "plt.xlabel('Systematic model number')"
   ]
  },
  {
   "cell_type": "code",
   "execution_count": null,
   "metadata": {},
   "outputs": [],
   "source": [
    "plt.figure(figsize=(16, 7))\n",
    "plt.scatter(sys_phase[0,:], sys_flux[0,:])\n",
    "plt.ylim(np.min(sys_flux[0,:]) - 0.001, np.max(sys_flux[0,:]) + 0.001)\n",
    "plt.ylabel('Fitted norm. flux of first sys model')\n",
    "plt.xlabel('Planet phase')"
   ]
  },
  {
   "cell_type": "code",
   "execution_count": null,
   "metadata": {},
   "outputs": [],
   "source": [
    "plt.figure(figsize=(16, 7))\n",
    "plt.scatter(sys_phase[best_sys,:], sys_flux[best_sys,:], label='Fit of best model')\n",
    "plt.plot(sys_model_phase[best_sys,:], sys_model[best_sys,:], label='Smooth best model')\n",
    "plt.ylim(np.min(sys_flux[0,:]) - 0.001, np.max(sys_flux[0,:]) + 0.001)\n",
    "plt.ylabel('Best model norm. flux')\n",
    "plt.xlabel('Planet phase')"
   ]
  },
  {
   "cell_type": "code",
   "execution_count": null,
   "metadata": {},
   "outputs": [],
   "source": [
    "plt.figure(figsize=(16, 7))\n",
    "plt.errorbar(sys_phase[best_sys,:], sys_residuals[best_sys,:], yerr=sys_flux_err[best_sys,:], fmt='.')\n",
    "plt.ylim(-1000, 1000)\n",
    "plt.xlabel('Planet phase')\n",
    "plt.ylabel('Best model residuals')\n",
    "plt.hlines(0.0, xmin=np.min(sys_phase[best_sys,:]), xmax=np.max(sys_phase[best_sys,:]), colors='r', linestyles='dashed')\n",
    "plt.hlines(0.0 - (rl_sdnr[best_sys]), xmin=np.min(sys_phase[best_sys,:]), xmax=np.max(sys_phase[best_sys,:]), colors='r', linestyles='dotted')\n",
    "plt.hlines(0.0 + (rl_sdnr[best_sys]), xmin=np.min(sys_phase[best_sys,:]), xmax=np.max(sys_phase[best_sys,:]), colors='r', linestyles='dotted')\n",
    "plt.xlabel('Planet phase')"
   ]
  },
  {
   "cell_type": "code",
   "execution_count": null,
   "metadata": {},
   "outputs": [],
   "source": []
  }
 ],
 "metadata": {
  "kernelspec": {
   "display_name": "Python 3",
   "language": "python",
   "name": "python3"
  },
  "language_info": {
   "codemirror_mode": {
    "name": "ipython",
    "version": 3
   },
   "file_extension": ".py",
   "mimetype": "text/x-python",
   "name": "python",
   "nbconvert_exporter": "python",
   "pygments_lexer": "ipython3",
   "version": "3.7.3"
  }
 },
 "nbformat": 4,
 "nbformat_minor": 2
}
