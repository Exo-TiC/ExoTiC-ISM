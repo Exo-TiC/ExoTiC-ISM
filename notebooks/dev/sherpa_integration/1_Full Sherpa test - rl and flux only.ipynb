{
 "cells": [
  {
   "cell_type": "markdown",
   "metadata": {},
   "source": [
    "# Full Sherpa test for marginalization setup\n",
    "\n",
    "## Fitting rl and flux only"
   ]
  },
  {
   "cell_type": "code",
   "execution_count": 1,
   "metadata": {},
   "outputs": [],
   "source": [
    "import os\n",
    "import numpy as np\n",
    "import matplotlib.pyplot as plt\n",
    "import astropy.units as u\n",
    "from astropy.constants import G\n",
    "\n",
    "os.chdir('../')\n",
    "from config import CONFIG_INI\n",
    "from limb_darkening import limb_dark_fit\n",
    "import margmodule as marg\n",
    "\n",
    "from sherpa.data import Data1D\n",
    "from sherpa.plot import DataPlot\n",
    "from sherpa.plot import ModelPlot\n",
    "from sherpa.fit import Fit\n",
    "from sherpa.stats import LeastSq\n",
    "from sherpa.optmethods import LevMar\n",
    "from sherpa.stats import Chi2\n",
    "from sherpa.plot import FitPlot"
   ]
  },
  {
   "cell_type": "markdown",
   "metadata": {},
   "source": [
    "### Set up data paths"
   ]
  },
  {
   "cell_type": "code",
   "execution_count": 2,
   "metadata": {},
   "outputs": [],
   "source": [
    "localDir = CONFIG_INI.get('data_paths', 'local_path')\n",
    "outDir = os.path.join(localDir, CONFIG_INI.get('data_paths', 'output_path'))\n",
    "curr_model = CONFIG_INI.get('data_paths', 'current_model')\n",
    "dataDir = os.path.join(localDir, os.path.join(localDir, CONFIG_INI.get('data_paths', 'data_path')), curr_model)"
   ]
  },
  {
   "cell_type": "markdown",
   "metadata": {},
   "source": [
    "### Read in data"
   ]
  },
  {
   "cell_type": "code",
   "execution_count": 3,
   "metadata": {},
   "outputs": [
    {
     "name": "stdout",
     "output_type": "stream",
     "text": [
      "x.shape: (51,)\n",
      "y.shape: (51,)\n",
      "err.shape: (51,)\n",
      "sh.shape: (51,)\n",
      "wvln.shape: (115,)\n"
     ]
    }
   ],
   "source": [
    "# Read in the txt file for the lightcurve data\n",
    "x, y, err, sh = np.loadtxt(os.path.join(dataDir, 'W17_white_lightcurve_test_data.txt'), skiprows=7, unpack=True)\n",
    "wavelength = np.loadtxt(os.path.join(dataDir, 'W17_wavelength_test_data.txt'), skiprows=3)\n",
    "\n",
    "tzero = x[0]\n",
    "flux0 = y[0]\n",
    "\n",
    "print(\"x.shape: {}\".format(x.shape))\n",
    "print(\"y.shape: {}\".format(y.shape))\n",
    "print(\"err.shape: {}\".format(err.shape))\n",
    "print(\"sh.shape: {}\".format(sh.shape))\n",
    "print(\"wvln.shape: {}\".format(wavelength.shape))"
   ]
  },
  {
   "cell_type": "markdown",
   "metadata": {},
   "source": [
    "### Read and set up planet parameters"
   ]
  },
  {
   "cell_type": "markdown",
   "metadata": {},
   "source": [
    "Not importing `rl`, `epoch`, `inclin`, `ecc`, `omega` and `Per` sinc they will be read by the model directly from the configfile.\n",
    "\n",
    "Actually, I do need to import `Per` because I need it for the calculation of MsMpR."
   ]
  },
  {
   "cell_type": "code",
   "execution_count": 4,
   "metadata": {},
   "outputs": [
    {
     "name": "stdout",
     "output_type": "stream",
     "text": [
      "MsMpR: 2013.6545130315214 kg / m3\n"
     ]
    }
   ],
   "source": [
    "Per = CONFIG_INI.getfloat('planet_parameters', 'Per') * u.d\n",
    "Per = Per.to(u.s)\n",
    "constant1 = ((G * np.square(Per)) / (4 * np.square(np.pi))) ** (1 / 3)\n",
    "aor = CONFIG_INI.getfloat('planet_parameters', 'aor')    # this is unitless -> \"distance of the planet from the star (meters)/stellar radius (meters)\"\n",
    "MsMpR = (aor / constant1) ** 3.\n",
    "print(\"MsMpR: {}\".format(MsMpR))"
   ]
  },
  {
   "cell_type": "markdown",
   "metadata": {},
   "source": [
    "### Systematic model parameters\n",
    "\n",
    "The starting parameters for the systematic models are all 0 by default, hence I am not setting them here explicitly.\n",
    "\n",
    "### Limb darkening"
   ]
  },
  {
   "cell_type": "code",
   "execution_count": 5,
   "metadata": {},
   "outputs": [
    {
     "name": "stdout",
     "output_type": "stream",
     "text": [
      "You are using the 3D limb darkening models.\n",
      "Current Directories Entered:\n",
      "  ../Limb-darkening\n",
      "  ../Limb-darkening/3DGrid\n",
      "Filename: mmu_t65g45m10v05.flx\n",
      "\n",
      "Closest values to your inputs:\n",
      "Teff:  6500\n",
      "M_H:  -1.0\n",
      "log(g):  4.5\n",
      "\n",
      "Limb darkening parameters:\n",
      "4param \t0.87943740\t-0.75690632\t0.56316819\t-0.17285109\n",
      "3param \t2.18170435\t-3.13702297\t1.39277902\n",
      "Quad \t0.03258950\t0.35826185\n",
      "Linear \t0.33642864\n",
      "\n",
      "The four cs: 0.8794374046913269, -0.7569063175194662, 0.5631681864067452, -0.17285109276089056\n"
     ]
    }
   ],
   "source": [
    "# Limb darkening\n",
    "M_H = CONFIG_INI.getfloat('limb_darkening', 'metallicity')    # metallicity\n",
    "Teff = CONFIG_INI.getfloat('limb_darkening', 'Teff')   # effective temperature\n",
    "logg = CONFIG_INI.getfloat('limb_darkening', 'logg')   # log(g), gravitation\n",
    "\n",
    "# Define limb darkening directory, which is inside this package\n",
    "limbDir = os.path.join('..', 'Limb-darkening')\n",
    "ld_model = CONFIG_INI.get('limb_darkening', 'ld_model')\n",
    "grat = CONFIG_INI.get('technical_parameters', 'grating')\n",
    "_uLD, c1, c2, c3, c4, _cp1, _cp2, _cp3, _cp4, _aLD, _bLD = limb_dark_fit(grat, wavelength, M_H,\n",
    "                                                                         Teff, logg, limbDir, ld_model)\n",
    "print(\"\\nThe four cs: {}, {}, {}, {}\".format(c1, c2, c3, c4))"
   ]
  },
  {
   "cell_type": "markdown",
   "metadata": {},
   "source": [
    "### Select systematic grid\n",
    "\n",
    "For testing purposes, I will only pick one of them and I will set it by hand so that we know what is goin on."
   ]
  },
  {
   "cell_type": "code",
   "execution_count": 6,
   "metadata": {},
   "outputs": [
    {
     "name": "stdout",
     "output_type": "stream",
     "text": [
      "Systematics: [0. 0. 1. 1. 1. 1. 1. 1. 1. 1. 1. 1. 1. 1. 1. 1. 1. 1. 1. 1. 1. 1.]\n"
     ]
    }
   ],
   "source": [
    "# p0 =          [0,    1,     2,      3,     4,    5,    6,    7,  8,  9,  10, 11, 12,  13,    14,    15,    16,    17,     18,      19,      20,      21   ]\n",
    "# p0 = np.array([rl, flux0, epoch, inclin, MsMpR, ecc, omega, Per, T0, c1, c2, c3, c4, m_fac, HSTP1, HSTP2, HSTP3, HSTP4, xshift1, xshift2, xshift3, xshift4])\n",
    "nparams = 22\n",
    "# 1 in the grid means the parameter is fixed, 0 means it is free.\n",
    "systematics = np.ones((nparams))\n",
    "# Choice of only rl and flux free, first test\n",
    "systematics[0] = 0\n",
    "systematics[1] = 0\n",
    "\n",
    "print(\"Systematics: {}\".format(systematics))"
   ]
  },
  {
   "cell_type": "markdown",
   "metadata": {},
   "source": [
    "### Set up Sherpa data object"
   ]
  },
  {
   "cell_type": "code",
   "execution_count": 7,
   "metadata": {},
   "outputs": [
    {
     "name": "stdout",
     "output_type": "stream",
     "text": [
      "name      = Data\n",
      "x         = Float64[51]\n",
      "y         = Float64[51]\n",
      "staterror = Float64[51]\n",
      "syserror  = None\n"
     ]
    }
   ],
   "source": [
    "# Instantiate a data object\n",
    "data = Data1D('Data', x, y, staterror=err)\n",
    "print(data)"
   ]
  },
  {
   "cell_type": "code",
   "execution_count": 8,
   "metadata": {},
   "outputs": [
    {
     "data": {
      "image/png": "[encoded data removed]",
      "text/plain": [
       "<matplotlib.figure.Figure at 0x10ae260b8>"
      ]
     },
     "metadata": {
      "needs_background": "light"
     },
     "output_type": "display_data"
    }
   ],
   "source": [
    "# Plot the data with Sherpa\n",
    "dplot = DataPlot()\n",
    "dplot.prepare(data)\n",
    "dplot.plot() "
   ]
  },
  {
   "cell_type": "markdown",
   "metadata": {},
   "source": [
    "### Set up Sherpa model object"
   ]
  },
  {
   "cell_type": "code",
   "execution_count": 9,
   "metadata": {},
   "outputs": [
    {
     "name": "stdout",
     "output_type": "stream",
     "text": [
      "testmodel\n",
      "   Param        Type          Value          Min          Max      Units\n",
      "   -----        ----          -----          ---          ---      -----\n",
      "   testmodel.rl thawed     0.121692 -3.40282e+38  3.40282e+38           \n",
      "   testmodel.flux thawed      1.00007 -3.40282e+38  3.40282e+38           \n",
      "   testmodel.epoch thawed        57958 -3.40282e+38  3.40282e+38 days [MJD]\n",
      "   testmodel.inclin thawed      1.52448 -3.40282e+38  3.40282e+38    radians\n",
      "   testmodel.msmpr thawed      2013.65 -3.40282e+38  3.40282e+38           \n",
      "   testmodel.ecc thawed            0 -3.40282e+38  3.40282e+38    degrees\n",
      "   testmodel.omega frozen            0 -3.40282e+38  3.40282e+38    degrees\n",
      "   testmodel.period frozen      3.73549 -3.40282e+38  3.40282e+38       days\n",
      "   testmodel.tzero frozen      57957.9 -3.40282e+38  3.40282e+38 days [MJD]\n",
      "   testmodel.c1 frozen     0.879437 -3.40282e+38  3.40282e+38           \n",
      "   testmodel.c2 frozen    -0.756906 -3.40282e+38  3.40282e+38           \n",
      "   testmodel.c3 frozen     0.563168 -3.40282e+38  3.40282e+38           \n",
      "   testmodel.c4 frozen    -0.172851 -3.40282e+38  3.40282e+38           \n",
      "   testmodel.m_fac thawed            0 -3.40282e+38  3.40282e+38          ?\n",
      "   testmodel.hstp1 thawed            0 -3.40282e+38  3.40282e+38           \n",
      "   testmodel.hstp2 thawed            0 -3.40282e+38  3.40282e+38           \n",
      "   testmodel.hstp3 thawed            0 -3.40282e+38  3.40282e+38           \n",
      "   testmodel.hstp4 thawed            0 -3.40282e+38  3.40282e+38           \n",
      "   testmodel.xshift1 thawed            0 -3.40282e+38  3.40282e+38           \n",
      "   testmodel.xshift2 thawed            0 -3.40282e+38  3.40282e+38           \n",
      "   testmodel.xshift3 thawed            0 -3.40282e+38  3.40282e+38           \n",
      "   testmodel.xshift4 thawed            0 -3.40282e+38  3.40282e+38           \n"
     ]
    }
   ],
   "source": [
    "# Define the model\n",
    "tmodel = marg.Transit(tzero, MsMpR, c1, c2, c3, c4, flux0, name=\"testmodel\", sh=sh)\n",
    "print(tmodel)"
   ]
  },
  {
   "cell_type": "markdown",
   "metadata": {},
   "source": [
    "### Freeze some parameters\n",
    "\n",
    "Most parameters are currently thawed by default. `omga`, `period`, `tzero` and all the limb darkening parameters `c1`-`c4` have `alwaysfrozen=True` in the class, so that we don't have to explicitly set them to frozen every time. And we'll still need the systematics grid to loop through the different systematic models, but I am leaving that out for now."
   ]
  },
  {
   "cell_type": "code",
   "execution_count": 10,
   "metadata": {},
   "outputs": [
    {
     "name": "stdout",
     "output_type": "stream",
     "text": [
      "testmodel\n",
      "   Param        Type          Value          Min          Max      Units\n",
      "   -----        ----          -----          ---          ---      -----\n",
      "   testmodel.rl thawed     0.121692 -3.40282e+38  3.40282e+38           \n",
      "   testmodel.flux thawed      1.00007 -3.40282e+38  3.40282e+38           \n",
      "   testmodel.epoch frozen        57958 -3.40282e+38  3.40282e+38 days [MJD]\n",
      "   testmodel.inclin frozen      1.52448 -3.40282e+38  3.40282e+38    radians\n",
      "   testmodel.msmpr frozen      2013.65 -3.40282e+38  3.40282e+38           \n",
      "   testmodel.ecc frozen            0 -3.40282e+38  3.40282e+38    degrees\n",
      "   testmodel.omega frozen            0 -3.40282e+38  3.40282e+38    degrees\n",
      "   testmodel.period frozen      3.73549 -3.40282e+38  3.40282e+38       days\n",
      "   testmodel.tzero frozen      57957.9 -3.40282e+38  3.40282e+38 days [MJD]\n",
      "   testmodel.c1 frozen     0.879437 -3.40282e+38  3.40282e+38           \n",
      "   testmodel.c2 frozen    -0.756906 -3.40282e+38  3.40282e+38           \n",
      "   testmodel.c3 frozen     0.563168 -3.40282e+38  3.40282e+38           \n",
      "   testmodel.c4 frozen    -0.172851 -3.40282e+38  3.40282e+38           \n",
      "   testmodel.m_fac frozen            0 -3.40282e+38  3.40282e+38          ?\n",
      "   testmodel.hstp1 frozen            0 -3.40282e+38  3.40282e+38           \n",
      "   testmodel.hstp2 frozen            0 -3.40282e+38  3.40282e+38           \n",
      "   testmodel.hstp3 frozen            0 -3.40282e+38  3.40282e+38           \n",
      "   testmodel.hstp4 frozen            0 -3.40282e+38  3.40282e+38           \n",
      "   testmodel.xshift1 frozen            0 -3.40282e+38  3.40282e+38           \n",
      "   testmodel.xshift2 frozen            0 -3.40282e+38  3.40282e+38           \n",
      "   testmodel.xshift3 frozen            0 -3.40282e+38  3.40282e+38           \n",
      "   testmodel.xshift4 frozen            0 -3.40282e+38  3.40282e+38           \n"
     ]
    }
   ],
   "source": [
    "# Freeze all but rl and flux\n",
    "tmodel.epoch.frozen = True\n",
    "tmodel.inclin.frozen = True\n",
    "tmodel.msmpr.frozen = True\n",
    "tmodel.ecc.frozen = True\n",
    "tmodel.m_fac.frozen = True\n",
    "tmodel.hstp1.frozen = True\n",
    "tmodel.hstp2.frozen = True\n",
    "tmodel.hstp3.frozen = True\n",
    "tmodel.hstp4.frozen = True\n",
    "tmodel.xshift1.frozen = True\n",
    "tmodel.xshift2.frozen = True\n",
    "tmodel.xshift3.frozen = True\n",
    "tmodel.xshift4.frozen = True\n",
    "\n",
    "print(tmodel)"
   ]
  },
  {
   "cell_type": "code",
   "execution_count": 11,
   "metadata": {},
   "outputs": [
    {
     "data": {
      "image/png": "[encoded data removed]",
      "text/plain": [
       "<matplotlib.figure.Figure at 0x1192acd30>"
      ]
     },
     "metadata": {
      "needs_background": "light"
     },
     "output_type": "display_data"
    }
   ],
   "source": [
    "# Plot the model\n",
    "mplot = ModelPlot()\n",
    "mplot.prepare(data, tmodel)\n",
    "mplot.plot()"
   ]
  },
  {
   "cell_type": "markdown",
   "metadata": {},
   "source": [
    "Turns out there are different ways of evaulating a model on an arbitrary grid, check out:  \n",
    "https://sherpa.readthedocs.io/en/4.11.0/evaluation/examples.html#examples"
   ]
  },
  {
   "cell_type": "markdown",
   "metadata": {},
   "source": [
    "### Set up statistics and optimizer"
   ]
  },
  {
   "cell_type": "code",
   "execution_count": 12,
   "metadata": {},
   "outputs": [],
   "source": [
    "stat = Chi2()\n",
    "opt = LevMar()"
   ]
  },
  {
   "cell_type": "markdown",
   "metadata": {},
   "source": [
    "### Set up fit model and make the fit"
   ]
  },
  {
   "cell_type": "code",
   "execution_count": 13,
   "metadata": {},
   "outputs": [
    {
     "name": "stdout",
     "output_type": "stream",
     "text": [
      "datasets       = None\n",
      "itermethodname = none\n",
      "methodname     = levmar\n",
      "statname       = chi2\n",
      "succeeded      = True\n",
      "parnames       = ('testmodel.rl', 'testmodel.flux')\n",
      "parvals        = (0.12400537818707122, 1.000184041666586)\n",
      "statval        = 160.8147308467533\n",
      "istatval       = 395.93070142311257\n",
      "dstatval       = 235.11597057635927\n",
      "numpoints      = 51\n",
      "dof            = 49\n",
      "qval           = 7.957360456678913e-14\n",
      "rstat          = 3.281933282586802\n",
      "message        = successful termination\n",
      "nfev           = 10\n"
     ]
    }
   ],
   "source": [
    "tfit = Fit(data, tmodel, stat=stat, method=opt)    # Instantiate fit object\n",
    "tres = tfit.fit()     # do the fit\n",
    "print(tres)\n",
    "\n",
    "if not tres.succeeded: print(tres.message)"
   ]
  },
  {
   "cell_type": "markdown",
   "metadata": {},
   "source": [
    "In the row `parvals`, we can see that a high number precision is given when dealing with the data. This means that when we see less digits in some of the displays, that will only be becuase of pretty printing.\n",
    "\n",
    "We can also display the results in a formatted way:"
   ]
  },
  {
   "cell_type": "code",
   "execution_count": 14,
   "metadata": {},
   "outputs": [
    {
     "name": "stdout",
     "output_type": "stream",
     "text": [
      "Method                = levmar\n",
      "Statistic             = chi2\n",
      "Initial fit statistic = 395.931\n",
      "Final fit statistic   = 160.815 at function evaluation 10\n",
      "Data points           = 51\n",
      "Degrees of freedom    = 49\n",
      "Probability [Q-value] = 7.95736e-14\n",
      "Reduced statistic     = 3.28193\n",
      "Change in statistic   = 235.116\n",
      "   testmodel.rl   0.124005     +/- 0.000190616 \n",
      "   testmodel.flux   1.00018      +/- 3.74877e-05 \n"
     ]
    }
   ],
   "source": [
    "print(tres.format())"
   ]
  },
  {
   "cell_type": "markdown",
   "metadata": {},
   "source": [
    "### Plot fit over data"
   ]
  },
  {
   "cell_type": "code",
   "execution_count": 15,
   "metadata": {},
   "outputs": [
    {
     "data": {
      "image/png": "[encoded data removed]",
      "text/plain": [
       "<matplotlib.figure.Figure at 0x119d93cc0>"
      ]
     },
     "metadata": {
      "needs_background": "light"
     },
     "output_type": "display_data"
    }
   ],
   "source": [
    "# Plot fit over data\n",
    "fplot = FitPlot()\n",
    "mplot.prepare(data, tmodel)\n",
    "fplot.prepare(dplot, mplot)\n",
    "fplot.plot()"
   ]
  },
  {
   "cell_type": "markdown",
   "metadata": {},
   "source": [
    "### Error analysis\n",
    "\n",
    "The default error estimation analysis method is `covariance`."
   ]
  },
  {
   "cell_type": "code",
   "execution_count": 16,
   "metadata": {},
   "outputs": [
    {
     "name": "stdout",
     "output_type": "stream",
     "text": [
      "name        = covariance\n",
      "sigma       = 1\n",
      "eps         = 0.01\n",
      "maxiters    = 200\n",
      "soft_limits = False\n"
     ]
    }
   ],
   "source": [
    "print(tfit.estmethod)"
   ]
  },
  {
   "cell_type": "code",
   "execution_count": 17,
   "metadata": {},
   "outputs": [],
   "source": [
    "# Run the error analysis\n",
    "errors = tfit.est_errors()"
   ]
  },
  {
   "cell_type": "code",
   "execution_count": 18,
   "metadata": {},
   "outputs": [
    {
     "name": "stdout",
     "output_type": "stream",
     "text": [
      "Confidence Method     = covariance\n",
      "Iterative Fit Method  = None\n",
      "Fitting Method        = levmar\n",
      "Statistic             = chi2\n",
      "covariance 1-sigma (68.2689%) bounds:\n",
      "   Param            Best-Fit  Lower Bound  Upper Bound\n",
      "   -----            --------  -----------  -----------\n",
      "   testmodel.rl     0.124005 -0.000190549  0.000190549\n",
      "   testmodel.flux      1.00018 -3.74761e-05  3.74761e-05\n"
     ]
    }
   ],
   "source": [
    "# Display the errors\n",
    "print(errors.format())"
   ]
  },
  {
   "cell_type": "markdown",
   "metadata": {},
   "source": [
    "This calculates the one-sigma (68.3%) limits for each thawed parameter and the error range can be changed with the `sigma` parameter (https://sherpa.readthedocs.io/en/4.11.0/fit/index.html#changing-the-error-bounds)."
   ]
  },
  {
   "cell_type": "markdown",
   "metadata": {},
   "source": [
    "We can directly access the errors:"
   ]
  },
  {
   "cell_type": "code",
   "execution_count": 19,
   "metadata": {},
   "outputs": [
    {
     "name": "stdout",
     "output_type": "stream",
     "text": [
      "datasets    = None\n",
      "methodname  = covariance\n",
      "iterfitname = none\n",
      "fitname     = levmar\n",
      "statname    = chi2\n",
      "sigma       = 1\n",
      "percent     = 68.26894921370858\n",
      "parnames    = ('testmodel.rl', 'testmodel.flux')\n",
      "parvals     = (0.12400537818707122, 1.000184041666586)\n",
      "parmins     = (-0.00019054946406710986, -3.7476063025420445e-05)\n",
      "parmaxes    = (0.00019054946406710986, 3.7476063025420445e-05)\n",
      "nfits       = 0\n"
     ]
    }
   ],
   "source": [
    "# Just showing the full (unformatted) output\n",
    "print(errors)"
   ]
  },
  {
   "cell_type": "code",
   "execution_count": 20,
   "metadata": {},
   "outputs": [
    {
     "name": "stdout",
     "output_type": "stream",
     "text": [
      "{'val': 0.12400537818707122, 'min': -0.00019054946406710986, 'max': 0.00019054946406710986}\n"
     ]
    }
   ],
   "source": [
    "# Access the errors in dictionary\n",
    "dvals = zip(errors.parnames, errors.parvals, errors.parmins,\n",
    "errors.parmaxes)\n",
    "pvals = {d[0]: {'val': d[1], 'min': d[2], 'max': d[3]} for d in dvals}\n",
    "\n",
    "print(pvals['testmodel.rl'])"
   ]
  },
  {
   "cell_type": "markdown",
   "metadata": {},
   "source": [
    "In order to save time, we an restrict the error calculation to only the paremeters we need:"
   ]
  },
  {
   "cell_type": "code",
   "execution_count": 21,
   "metadata": {},
   "outputs": [
    {
     "name": "stdout",
     "output_type": "stream",
     "text": [
      "datasets    = None\n",
      "methodname  = covariance\n",
      "iterfitname = none\n",
      "fitname     = levmar\n",
      "statname    = chi2\n",
      "sigma       = 1\n",
      "percent     = 68.26894921370858\n",
      "parnames    = ('testmodel.rl',)\n",
      "parvals     = (0.12400537818707122,)\n",
      "parmins     = (-0.00019054946406710986,)\n",
      "parmaxes    = (0.00019054946406710986,)\n",
      "nfits       = 0\n"
     ]
    }
   ],
   "source": [
    "rl_err = tfit.est_errors(parlist=(tmodel.rl,))\n",
    "print(rl_err)"
   ]
  },
  {
   "cell_type": "markdown",
   "metadata": {},
   "source": [
    "More on errors, also on how to investigate error surfaces or do contour plots is described here:  \n",
    "https://sherpa.readthedocs.io/en/4.11.0/quick.html#error-analysis  \n",
    "and here:  \n",
    "https://sherpa.readthedocs.io/en/4.11.0/fit/index.html#estimating-errors"
   ]
  },
  {
   "cell_type": "markdown",
   "metadata": {},
   "source": [
    "## Results for thawed rl and flux\n",
    "\n",
    "Lets print the value and error results for the fitting of `rl` and `flux`, so that we can compare them with the IDL results."
   ]
  },
  {
   "cell_type": "code",
   "execution_count": 22,
   "metadata": {},
   "outputs": [
    {
     "name": "stdout",
     "output_type": "stream",
     "text": [
      "rl after fit:\n",
      "{'val': 0.12400537818707122, 'min': -0.00019054946406710986, 'max': 0.00019054946406710986}\n",
      "\n",
      "flux after fit:\n",
      "{'val': 1.000184041666586, 'min': -3.7476063025420445e-05, 'max': 3.7476063025420445e-05}\n"
     ]
    }
   ],
   "source": [
    "ans = dict(zip(tres.parnames, tres.parvals))\n",
    "\n",
    "print('rl after fit:')\n",
    "print(pvals['testmodel.rl'])\n",
    "\n",
    "print('\\nflux after fit:')\n",
    "print(pvals['testmodel.flux'])"
   ]
  },
  {
   "cell_type": "markdown",
   "metadata": {},
   "source": [
    "### Resetting the model parameters\n",
    "\n",
    "Initially, we had `rl = 0.121692` and `flux = 1.00007`. After the fit, we had this (`rl = 0.124005` and `flux = 1.00018`):"
   ]
  },
  {
   "cell_type": "code",
   "execution_count": 23,
   "metadata": {},
   "outputs": [
    {
     "name": "stdout",
     "output_type": "stream",
     "text": [
      "testmodel\n",
      "   Param        Type          Value          Min          Max      Units\n",
      "   -----        ----          -----          ---          ---      -----\n",
      "   testmodel.rl thawed     0.124005 -3.40282e+38  3.40282e+38           \n",
      "   testmodel.flux thawed      1.00018 -3.40282e+38  3.40282e+38           \n",
      "   testmodel.epoch frozen        57958 -3.40282e+38  3.40282e+38 days [MJD]\n",
      "   testmodel.inclin frozen      1.52448 -3.40282e+38  3.40282e+38    radians\n",
      "   testmodel.msmpr frozen      2013.65 -3.40282e+38  3.40282e+38           \n",
      "   testmodel.ecc frozen            0 -3.40282e+38  3.40282e+38    degrees\n",
      "   testmodel.omega frozen            0 -3.40282e+38  3.40282e+38    degrees\n",
      "   testmodel.period frozen      3.73549 -3.40282e+38  3.40282e+38       days\n",
      "   testmodel.tzero frozen      57957.9 -3.40282e+38  3.40282e+38 days [MJD]\n",
      "   testmodel.c1 frozen     0.879437 -3.40282e+38  3.40282e+38           \n",
      "   testmodel.c2 frozen    -0.756906 -3.40282e+38  3.40282e+38           \n",
      "   testmodel.c3 frozen     0.563168 -3.40282e+38  3.40282e+38           \n",
      "   testmodel.c4 frozen    -0.172851 -3.40282e+38  3.40282e+38           \n",
      "   testmodel.m_fac frozen            0 -3.40282e+38  3.40282e+38          ?\n",
      "   testmodel.hstp1 frozen            0 -3.40282e+38  3.40282e+38           \n",
      "   testmodel.hstp2 frozen            0 -3.40282e+38  3.40282e+38           \n",
      "   testmodel.hstp3 frozen            0 -3.40282e+38  3.40282e+38           \n",
      "   testmodel.hstp4 frozen            0 -3.40282e+38  3.40282e+38           \n",
      "   testmodel.xshift1 frozen            0 -3.40282e+38  3.40282e+38           \n",
      "   testmodel.xshift2 frozen            0 -3.40282e+38  3.40282e+38           \n",
      "   testmodel.xshift3 frozen            0 -3.40282e+38  3.40282e+38           \n",
      "   testmodel.xshift4 frozen            0 -3.40282e+38  3.40282e+38           \n"
     ]
    }
   ],
   "source": [
    "print(tmodel)"
   ]
  },
  {
   "cell_type": "markdown",
   "metadata": {},
   "source": [
    "We can reset the model parameters to their initial values."
   ]
  },
  {
   "cell_type": "code",
   "execution_count": 24,
   "metadata": {},
   "outputs": [
    {
     "name": "stdout",
     "output_type": "stream",
     "text": [
      "testmodel\n",
      "   Param        Type          Value          Min          Max      Units\n",
      "   -----        ----          -----          ---          ---      -----\n",
      "   testmodel.rl thawed     0.121692 -3.40282e+38  3.40282e+38           \n",
      "   testmodel.flux thawed      1.00007 -3.40282e+38  3.40282e+38           \n",
      "   testmodel.epoch frozen        57958 -3.40282e+38  3.40282e+38 days [MJD]\n",
      "   testmodel.inclin frozen      1.52448 -3.40282e+38  3.40282e+38    radians\n",
      "   testmodel.msmpr frozen      2013.65 -3.40282e+38  3.40282e+38           \n",
      "   testmodel.ecc frozen            0 -3.40282e+38  3.40282e+38    degrees\n",
      "   testmodel.omega frozen            0 -3.40282e+38  3.40282e+38    degrees\n",
      "   testmodel.period frozen      3.73549 -3.40282e+38  3.40282e+38       days\n",
      "   testmodel.tzero frozen      57957.9 -3.40282e+38  3.40282e+38 days [MJD]\n",
      "   testmodel.c1 frozen     0.879437 -3.40282e+38  3.40282e+38           \n",
      "   testmodel.c2 frozen    -0.756906 -3.40282e+38  3.40282e+38           \n",
      "   testmodel.c3 frozen     0.563168 -3.40282e+38  3.40282e+38           \n",
      "   testmodel.c4 frozen    -0.172851 -3.40282e+38  3.40282e+38           \n",
      "   testmodel.m_fac frozen            0 -3.40282e+38  3.40282e+38          ?\n",
      "   testmodel.hstp1 frozen            0 -3.40282e+38  3.40282e+38           \n",
      "   testmodel.hstp2 frozen            0 -3.40282e+38  3.40282e+38           \n",
      "   testmodel.hstp3 frozen            0 -3.40282e+38  3.40282e+38           \n",
      "   testmodel.hstp4 frozen            0 -3.40282e+38  3.40282e+38           \n",
      "   testmodel.xshift1 frozen            0 -3.40282e+38  3.40282e+38           \n",
      "   testmodel.xshift2 frozen            0 -3.40282e+38  3.40282e+38           \n",
      "   testmodel.xshift3 frozen            0 -3.40282e+38  3.40282e+38           \n",
      "   testmodel.xshift4 frozen            0 -3.40282e+38  3.40282e+38           \n"
     ]
    }
   ],
   "source": [
    "tmodel.reset()\n",
    "print(tmodel)"
   ]
  },
  {
   "cell_type": "code",
   "execution_count": null,
   "metadata": {},
   "outputs": [],
   "source": []
  },
  {
   "cell_type": "code",
   "execution_count": null,
   "metadata": {},
   "outputs": [],
   "source": []
  }
 ],
 "metadata": {
  "kernelspec": {
   "display_name": "Python 3",
   "language": "python",
   "name": "python3"
  },
  "language_info": {
   "codemirror_mode": {
    "name": "ipython",
    "version": 3
   },
   "file_extension": ".py",
   "mimetype": "text/x-python",
   "name": "python",
   "nbconvert_exporter": "python",
   "pygments_lexer": "ipython3",
   "version": "3.6.8"
  }
 },
 "nbformat": 4,
 "nbformat_minor": 2
}
