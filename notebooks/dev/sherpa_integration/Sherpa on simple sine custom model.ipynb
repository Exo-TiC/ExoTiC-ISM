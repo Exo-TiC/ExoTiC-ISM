{
 "cells": [
  {
   "cell_type": "markdown",
   "metadata": {},
   "source": [
    "# Sherpa on simple sine custom model\n",
    "\n",
    "Let's first see whether I can make this work on a simple custom model with only two parameters: a sine with an amplitude `arg` and phase `ph`.\n",
    "\n",
    "Following this example;\n",
    "\n",
    "https://sherpa.readthedocs.io/en/4.11.0/quick.html\n",
    "\n",
    "While taking this as template for custom model:\n",
    "\n",
    "https://sherpa.readthedocs.io/en/4.11.0/model_classes/usermodel.html#usermodel"
   ]
  },
  {
   "cell_type": "code",
   "execution_count": null,
   "metadata": {},
   "outputs": [],
   "source": [
    "import numpy as np\n",
    "import matplotlib.pyplot as plt\n",
    "\n",
    "from sherpa.models import model\n",
    "from sherpa.data import Data1D\n",
    "from sherpa.plot import DataPlot\n",
    "from sherpa.plot import ModelPlot\n",
    "from sherpa.fit import Fit\n",
    "from sherpa.stats import LeastSq\n",
    "from sherpa.optmethods import LevMar\n",
    "from sherpa.stats import Chi2\n",
    "from sherpa.plot import FitPlot"
   ]
  },
  {
   "cell_type": "markdown",
   "metadata": {},
   "source": [
    "## Define the custom model\n",
    "\n",
    "### First the sine function taking all params and an independent variable"
   ]
  },
  {
   "cell_type": "code",
   "execution_count": null,
   "metadata": {},
   "outputs": [],
   "source": [
    "def _make_sine(pars, x):\n",
    "    \"\"\"Test function\"\"\"\n",
    "    (arg, ph) = pars\n",
    "    y = arg * np.sin(x + ph)\n",
    "    return y"
   ]
  },
  {
   "cell_type": "markdown",
   "metadata": {},
   "source": [
    "### Now the custom model class"
   ]
  },
  {
   "cell_type": "code",
   "execution_count": null,
   "metadata": {},
   "outputs": [],
   "source": [
    "class SineTest(model.RegriddableModel1D):\n",
    "    \"\"\"Test model class\"\"\"\n",
    "    \n",
    "    def __init__(self, name='sine'):\n",
    "        self.arg = model.Parameter(name, 'arg', 2, min=0.1, hard_min=0)\n",
    "        self.ph = model.Parameter(name, 'ph', np.pi)\n",
    "\n",
    "        model.RegriddableModel1D.__init__(self, name,\n",
    "                                          (self.arg, self.ph))\n",
    "\n",
    "    def calc(self, pars, x, *args, **kwargs):\n",
    "        \"\"\"Evaluate the model\"\"\"\n",
    "\n",
    "        # If given an integrated data set, use the center of the bin\n",
    "        if len(args) == 1:\n",
    "            x = (x + args[0]) / 2\n",
    "\n",
    "        return _make_sine(pars, x)"
   ]
  },
  {
   "cell_type": "markdown",
   "metadata": {},
   "source": [
    "## Create test data\n",
    "\n",
    "And display with `matplotlib`"
   ]
  },
  {
   "cell_type": "code",
   "execution_count": null,
   "metadata": {},
   "outputs": [],
   "source": [
    "np.random.seed(0)\n",
    "x = np.linspace(-5., 5., 200)\n",
    "arg_true = 3\n",
    "ph_true = np.pi + np.pi/3\n",
    "sigma_true = 0.8\n",
    "err_true = 1.\n",
    "\n",
    "y = arg_true * np.sin(x + ph_true)\n",
    "y += np.random.normal(0., err_true, x.shape)\n",
    "\n",
    "plt.scatter(x, y, s=3)\n",
    "plt.title('Fake data')"
   ]
  },
  {
   "cell_type": "markdown",
   "metadata": {},
   "source": [
    "## Create data object\n",
    "And display the data with `sherpa`."
   ]
  },
  {
   "cell_type": "code",
   "execution_count": null,
   "metadata": {},
   "outputs": [],
   "source": [
    "d = Data1D('example_sine', x, y)   # create data object\n",
    "dplot = DataPlot()         # create data *plot* object\n",
    "dplot.prepare(d)   # prepare plot\n",
    "dplot.plot()"
   ]
  },
  {
   "cell_type": "markdown",
   "metadata": {},
   "source": [
    "## Define the model"
   ]
  },
  {
   "cell_type": "code",
   "execution_count": null,
   "metadata": {},
   "outputs": [],
   "source": [
    "s = SineTest()\n",
    "print(s)"
   ]
  },
  {
   "cell_type": "markdown",
   "metadata": {},
   "source": [
    "Visualize the model."
   ]
  },
  {
   "cell_type": "code",
   "execution_count": null,
   "metadata": {},
   "outputs": [],
   "source": [
    "mplot = ModelPlot()\n",
    "mplot.prepare(d, s)\n",
    "mplot.plot()"
   ]
  },
  {
   "cell_type": "markdown",
   "metadata": {},
   "source": [
    "You can also combine the two plot results to see how good or bad the current model is."
   ]
  },
  {
   "cell_type": "code",
   "execution_count": null,
   "metadata": {},
   "outputs": [],
   "source": [
    "dplot.plot()\n",
    "mplot.overplot()"
   ]
  },
  {
   "cell_type": "markdown",
   "metadata": {},
   "source": [
    "## Select the statistics\n",
    "\n",
    "Let's do a least-squares statistic, which calculates the numerical difference of the model to the data for each point:"
   ]
  },
  {
   "cell_type": "code",
   "execution_count": null,
   "metadata": {},
   "outputs": [],
   "source": [
    "stat = LeastSq()"
   ]
  },
  {
   "cell_type": "markdown",
   "metadata": {},
   "source": [
    "## Select optimization\n",
    "\n",
    "Using Levenberg-Marquardt:"
   ]
  },
  {
   "cell_type": "code",
   "execution_count": null,
   "metadata": {},
   "outputs": [],
   "source": [
    "opt = LevMar()\n",
    "print(opt)"
   ]
  },
  {
   "cell_type": "markdown",
   "metadata": {},
   "source": [
    "## Fit ithe data\n",
    "\n",
    "### Set up the fit"
   ]
  },
  {
   "cell_type": "code",
   "execution_count": null,
   "metadata": {},
   "outputs": [],
   "source": [
    "sfit = Fit(d, s, stat=stat, method=opt)\n",
    "print(sfit)"
   ]
  },
  {
   "cell_type": "markdown",
   "metadata": {},
   "source": [
    "### Actually fit the data"
   ]
  },
  {
   "cell_type": "code",
   "execution_count": null,
   "metadata": {},
   "outputs": [],
   "source": [
    "sres = sfit.fit()\n",
    "print(\"Fit succeeded?\")\n",
    "print(sres.succeeded)"
   ]
  },
  {
   "cell_type": "code",
   "execution_count": null,
   "metadata": {},
   "outputs": [],
   "source": [
    "# Show fit results\n",
    "print(sres.format())"
   ]
  },
  {
   "cell_type": "markdown",
   "metadata": {},
   "source": [
    "The `LevMar` optimiser calculates the covariance matrix at the best-fit location, and the errors from this are reported in the output from the call to the `fit()` method. In this particular case - which uses the `LeastSq` statistic - the error estimates do not have much meaning. As discussed below, Sherpa can make use of error estimates on the data to calculate meaningful parameter errors."
   ]
  },
  {
   "cell_type": "code",
   "execution_count": null,
   "metadata": {},
   "outputs": [],
   "source": [
    "# Plot the fit over the data\n",
    "fplot = FitPlot()\n",
    "mplot.prepare(d, s)\n",
    "fplot.prepare(dplot, mplot)\n",
    "fplot.plot()"
   ]
  },
  {
   "cell_type": "code",
   "execution_count": null,
   "metadata": {},
   "outputs": [],
   "source": [
    "# Extracting the parameter values\n",
    "print(sres)"
   ]
  },
  {
   "cell_type": "code",
   "execution_count": null,
   "metadata": {},
   "outputs": [],
   "source": [
    "ans = dict(zip(sres.parnames, sres.parvals))\n",
    "print(ans)"
   ]
  },
  {
   "cell_type": "code",
   "execution_count": null,
   "metadata": {},
   "outputs": [],
   "source": [
    "print(\"The fitted parameter 'arg' is: {:.2f}\".format(ans['sine.arg']))"
   ]
  },
  {
   "cell_type": "markdown",
   "metadata": {},
   "source": [
    "The model, and its parameter values, can alsobe queried directly, as they have been changed by the fit:"
   ]
  },
  {
   "cell_type": "code",
   "execution_count": null,
   "metadata": {},
   "outputs": [],
   "source": [
    "print(s)"
   ]
  },
  {
   "cell_type": "code",
   "execution_count": null,
   "metadata": {},
   "outputs": [],
   "source": [
    "print(s.arg)"
   ]
  },
  {
   "cell_type": "markdown",
   "metadata": {},
   "source": [
    "## Including errors"
   ]
  },
  {
   "cell_type": "code",
   "execution_count": null,
   "metadata": {},
   "outputs": [],
   "source": [
    "dy = np.ones(x.size) * err_true\n",
    "\n",
    "# Create data with errors\n",
    "de = Data1D('sine-w-errors', x, y, staterror=dy)\n",
    "print(de)\n",
    "\n",
    "# Plot the data - it will have error bars now\n",
    "deplot = DataPlot()         # create data *plot* object\n",
    "deplot.prepare(de)   # prepare plot\n",
    "deplot.plot()"
   ]
  },
  {
   "cell_type": "markdown",
   "metadata": {},
   "source": [
    "The statistic is changed from least squares to chi-square (Chi2), to take advantage of this extra knowledge (i.e. the Chi-square statistic includes the error value per bin when calculating the statistic value):"
   ]
  },
  {
   "cell_type": "code",
   "execution_count": null,
   "metadata": {},
   "outputs": [],
   "source": [
    "ustat = Chi2()"
   ]
  },
  {
   "cell_type": "code",
   "execution_count": null,
   "metadata": {},
   "outputs": [],
   "source": [
    "# Do the fit\n",
    "se = SineTest(\"sine-err\")\n",
    "sefit = Fit(de, se, stat=ustat, method=opt)\n",
    "seres = sefit.fit()\n",
    "print(seres.format())\n",
    "if not seres.succeeded: print(seres.message)"
   ]
  },
  {
   "cell_type": "markdown",
   "metadata": {},
   "source": [
    "Since the error value is independent of bin, then the fit results should be the same here (that is, the parameters in `s` are the same as `se`):"
   ]
  },
  {
   "cell_type": "code",
   "execution_count": null,
   "metadata": {},
   "outputs": [],
   "source": [
    "print(s)\n",
    "print(se)"
   ]
  },
  {
   "cell_type": "markdown",
   "metadata": {},
   "source": [
    "The difference is that more of the fields in the result structure are populated: in particular the rstat and qval fields, which give the reduced statistic and the probability of obtaining this statistic value respectively.:"
   ]
  },
  {
   "cell_type": "code",
   "execution_count": null,
   "metadata": {},
   "outputs": [],
   "source": [
    "print(seres)"
   ]
  },
  {
   "cell_type": "markdown",
   "metadata": {},
   "source": [
    "## Errors from Hessian"
   ]
  },
  {
   "cell_type": "code",
   "execution_count": null,
   "metadata": {},
   "outputs": [],
   "source": [
    "calc_errors = np.sqrt(seres.extra_output['covar'].diagonal())\n",
    "\n",
    "arg_err = calc_errors[0]\n",
    "ph_err = calc_errors[1]\n",
    "\n",
    "print('arg_err: {}'.format(arg_err))\n",
    "print('ph_err: {}'.format(ph_err))"
   ]
  },
  {
   "cell_type": "markdown",
   "metadata": {},
   "source": [
    "## More thorough error analysis\n",
    "\n",
    "Proceed as in:\n",
    "\n",
    "https://sherpa.readthedocs.io/en/4.11.0/quick.html#error-analysis"
   ]
  },
  {
   "cell_type": "markdown",
   "metadata": {},
   "source": [
    "## More stuff:\n",
    "\n",
    "On the data class:\n",
    "https://sherpa.readthedocs.io/en/4.11.0/data/index.html\n",
    "\n",
    "Model instances - freezing and thawgin parameters, ressetting them, limits, etc.:\n",
    "https://sherpa.readthedocs.io/en/4.11.0/models/index.html#\n",
    "\n",
    "Evaluating the model:\n",
    "https://sherpa.readthedocs.io/en/4.11.0/evaluation/index.html"
   ]
  },
  {
   "cell_type": "code",
   "execution_count": null,
   "metadata": {},
   "outputs": [],
   "source": []
  }
 ],
 "metadata": {
  "kernelspec": {
   "display_name": "Python 3",
   "language": "python",
   "name": "python3"
  },
  "language_info": {
   "codemirror_mode": {
    "name": "ipython",
    "version": 3
   },
   "file_extension": ".py",
   "mimetype": "text/x-python",
   "name": "python",
   "nbconvert_exporter": "python",
   "pygments_lexer": "ipython3",
   "version": "3.7.3"
  }
 },
 "nbformat": 4,
 "nbformat_minor": 2
}
