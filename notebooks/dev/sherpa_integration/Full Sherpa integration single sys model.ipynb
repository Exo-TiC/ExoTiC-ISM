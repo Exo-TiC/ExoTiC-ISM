{
 "cells": [
  {
   "cell_type": "markdown",
   "metadata": {},
   "source": [
    "# Full Sherpa integration on a single systematic model\n",
    "\n",
    "We revamped the entire main marginalization script to run with Sherpa. The script runs, but it is very slow to run on all 50 systems and there's also a lot of details we have to iron out. In this notebook, I will use a single systematic model to go through the entire thing and fix bugs."
   ]
  },
  {
   "cell_type": "code",
   "execution_count": null,
   "metadata": {},
   "outputs": [],
   "source": [
    "# Imports\n",
    "import numpy as np\n",
    "import os\n",
    "import time\n",
    "import sys\n",
    "import matplotlib.pyplot as plt\n",
    "%matplotlib inline\n",
    "import astropy.units as u\n",
    "from astropy.constants import G\n",
    "\n",
    "from sherpa.data import Data1D\n",
    "from sherpa.plot import DataPlot\n",
    "from sherpa.plot import ModelPlot\n",
    "from sherpa.optmethods import LevMar, NelderMead\n",
    "from sherpa.stats import Chi2\n",
    "from sherpa.fit import Fit\n",
    "from sherpa.estmethods import Confidence\n",
    "\n",
    "os.chdir('../../../exotic-ism')\n",
    "from config import CONFIG_INI\n",
    "from limb_darkening import limb_dark_fit\n",
    "import margmodule as marg"
   ]
  },
  {
   "cell_type": "markdown",
   "metadata": {},
   "source": [
    "## Read inputs\n",
    "\n",
    "### Configfile\n",
    "\n",
    "We will first need to read a couple of things from the local configuration file. Make sure you know which one you're reading from (`config.ini` or `config_local.ini`) and that your parameters in there are correct."
   ]
  },
  {
   "cell_type": "code",
   "execution_count": null,
   "metadata": {},
   "outputs": [],
   "source": [
    "# Set up the paths\n",
    "localDir = CONFIG_INI.get('data_paths', 'local_path')\n",
    "outDir = CONFIG_INI.get('data_paths', 'output_path')\n",
    "curr_model = CONFIG_INI.get('setup', 'data_set')\n",
    "dataDir = os.path.join(CONFIG_INI.get('data_paths', 'input_path'), curr_model)\n",
    "\n",
    "print('localDir: {}'.format(localDir))\n",
    "print('outDir: {}'.format(outDir))\n",
    "print('curr_model: {}'.format(curr_model))\n",
    "print('dataDir: {}'.format(dataDir))\n",
    "\n",
    "# What to call the run and whether to turn plotting on\n",
    "run_name = CONFIG_INI.get('data_paths', 'run_name')\n",
    "plotting = CONFIG_INI.getboolean('setup', 'plotting')\n",
    "\n",
    "print('run_name: {}'.format(run_name))\n",
    "print('plotting: {}'.format(plotting))"
   ]
  },
  {
   "cell_type": "code",
   "execution_count": null,
   "metadata": {},
   "outputs": [],
   "source": [
    "# Parameters for smooth model\n",
    "resolution = CONFIG_INI.getfloat('smooth_model', 'resolution')\n",
    "half_range = CONFIG_INI.getfloat('smooth_model', 'half_range')\n",
    "\n",
    "print('The smooth model will have {} data points.'.format(2 * half_range / resolution))"
   ]
  },
  {
   "cell_type": "markdown",
   "metadata": {},
   "source": [
    "### Data\n",
    "\n",
    "The x-array containsn the dates of observation, the y-array contains the flux, err is the error on the flux and sh contains systematic shifts."
   ]
  },
  {
   "cell_type": "code",
   "execution_count": null,
   "metadata": {},
   "outputs": [],
   "source": [
    "# Read the data\n",
    "get_timeseries = CONFIG_INI.get(curr_model, 'lightcurve_file')\n",
    "get_wvln = CONFIG_INI.get(curr_model, 'wvln_file')\n",
    "x, y, err, sh = np.loadtxt(os.path.join(dataDir, get_timeseries), skiprows=7, unpack=True)\n",
    "wavelength = np.loadtxt(os.path.join(dataDir, get_wvln), skiprows=3)\n",
    "\n",
    "print('Data: {}'.format(curr_model))\n",
    "print('x:\\n{}'.format(x))\n",
    "print('y:\\n{}'.format(y))\n",
    "print('err:\\n{}'.format(err))\n",
    "print('sh:\\n{}'.format(sh))"
   ]
  },
  {
   "cell_type": "code",
   "execution_count": null,
   "metadata": {},
   "outputs": [],
   "source": [
    "# Plot the raw data\n",
    "plt.scatter(x, y, marker='o')\n",
    "plt.title('Input data')"
   ]
  },
  {
   "cell_type": "code",
   "execution_count": null,
   "metadata": {},
   "outputs": [],
   "source": [
    "# Plot data with errorbars\n",
    "plt.errorbar(x, y, yerr=err)\n",
    "plt.title('Input data with error bars')"
   ]
  },
  {
   "cell_type": "markdown",
   "metadata": {},
   "source": [
    "The errorbars are so small, we can barely see them."
   ]
  },
  {
   "cell_type": "code",
   "execution_count": null,
   "metadata": {},
   "outputs": [],
   "source": [
    "# Plot the errors (because why not)\n",
    "plt.plot(x, err)\n",
    "plt.title('Input statistical errors')"
   ]
  },
  {
   "cell_type": "markdown",
   "metadata": {},
   "source": [
    "Since the given errors are just photon noise, which is the square root of the signal, the errors also look like a transit curve."
   ]
  },
  {
   "cell_type": "code",
   "execution_count": null,
   "metadata": {},
   "outputs": [],
   "source": [
    "# Display the systematic shift\n",
    "plt.scatter(x, sh, marker='o')\n",
    "plt.hlines(0, np.amin(x), np.amax(x), linestyle='dashed', color='r')\n",
    "plt.title('Systematic shift')"
   ]
  },
  {
   "cell_type": "markdown",
   "metadata": {},
   "source": [
    "### Constants and planet starting parameters"
   ]
  },
  {
   "cell_type": "code",
   "execution_count": null,
   "metadata": {},
   "outputs": [],
   "source": [
    "# READ THE CONSTANTS\n",
    "HST_period = CONFIG_INI.getfloat('constants', 'HST_period') * u.d\n",
    "\n",
    "# We want to keep the raw data as is, so we generate helper arrays that will get changed from model to model\n",
    "img_date = x * u.d    # time array\n",
    "img_flux = y    # flux array\n",
    "flux0 = y[0]   # first flux data point\n",
    "tzero = x[0] * u.d      # first time data point\n",
    "nexposure = len(img_date)   # Total number of exposures in the observation\n",
    "\n",
    "print('HST_period: {}'.format(HST_period))\n",
    "print('flux0: {}'.format(flux0))\n",
    "print('tzero: {}'.format(tzero))\n",
    "print('nexposure: {}'.format(nexposure))"
   ]
  },
  {
   "cell_type": "code",
   "execution_count": null,
   "metadata": {},
   "outputs": [],
   "source": [
    "# Planet starting parameters that are not directly read in the model\n",
    "Per = CONFIG_INI.getfloat(curr_model, 'Per') * u.d    # period, converted to seconds in next line\n",
    "Per = Per.to(u.s)\n",
    "\n",
    "constant1 = ((G * np.square(Per)) / (4 * np.square(np.pi))) ** (1 / 3)\n",
    "aor = CONFIG_INI.getfloat(curr_model, 'aor')    # this is unitless -> \"distance of the planet from the star (meters)/stellar radius (meters)\"\n",
    "MsMpR = (aor / constant1) ** 3.     # density of the system in kg/m^3 \"(Mass of star (kg) + Mass of planet (kg))/(Radius of star (m)^3)\"\n",
    "\n",
    "print('Per: {}'.format(Per))\n",
    "print('aor: {}'.format(aor))\n",
    "print('MsMpR: {}'.format(MsMpR))"
   ]
  },
  {
   "cell_type": "markdown",
   "metadata": {},
   "source": [
    "## Limb darkening\n",
    "\n",
    "Note how this is the only place in which we use the `wavelength` array."
   ]
  },
  {
   "cell_type": "code",
   "execution_count": null,
   "metadata": {},
   "outputs": [],
   "source": [
    "# Limb darkening\n",
    "M_H = CONFIG_INI.getfloat(curr_model, 'metallicity')    # metallicity\n",
    "Teff = CONFIG_INI.getfloat(curr_model, 'Teff')   # effective temperature\n",
    "logg = CONFIG_INI.getfloat(curr_model, 'logg')   # log(g), gravitation\n",
    "\n",
    "print('M_H: {}'.format(M_H))\n",
    "print('Teff: {}'.format(Teff))\n",
    "print('logg: {}'.format(logg))\n",
    "\n",
    "# Define limb darkening directory, which is inside this package\n",
    "limbDir = os.path.join('..', 'Limb-darkening')\n",
    "ld_model = CONFIG_INI.get('setup', 'ld_model')\n",
    "grat = CONFIG_INI.get('setup', 'grating')\n",
    "\n",
    "print('limbDir: {}'.format(limbDir))\n",
    "print('ld_model: {}'.format(ld_model))\n",
    "print('grat: {}'.format(grat))\n",
    "\n",
    "_uLD, c1, c2, c3, c4, _cp1, _cp2, _cp3, _cp4, _aLD, _bLD = limb_dark_fit(grat, wavelength, M_H, Teff,\n",
    "                                                                         logg, limbDir, ld_model)\n",
    "\n",
    "print('\\nc1 - c4: {}, {}, {}, {}'.format(c1, c2, c3, c4))"
   ]
  },
  {
   "cell_type": "markdown",
   "metadata": {},
   "source": [
    "## Read grid of systematic models\n",
    "\n",
    "The grid contains all systematic models that we want to fit and at the end run the marginalization over. In each systematic model, a different set of model parameters is thawed to be fit for or frozen to be kept fixed."
   ]
  },
  {
   "cell_type": "code",
   "execution_count": null,
   "metadata": {},
   "outputs": [],
   "source": [
    "# SELECT THE SYSTEMATIC GRID OF MODELS TO USE\n",
    "# 1 in the grid means the parameter is fixed, 0 means it is free\n",
    "# grid_selection: either one from 'fix_time', 'fit_time', 'fit_inclin', 'fit_msmpr' or 'fit_ecc'\n",
    "grid_selection = CONFIG_INI.get('setup', 'grid_selection')\n",
    "grid = marg.wfc3_systematic_model_grid_selection(grid_selection)\n",
    "nsys, nparams = grid.shape\n",
    "\n",
    "print('Grid selection: {}'.format(grid_selection))\n",
    "print('nsys: {}'.format(nsys))\n",
    "print('nparams: {}'.format(nparams))"
   ]
  },
  {
   "cell_type": "markdown",
   "metadata": {},
   "source": [
    "## Set up Sherpa and book keeping\n",
    "\n",
    "### Arrays for scatter and fit parameter results"
   ]
  },
  {
   "cell_type": "code",
   "execution_count": null,
   "metadata": {},
   "outputs": [],
   "source": [
    "#  SET UP THE ARRAYS\n",
    "# save arrays for the first step through to get the err inflation\n",
    "w_scatter = np.zeros(nsys)\n",
    "w_params = np.zeros((nsys, nparams))\n",
    "\n",
    "print('w_scatter.shape: {}'.format(w_scatter.shape))\n",
    "print('w_params.shape: {}'.format(w_params.shape))"
   ]
  },
  {
   "cell_type": "markdown",
   "metadata": {},
   "source": [
    "### Sherpa data object\n",
    "\n",
    "Feed our data that we read in into a Sherpa data object."
   ]
  },
  {
   "cell_type": "code",
   "execution_count": null,
   "metadata": {},
   "outputs": [],
   "source": [
    "# Set up the Sherpa data model\n",
    "# Instantiate a data object\n",
    "tdata = Data1D('Data', x, y, staterror=err)\n",
    "print('Data object')\n",
    "print(tdata)"
   ]
  },
  {
   "cell_type": "code",
   "execution_count": null,
   "metadata": {},
   "outputs": [],
   "source": [
    "# Plot the data with Sherpa\n",
    "dplot = DataPlot()\n",
    "dplot.prepare(tdata)\n",
    "dplot.plot()"
   ]
  },
  {
   "cell_type": "markdown",
   "metadata": {},
   "source": [
    "Print the statistical errors of the model."
   ]
  },
  {
   "cell_type": "code",
   "execution_count": null,
   "metadata": {},
   "outputs": [],
   "source": [
    "print(tdata.staterror)"
   ]
  },
  {
   "cell_type": "markdown",
   "metadata": {},
   "source": [
    "### Sherpa transit model object\n",
    "\n",
    "Instantiate a Sherpa model object with our custon transit model."
   ]
  },
  {
   "cell_type": "code",
   "execution_count": null,
   "metadata": {},
   "outputs": [],
   "source": [
    "print(tzero)\n",
    "print(MsMpR)\n",
    "print(c1)\n",
    "print(c2)\n",
    "print(flux0)"
   ]
  },
  {
   "cell_type": "code",
   "execution_count": null,
   "metadata": {},
   "outputs": [],
   "source": [
    "# Set up the Sherpa transit model\n",
    "tmodel = marg.Transit(tzero, MsMpR, c1, c2, c3, c4, flux0, name=\"TransitModel\", sh=sh)\n",
    "print('Starting parameters for the transit model:\\n')\n",
    "print(tmodel)"
   ]
  },
  {
   "cell_type": "code",
   "execution_count": null,
   "metadata": {},
   "outputs": [],
   "source": [
    "# Plot the model\n",
    "mplot = ModelPlot()\n",
    "mplot.prepare(tdata, tmodel)\n",
    "mplot.plot()"
   ]
  },
  {
   "cell_type": "markdown",
   "metadata": {},
   "source": [
    "### Statistics and optimizer\n",
    "\n",
    "We will use a chi squared statistic with a Levenberg-Marquardt optimizer. The optimizer has an attribute called `epsfcn` that needs to be set either to `FLT_EPSILON` or `DBL_EPSILON`, depending on how the model was written. Since our model is in double precision, this also needs to be machine precision."
   ]
  },
  {
   "cell_type": "code",
   "execution_count": null,
   "metadata": {},
   "outputs": [],
   "source": [
    "# Set up statistics and optimizer\n",
    "stat = Chi2()\n",
    "opt = LevMar()\n",
    "opt.config['epsfcn'] = np.finfo(float).eps   # adjusting epsfcn to double precision"
   ]
  },
  {
   "cell_type": "code",
   "execution_count": null,
   "metadata": {},
   "outputs": [],
   "source": [
    "# Print details about the statistics.\n",
    "print(stat)"
   ]
  },
  {
   "cell_type": "code",
   "execution_count": null,
   "metadata": {},
   "outputs": [],
   "source": [
    "# Print details about the optimizer\n",
    "print(opt)"
   ]
  },
  {
   "cell_type": "markdown",
   "metadata": {},
   "source": [
    "### Sherpa fit object from data and model objects\n",
    "\n",
    "We instantiate a Sherpa fit object that contains a reference to a data object and a model object. If we change either of them, the change gets reflected in the fit object."
   ]
  },
  {
   "cell_type": "code",
   "execution_count": null,
   "metadata": {},
   "outputs": [],
   "source": [
    "# Set up the fit object\n",
    "tfit = Fit(tdata, tmodel, stat=stat, method=opt)\n",
    "tfit.estmethod = Confidence()\n",
    "print('Fit information:')\n",
    "print(tfit)"
   ]
  },
  {
   "cell_type": "markdown",
   "metadata": {},
   "source": [
    "## First fit\n",
    "\n",
    "We will work on one systematic model only, you can pick one by setting `i`."
   ]
  },
  {
   "cell_type": "code",
   "execution_count": null,
   "metadata": {},
   "outputs": [],
   "source": [
    "i = 0\n",
    "sys = grid[i]\n",
    "\n",
    "print('System {}: {}'.format(i+1, sys))"
   ]
  },
  {
   "cell_type": "markdown",
   "metadata": {},
   "source": [
    "### Set up systematics\n",
    "\n",
    "We will now thaw the parameters that have a `0` in the systematic grid and freeze the parameters that have a `1` in the systematic grid."
   ]
  },
  {
   "cell_type": "code",
   "execution_count": null,
   "metadata": {},
   "outputs": [],
   "source": [
    "# Set up systematics for current run\n",
    "print('sys: {}'.format(sys))\n",
    "for k, select in enumerate(sys):\n",
    "    if select == 0:\n",
    "        tmodel.pars[k].thaw()\n",
    "    elif select == 1:\n",
    "        tmodel.pars[k].freeze()\n",
    "\n",
    "print(tmodel)"
   ]
  },
  {
   "cell_type": "markdown",
   "metadata": {},
   "source": [
    "### Perform the fit"
   ]
  },
  {
   "cell_type": "code",
   "execution_count": null,
   "metadata": {},
   "outputs": [],
   "source": [
    "print('\\nSTART 1st FIT')\n",
    "tres = tfit.fit()  # do the fit\n",
    "if not tres.succeeded:\n",
    "    print(tres.message)\n",
    "print('\\n1st ROUND OF SHERPA FIT IS DONE\\n')\n",
    "\n",
    "print('Fit result:')\n",
    "print(tres)\n",
    "print('\\nFormatted result:')\n",
    "print(tres.format())"
   ]
  },
  {
   "cell_type": "markdown",
   "metadata": {},
   "source": [
    "It seems like `tres` already has errors for the thawed and fitted parameters (see formatted result), but are those correct and can I access those? If yes, I wouldn't have to do the error calculation further down.\n",
    "\n",
    "The full API for the results object can be found here:  \n",
    "https://sherpa.readthedocs.io/en/latest/fit/api/sherpa.fit.FitResults.html"
   ]
  },
  {
   "cell_type": "code",
   "execution_count": null,
   "metadata": {},
   "outputs": [],
   "source": [
    "# Save results of fit\n",
    "w_params[i, :] = [par.val for par in tmodel.pars]\n",
    "    \n",
    "print('w_params[{}]:'.format(i))\n",
    "print(w_params[i])"
   ]
  },
  {
   "cell_type": "code",
   "execution_count": null,
   "metadata": {},
   "outputs": [],
   "source": [
    "print('Parameters of transit model after first fit:\\n')\n",
    "print(tmodel)"
   ]
  },
  {
   "cell_type": "markdown",
   "metadata": {},
   "source": [
    "### Calculate errors\n",
    "\n",
    "We get our errors directly from the Hessian."
   ]
  },
  {
   "cell_type": "code",
   "execution_count": null,
   "metadata": {},
   "outputs": [],
   "source": [
    "calc_errors = np.sqrt(tres.extra_output['covar'].diagonal())\n",
    "\n",
    "rl_err = calc_errors[0]\n",
    "ph_err = calc_errors[1]"
   ]
  },
  {
   "cell_type": "markdown",
   "metadata": {},
   "source": [
    "We can directly access the parameters values from the model."
   ]
  },
  {
   "cell_type": "code",
   "execution_count": null,
   "metadata": {},
   "outputs": [],
   "source": [
    "print('rl:\\n{}'.format(tmodel.rl))\n",
    "print('\\nValue of rl: {}'.format(tmodel.rl.val))"
   ]
  },
  {
   "cell_type": "code",
   "execution_count": null,
   "metadata": {},
   "outputs": [],
   "source": [
    "print('\\nTRANSIT DEPTH rl in model {} of {} = {} +/- {}, centered at {}'.format(i+1, nsys, tmodel.rl.val, rl_err, tmodel.epoch.val))"
   ]
  },
  {
   "cell_type": "markdown",
   "metadata": {},
   "source": [
    "### Recalculate phase\n",
    "\n",
    "Since the phase array depends on the epoch, and the epoch gets changed during the fit, we need to recalculate the phase array after each fit."
   ]
  },
  {
   "cell_type": "code",
   "execution_count": null,
   "metadata": {},
   "outputs": [],
   "source": [
    "# Re-Calculate each of the arrays dependent on the output parameters\n",
    "HSTphase = marg.phase_calc(img_date, tmodel.tzero.val*u.d, HST_period)\n",
    "phase = marg.phase_calc(img_date, tmodel.epoch.val*u.d, tmodel.period.val*u.d)\n",
    "\n",
    "plt.plot(phase, y)"
   ]
  },
  {
   "cell_type": "markdown",
   "metadata": {},
   "source": [
    "### Calculate transit model from fit data\n",
    "\n",
    "We can actually draw this from the Sherpa object directly. Not so the smooth model though that we'll make after the second fit."
   ]
  },
  {
   "cell_type": "code",
   "execution_count": null,
   "metadata": {},
   "outputs": [],
   "source": [
    "# TRANSIT MODEL fit to the data\n",
    "b0 = marg.impact_param((tmodel.period.val*u.d).to(u.s), tmodel.msmpr.val, phase, tmodel.inclin.val*u.rad)\n",
    "mulimb01, _mulimbf1 = marg.occultnl(tmodel.rl.val, tmodel.c1.val, tmodel.c2.val, tmodel.c3.val, tmodel.c4.val, b0)\n",
    "\n",
    "print('Impact parameter: {}'.format(b0))\n",
    "print('mulimb01: {}'.format(mulimb01))"
   ]
  },
  {
   "cell_type": "code",
   "execution_count": null,
   "metadata": {},
   "outputs": [],
   "source": [
    "print('phase: {}'.format(phase))\n",
    "print('HSTphase: {}'.format(HSTphase))\n",
    "print('sh: {}'.format(sh))"
   ]
  },
  {
   "cell_type": "code",
   "execution_count": null,
   "metadata": {},
   "outputs": [],
   "source": [
    "print('tmodel.m_fac.val: {}'.format(tmodel.m_fac.val))\n",
    "print('tmodel.hstp1.val: {}'.format(tmodel.hstp1.val))\n",
    "print('tmodel.xshift1.val: {}'.format(tmodel.xshift1.val))"
   ]
  },
  {
   "cell_type": "code",
   "execution_count": null,
   "metadata": {},
   "outputs": [],
   "source": [
    "systematic_model = marg.sys_model(phase, HSTphase, sh, tmodel.m_fac.val, tmodel.hstp1.val, tmodel.hstp2.val,\n",
    "                                  tmodel.hstp3.val, tmodel.hstp4.val, tmodel.xshift1.val, tmodel.xshift2.val,\n",
    "                                  tmodel.xshift3.val, tmodel.xshift4.val)\n",
    "print('systematic_model: {}'.format(systematic_model))"
   ]
  },
  {
   "cell_type": "markdown",
   "metadata": {},
   "source": [
    "### Final form of model fit\n",
    "\n",
    "We're combining the transit model, the systematic model and normalize it by the input flux. No need for this in the future, see above."
   ]
  },
  {
   "cell_type": "code",
   "execution_count": null,
   "metadata": {},
   "outputs": [],
   "source": [
    "# Calculate final form of the model fit\n",
    "print('tmodel.flux0.val: {}'.format(tmodel.flux0.val))\n",
    "w_model = mulimb01 * tmodel.flux0.val * systematic_model\n",
    "\n",
    "print('w_model:\\n{}'.format(w_model))\n",
    "plt.plot(phase, w_model)\n",
    "plt.title('w_model')"
   ]
  },
  {
   "cell_type": "code",
   "execution_count": null,
   "metadata": {},
   "outputs": [],
   "source": [
    "# Calculate the residuals - data minus model (and normalized)\n",
    "w_residuals = (img_flux - w_model) / tmodel.flux0.val\n",
    "\n",
    "print('w_residuals:\\n{}'.format(w_residuals))\n",
    "plt.scatter(phase, w_residuals, marker='o')\n",
    "plt.hlines(0, np.amin(phase)-0.01, np.amax(phase)+0.01, linestyle='dashed', color='r')\n",
    "plt.title('w_residuals')"
   ]
  },
  {
   "cell_type": "code",
   "execution_count": null,
   "metadata": {},
   "outputs": [],
   "source": [
    "corrected_data = img_flux / (tmodel.flux0.val * systematic_model)\n",
    "\n",
    "print('corrected_data: {}'.format(corrected_data))\n",
    "plt.plot(phase, corrected_data)\n",
    "plt.title('corrected_data')"
   ]
  },
  {
   "cell_type": "code",
   "execution_count": null,
   "metadata": {},
   "outputs": [],
   "source": [
    "w_scatter[i] = np.std(w_residuals)\n",
    "print('\\nScatter on the residuals = {}'.format(w_scatter[i])) "
   ]
  },
  {
   "cell_type": "markdown",
   "metadata": {},
   "source": [
    "### Reset the model"
   ]
  },
  {
   "cell_type": "code",
   "execution_count": null,
   "metadata": {},
   "outputs": [],
   "source": [
    "print('Before resetting:')\n",
    "print(tmodel)"
   ]
  },
  {
   "cell_type": "code",
   "execution_count": null,
   "metadata": {},
   "outputs": [],
   "source": [
    "tmodel.reset()\n",
    "print('After resetting:')\n",
    "print(tmodel)"
   ]
  },
  {
   "cell_type": "markdown",
   "metadata": {},
   "source": [
    "Note on resetting the model (from: https://sherpa.readthedocs.io/en/latest/models/index.html#resetting-parameter-values):\n",
    "\n",
    "The `reset()` method of a parameter will change the parameter settings (which includes the status of the thawed flag and allowed ranges, as well as the value) to the values they had the last time the parameter was explicitly set. That is, it does not restore the initial values used when the model was created, but the last values the user set.\n",
    "\n",
    "The model class has its own `reset()` method which calls reset on the thawed parameters. This can be used to change the starting point of a fit to see how robust the optimiser is by:\n",
    "\n",
    "- explicitly setting parameter values (or using the default values)\n",
    "- fit the data\n",
    "- call reset\n",
    "- change one or more parameters\n",
    "- refit"
   ]
  },
  {
   "cell_type": "markdown",
   "metadata": {},
   "source": [
    "## Second fit\n",
    "\n",
    "Each systematic model will now be re-fit with the previously determined parameters serving as the new starting points. What we're doing is to replace the input data errors with the errors we calculated in the first fit, to make them more realistic. The uncertainty we get from the data is pure photon noise, which is not entirely realistic as there will be other noise source influencing the data. The first fit the additional noise sources. When we rescale the uncertainties with a first fit, we get a reduced chi squared of one, and the uncertainties will be slightly larger than the photon onise, giving us more conservative (and realistic) errors for the second fit, so that we can trust the parameters from the second fit."
   ]
  },
  {
   "cell_type": "code",
   "execution_count": null,
   "metadata": {},
   "outputs": [],
   "source": [
    "# Initializing arrays for each systematic model, which we will save once we got through all systems with two fits.\n",
    "sys_stats = np.zeros((nsys, 5))                 # stats\n",
    "\n",
    "sys_date = np.zeros((nsys, nexposure))          # img_date\n",
    "sys_phase = np.zeros((nsys, nexposure))         # phase\n",
    "sys_rawflux = np.zeros((nsys, nexposure))       # raw lightcurve flux\n",
    "sys_rawflux_err = np.zeros((nsys, nexposure))   # raw lightcurve flux error\n",
    "sys_flux = np.zeros((nsys, nexposure))          # corrected lightcurve flux\n",
    "sys_flux_err = np.zeros((nsys, nexposure))      # corrected lightcurve flux error\n",
    "sys_residuals = np.zeros((nsys, nexposure))     # residuals\n",
    "sys_systematic_model = np.zeros((nsys, nexposure))  # systematic model\n",
    "\n",
    "sys_model = np.zeros((nsys, int(2*half_range/resolution)))             # smooth model\n",
    "sys_model_phase = np.zeros((nsys, int(2*half_range/resolution)))        # smooth phase\n",
    "\n",
    "sys_params = np.zeros((nsys, nparams))          # parameters\n",
    "sys_params_err = np.zeros((nsys, nparams))      # parameter errors\n",
    "\n",
    "sys_depth = np.zeros(nsys)                      # depth\n",
    "sys_depth_err = np.zeros(nsys)                  # depth error\n",
    "sys_epoch = np.zeros(nsys)                      # transit time\n",
    "sys_epoch_err = np.zeros(nsys)                  # transit time error\n",
    "sys_evidenceAIC = np.zeros(nsys)                # evidence AIC\n",
    "sys_evidenceBIC = np.zeros(nsys)                # evidence BIC"
   ]
  },
  {
   "cell_type": "code",
   "execution_count": null,
   "metadata": {},
   "outputs": [],
   "source": [
    "# Still working only on one systematic model\n",
    "print('i = {}'.format(i))\n",
    "print('sys = {}'.format(sys))"
   ]
  },
  {
   "cell_type": "markdown",
   "metadata": {},
   "source": [
    "### Rescale errors\n",
    "\n",
    "The errors at this point got rescaled to unity chi squared in the previous fit and were not reset by `model.reset()`, so we ditched the part of the code that rescales the errors manually."
   ]
  },
  {
   "cell_type": "code",
   "execution_count": null,
   "metadata": {},
   "outputs": [],
   "source": [
    "# Check what the errors in the data object look like now.\n",
    "print('New staterror data object')\n",
    "print(tdata.staterror)"
   ]
  },
  {
   "cell_type": "markdown",
   "metadata": {},
   "source": [
    "### Set up systematics"
   ]
  },
  {
   "cell_type": "code",
   "execution_count": null,
   "metadata": {},
   "outputs": [],
   "source": [
    "# Set up systematics for current run\n",
    "print('sys: {}'.format(sys))\n",
    "for k, select in enumerate(sys):\n",
    "    if select == 0:\n",
    "        tmodel.pars[k].thaw()\n",
    "    elif select == 1:\n",
    "        tmodel.pars[k].freeze()\n",
    "\n",
    "print(tmodel)"
   ]
  },
  {
   "cell_type": "markdown",
   "metadata": {},
   "source": [
    "### Perform second fit"
   ]
  },
  {
   "cell_type": "code",
   "execution_count": null,
   "metadata": {},
   "outputs": [],
   "source": [
    "print('\\nSTART 2nd FIT\\n')\n",
    "tres = tfit.fit()  # do the fit\n",
    "if not tres.succeeded:\n",
    "    print(tres.message)\n",
    "print('2nd ROUND OF SHERPA FIT IS DONE\\n')\n",
    "\n",
    "print('Fit result:')\n",
    "print(tres)\n",
    "print('\\nFormatted result:')\n",
    "print(tres.format())"
   ]
  },
  {
   "cell_type": "markdown",
   "metadata": {},
   "source": [
    "### Calculate errors\n",
    "\n",
    "Copy-pasted from the script since it was set up there."
   ]
  },
  {
   "cell_type": "code",
   "execution_count": null,
   "metadata": {},
   "outputs": [],
   "source": [
    "# Getting errors directly from the covariance matrix in the fit, rl is always thawed.\n",
    "calc_errors = np.sqrt(tres.extra_output['covar'].diagonal())\n",
    "rl_err = calc_errors[0]\n",
    "\n",
    "# These are the only errors we might need, depending on \"grid_selection\"\n",
    "epoch_err = None\n",
    "incl_err = None\n",
    "msmpr_err = None\n",
    "ecc_err = None\n",
    "\n",
    "# Read errors from Hessian depending on which parameters actually got fit\n",
    "if grid_selection == 'fix_time':\n",
    "    pass\n",
    "elif grid_selection == 'fit_time':\n",
    "    epoch_err = calc_errors[2]\n",
    "elif grid_selection == 'fit_inclin':\n",
    "    incl_err = calc_errors[2]\n",
    "elif grid_selection == 'fit_msmpr':\n",
    "    msmpr_err = calc_errors[2]\n",
    "elif grid_selection == 'fit_ecc':\n",
    "    ecc_err = calc_errors[2]\n",
    "elif grid_selection == 'fit_all':\n",
    "    epoch_err = calc_errors[2]\n",
    "    incl_err = calc_errors[3]\n",
    "    msmpr_err = calc_errors[4]"
   ]
  },
  {
   "cell_type": "code",
   "execution_count": null,
   "metadata": {},
   "outputs": [],
   "source": [
    "print('\\nTRANSIT DEPTH rl in model {} of {} = {} +/- {}, centered at {}'.format(i+1, nsys, tmodel.rl.val, rl_err, tmodel.epoch.val))"
   ]
  },
  {
   "cell_type": "markdown",
   "metadata": {},
   "source": [
    "### Stats from fit"
   ]
  },
  {
   "cell_type": "code",
   "execution_count": null,
   "metadata": {},
   "outputs": [],
   "source": [
    "# Count free parameters by figuring out how many zeros we have in the current systematics\n",
    "nfree = np.count_nonzero(sys==0)\n",
    "print('nfree: {}'.format(nfree))\n",
    "print(sys)"
   ]
  },
  {
   "cell_type": "markdown",
   "metadata": {},
   "source": [
    "The statistics can be taken from the fit result `tres`. you can check its full API here:  \n",
    "https://sherpa.readthedocs.io/en/latest/fit/api/sherpa.fit.FitResults.html"
   ]
  },
  {
   "cell_type": "code",
   "execution_count": null,
   "metadata": {},
   "outputs": [],
   "source": [
    "# From the fit define the DOF, BIC, AIC & CHI\n",
    "CHI = tres.statval  # chi squared of resulting fit\n",
    "BIC = CHI + nfree * np.log(len(img_date))\n",
    "AIC = CHI + nfree\n",
    "DOF = tres.dof\n",
    "\n",
    "print('CHI: {}'.format(CHI))\n",
    "print('BIC: {}'.format(BIC))\n",
    "print('AIC: {}'.format(AIC))\n",
    "print('DOF: {}'.format(DOF))"
   ]
  },
  {
   "cell_type": "code",
   "execution_count": null,
   "metadata": {},
   "outputs": [],
   "source": [
    "# EVIDENCE BASED on the AIC and BIC\n",
    "Npoint = len(img_date)\n",
    "sigma_points = np.median(err)\n",
    "\n",
    "evidence_BIC = - Npoint * np.log(sigma_points) - 0.5 * Npoint * np.log(2 * np.pi) - 0.5 * BIC\n",
    "evidence_AIC = - Npoint * np.log(sigma_points) - 0.5 * Npoint * np.log(2 * np.pi) - 0.5 * AIC\n",
    "\n",
    "print('Npoint: {}'.format(Npoint))\n",
    "print('sigma_points: {}'.format(sigma_points))\n",
    "print('evidence_BIC: {}'.format(evidence_BIC))\n",
    "print('evidence_AIC: {}'.format(evidence_AIC))"
   ]
  },
  {
   "cell_type": "code",
   "execution_count": null,
   "metadata": {},
   "outputs": [],
   "source": [
    "print('tmodel.period.val*u.d: {}'.format(tmodel.period.val*u.d))\n",
    "print('tmodel.epoch.val*u.d: {}'.format(tmodel.epoch.val*u.d))\n",
    "print('tmodel.tzero.val*u.d: {}'.format(tmodel.tzero.val*u.d))\n",
    "\n",
    "# Recalculate a/R* (actually the constant for it) based on the new MsMpR value which may have been fit in the routine.\n",
    "constant1 = (G * np.square((tmodel.period.val*u.d).to(u.s)) / (4 * np.pi * np.pi)) ** (1 / 3.)\n",
    "\n",
    "# OUTPUTS\n",
    "# Re-Calculate each of the arrays dependent on the output parameters for the epoch\n",
    "phase = marg.phase_calc(img_date, tmodel.epoch.val*u.d, tmodel.period.val*u.d)\n",
    "HSTphase = marg.phase_calc(img_date, tmodel.tzero.val*u.d, HST_period)"
   ]
  },
  {
   "cell_type": "markdown",
   "metadata": {},
   "source": [
    "### Recalculate transit model from fit data"
   ]
  },
  {
   "cell_type": "code",
   "execution_count": null,
   "metadata": {},
   "outputs": [],
   "source": [
    "# TRANSIT MODEL fit to the data\n",
    "b0 = marg.impact_param((tmodel.period.val*u.d).to(u.s), tmodel.msmpr.val, phase, tmodel.inclin.val*u.rad)\n",
    "mulimb01, _mulimbf1 = marg.occultnl(tmodel.rl.val, tmodel.c1.val, tmodel.c2.val, tmodel.c3.val, tmodel.c4.val, b0)\n",
    "\n",
    "print('b0: {}'.format(b0))\n",
    "print('mulimb01: {}'.format(mulimb01))"
   ]
  },
  {
   "cell_type": "code",
   "execution_count": null,
   "metadata": {},
   "outputs": [],
   "source": [
    "# SMOOTH TRANSIT MODEL across all phase\n",
    "x2 = np.arange(-half_range, half_range, resolution)   # this is the x-array for the smooth model\n",
    "b0 = marg.impact_param((tmodel.period.val*u.d).to(u.s), tmodel.msmpr.val, x2, tmodel.inclin.val*u.rad)\n",
    "\n",
    "print('x2:  {}'.format(x2))\n",
    "print('b0: {}'.format(b0))"
   ]
  },
  {
   "cell_type": "code",
   "execution_count": null,
   "metadata": {},
   "outputs": [],
   "source": [
    "mulimb02, _mulimbf2 = marg.occultnl(tmodel.rl.val, tmodel.c1.val, tmodel.c2.val, tmodel.c3.val, tmodel.c4.val, b0)\n",
    "\n",
    "systematic_model = marg.sys_model(phase, HSTphase, sh, tmodel.m_fac.val, tmodel.hstp1.val, tmodel.hstp2.val,\n",
    "                                  tmodel.hstp3.val, tmodel.hstp4.val, tmodel.xshift1.val, tmodel.xshift2.val,\n",
    "                                  tmodel.xshift3.val, tmodel.xshift4.val)\n",
    "\n",
    "print('mulimb02: {}'.format(mulimb02))\n",
    "print('systematic_model: {}'.format(systematic_model))"
   ]
  },
  {
   "cell_type": "code",
   "execution_count": null,
   "metadata": {},
   "outputs": [],
   "source": [
    "fit_model = mulimb01 * tmodel.flux0.val * systematic_model\n",
    "\n",
    "print('fit_model: {}'.format(fit_model))\n",
    "plt.plot(phase, fit_model)\n",
    "plt.title('fit_model')"
   ]
  },
  {
   "cell_type": "code",
   "execution_count": null,
   "metadata": {},
   "outputs": [],
   "source": [
    "# Can I access fit_model directly from the Sherpa model?\n",
    "# v1: tmodel(tdata.x)\n",
    "# v2: tdata.eval_model(tmodel)"
   ]
  },
  {
   "cell_type": "code",
   "execution_count": null,
   "metadata": {},
   "outputs": [],
   "source": [
    "residuals = (img_flux - fit_model) / tmodel.flux0.val\n",
    "\n",
    "print('residuals: {}'.format(residuals))\n",
    "plt.scatter(phase, residuals)\n",
    "plt.hlines(0, np.amin(phase)-0.01, np.amax(phase)+0.01, linestyle='dashed', color='r')\n",
    "plt.title('residuals')"
   ]
  },
  {
   "cell_type": "code",
   "execution_count": null,
   "metadata": {},
   "outputs": [],
   "source": [
    "resid_scatter = np.std(w_residuals)\n",
    "print('resid_scatter: {}'.format(resid_scatter))"
   ]
  },
  {
   "cell_type": "code",
   "execution_count": null,
   "metadata": {},
   "outputs": [],
   "source": [
    "fit_data = img_flux / (tmodel.flux0.val * systematic_model)\n",
    "\n",
    "print('fit_data: {}'.format(fit_data))\n",
    "plt.scatter(phase, fit_data)\n",
    "plt.title('fit_data')"
   ]
  },
  {
   "cell_type": "code",
   "execution_count": null,
   "metadata": {},
   "outputs": [],
   "source": [
    "plt.figure(figsize=(18, 12))\n",
    "plt.clf()\n",
    "plt.scatter(phase, img_flux, s=5, label='img_flux vs phase')\n",
    "plt.plot(x2, mulimb02, 'k', label='mulimb02 vs x2')\n",
    "plt.errorbar(phase, fit_data, yerr=err, fmt='m.', label='fit_data vs phase')\n",
    "plt.xlim(-0.03, 0.03)\n",
    "plt.title('Model ' + str(i+1) + '/' + str(nsys))\n",
    "plt.xlabel('Planet Phase')\n",
    "plt.ylabel('Data')\n",
    "plt.legend()\n",
    "plt.draw()\n",
    "plt.pause(0.05)"
   ]
  },
  {
   "cell_type": "code",
   "execution_count": null,
   "metadata": {},
   "outputs": [],
   "source": [
    "# Fill info into arrays to save to file once we iterated through all systems with both fittings.\n",
    "sys_stats[i, :] = [AIC, BIC, DOF, CHI, resid_scatter]   # stats  - just saving\n",
    "\n",
    "sys_date[i, :] = img_date                               # input time data (x, date)  - reused but not really\n",
    "sys_phase[i, :] = phase                                 # phase  - used for plotting\n",
    "sys_rawflux[i, :] = img_flux                            # raw lightcurve flux  - just saving\n",
    "sys_rawflux_err[i, :] = err                             # raw flux error  - just saving\n",
    "sys_flux[i, :] = fit_data                               # corrected lightcurve flux\n",
    "sys_flux_err[i, :] = err                                # corrected flux error  - used for plotting\n",
    "sys_residuals[i, :] = residuals                         # residuals   - REUSED! also for plotting\n",
    "sys_systematic_model[i, :] = systematic_model           # systematic model  - just saving\n",
    "\n",
    "sys_model[i, :] = mulimb02                              # smooth model  - used for plotting\n",
    "sys_model_phase[i, :] = x2                              # smooth phase  - used for plotting\n",
    "\n",
    "sys_params[i, :] = [par.val for par in tmodel.pars]     # parameters  - REUSED!\n",
    "if not tmodel.inclin.frozen:                            # errors, depending on whether parameter is frozen or thawed\n",
    "    sys_params_err[:, 3] = incl_err\n",
    "if not tmodel.msmpr.frozen:\n",
    "    sys_params_err[:, 4] = msmpr_err\n",
    "\n",
    "sys_depth[i] = tmodel.rl.val                            # depth  - REUSED!\n",
    "sys_depth_err[i] = rl_err                               # depth error  - REUSED!\n",
    "sys_epoch[i] = tmodel.epoch.val                         # transit time  - REUSED!\n",
    "if not tmodel.epoch.frozen:\n",
    "    sys_epoch_err[i] = epoch_err                            # transit time error  - REUSED!\n",
    "sys_evidenceAIC[i] = evidence_AIC                       # evidence AIC  - REUSED!\n",
    "sys_evidenceBIC[i] = evidence_BIC                       # evidence BIC  - REUSED!"
   ]
  },
  {
   "cell_type": "markdown",
   "metadata": {},
   "source": [
    "### Reset model"
   ]
  },
  {
   "cell_type": "code",
   "execution_count": null,
   "metadata": {},
   "outputs": [],
   "source": [
    "print(tmodel)"
   ]
  },
  {
   "cell_type": "code",
   "execution_count": null,
   "metadata": {},
   "outputs": [],
   "source": [
    "# Reset the model parameters to the input parameters\n",
    "tmodel.reset()"
   ]
  },
  {
   "cell_type": "code",
   "execution_count": null,
   "metadata": {},
   "outputs": [],
   "source": []
  }
 ],
 "metadata": {
  "kernelspec": {
   "display_name": "Python 3",
   "language": "python",
   "name": "python3"
  },
  "language_info": {
   "codemirror_mode": {
    "name": "ipython",
    "version": 3
   },
   "file_extension": ".py",
   "mimetype": "text/x-python",
   "name": "python",
   "nbconvert_exporter": "python",
   "pygments_lexer": "ipython3",
   "version": "3.7.3"
  }
 },
 "nbformat": 4,
 "nbformat_minor": 2
}
