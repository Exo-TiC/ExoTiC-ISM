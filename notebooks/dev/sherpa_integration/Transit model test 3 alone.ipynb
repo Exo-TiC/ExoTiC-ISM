{
 "cells": [
  {
   "cell_type": "markdown",
   "metadata": {},
   "source": [
    "# Transit model test 3 alone\n",
    "\n",
    "Just pulled in from the other notebook to be able to work on it directly.\n",
    "\n",
    "Make sure you update your configfile accordingly:\n",
    "\n",
    "```ini\n",
    "[setup]\n",
    "data_set = simple_transit\n",
    "```"
   ]
  },
  {
   "cell_type": "code",
   "execution_count": null,
   "metadata": {},
   "outputs": [],
   "source": [
    "# Imports\n",
    "import os\n",
    "import numpy as np\n",
    "import matplotlib.pyplot as plt\n",
    "from astropy.constants import G\n",
    "import astropy.units as u\n",
    "\n",
    "from sherpa.models import model\n",
    "from sherpa.data import Data1D\n",
    "from sherpa.plot import DataPlot\n",
    "from sherpa.plot import ModelPlot\n",
    "from sherpa.fit import Fit\n",
    "from sherpa.stats import LeastSq\n",
    "from sherpa.optmethods import LevMar\n",
    "from sherpa.stats import Chi2\n",
    "from sherpa.plot import FitPlot\n",
    "\n",
    "os.chdir('../../../exotic-ism')\n",
    "import margmodule as marg\n",
    "from config import CONFIG_INI"
   ]
  },
  {
   "cell_type": "code",
   "execution_count": null,
   "metadata": {},
   "outputs": [],
   "source": [
    "# Test parameters\n",
    "planet_sys = CONFIG_INI.get('setup', 'data_set')\n",
    "dtosec = CONFIG_INI.getfloat('constants', 'dtosec')\n",
    "period = CONFIG_INI.getfloat(planet_sys, 'Per')\n",
    "Per = period * dtosec\n",
    "aor = CONFIG_INI.getfloat(planet_sys, 'aor')\n",
    "constant1 = (G * Per * Per / (4 *np.pi * np.pi))**(1/3)\n",
    "msmpr = (aor/(constant1))**3\n",
    "print('msmpr: {}'.format(msmpr))\n",
    "print('G: {}'.format(G.value))\n",
    "print('Per: {} sec'.format(Per))\n",
    "\n",
    "# limb darkening parameters\n",
    "c1 = 0.66396105\n",
    "c2 = -0.12617095\n",
    "c3 = 0.053649047\n",
    "c4 = -0.026713433\n",
    "\n",
    "# Create x-array for phase - careful, this is not a regular grid, but consists of three groups of data points\n",
    "data_x = np.array([-0.046, -0.044, -0.042, -0.040, -0.038, -0.036, -0.034,\n",
    "                   -0.032, -0.030, -0.006, -0.004, -0.002, 0.0, 0.002, 0.004,\n",
    "                   0.006, 0.008, 0.01, 0.032, 0.034, 0.036, 0.038, 0.040,\n",
    "                   0.042, 0.044, 0.046,0.048])\n",
    "\n",
    "# Make denser and REGULAR x grid for plotting of smooth model\n",
    "smooth_x = np.arange(data_x[0], data_x[-1], 0.001)\n",
    "\n",
    "# Initial flux data\n",
    "original_y = np.array([1.0000000, 1.0000000, 1.0000000, 1.0000000, 1.0000000,\n",
    "                   1.0000000, 1.0000000, 1.0000000, 1.0000000, 0.99000000,\n",
    "                   0.99000000, 0.99000000, 0.99000000, 0.99000000, 0.99000000,\n",
    "                   0.99000000, 0.99000000, 0.99000000, 1.0000000, 1.0000000,\n",
    "                   1.0000000, 1.0000000, 1.0000000, 1.0000000, 1.0000000,\n",
    "                   1.0000000, 1.0000000])\n",
    "\n",
    "uncertainty = np.array([0.0004] * len(data_x))\n",
    "\n",
    "random_scatter = np.array([0.32558253, -0.55610514, -1.1150768, -1.2337022, -1.2678875,\n",
    "                           0.60321692, 1.1025507, 1.5080730, 0.76113001, 0.51978011,\n",
    "                           0.72241364, -0.086782108, -0.22698337, 0.22780245, 0.47119014,\n",
    "                           -2.1660677, -1.2477670, 0.28568456, 0.40292731, 0.077955817,\n",
    "                           -1.1090623, 0.66895172, -0.59215439, 0.79973968, 1.0603756,\n",
    "                           0.82684954, -1.8334587])\n",
    "print('random_scatter.shape: {}'.format(random_scatter.shape))\n",
    "\n",
    "data_y_no_slope = original_y + (random_scatter * uncertainty)\n",
    "\n",
    "# Create linear slope\n",
    "m_fac = 0.04\n",
    "line = (data_x * m_fac) + 1.00\n",
    "\n",
    "# add the systematic model (slope/line) to the y array\n",
    "data_y = line * data_y_no_slope"
   ]
  },
  {
   "cell_type": "code",
   "execution_count": null,
   "metadata": {},
   "outputs": [],
   "source": [
    "# Quick visualization of data\n",
    "plt.scatter(data_x, data_y)\n",
    "plt.plot(data_x, line, c='r')\n",
    "plt.ylim(0.987, 1.004)"
   ]
  },
  {
   "cell_type": "code",
   "execution_count": null,
   "metadata": {},
   "outputs": [],
   "source": [
    "# Make Sherpa data object out of this\n",
    "data = Data1D('example_transit', data_x, data_y, staterror=uncertainty)   # create data object\n",
    "dplot = DataPlot()         # create data *plot* object\n",
    "dplot.prepare(data)   # prepare plot\n",
    "dplot.plot()"
   ]
  },
  {
   "cell_type": "code",
   "execution_count": null,
   "metadata": {},
   "outputs": [],
   "source": [
    "# Create and visualize model\n",
    "model = marg.Transit(data_x[0], msmpr, c1, c2, c3, c4, flux0=data_y[0], x_in_phase=True, name='transit', sh=None)\n",
    "print(model)"
   ]
  },
  {
   "cell_type": "code",
   "execution_count": null,
   "metadata": {},
   "outputs": [],
   "source": [
    "# Freeze almost all parameters\n",
    "# Note how m_fac stays thawed\n",
    "model.flux0.freeze()\n",
    "model.epoch.freeze()\n",
    "model.inclin.freeze()\n",
    "model.msmpr.freeze()\n",
    "model.ecc.freeze()\n",
    "model.hstp1.freeze()\n",
    "model.hstp2.freeze()\n",
    "model.hstp3.freeze()\n",
    "model.hstp4.freeze()\n",
    "model.xshift1.freeze()\n",
    "model.xshift2.freeze()\n",
    "model.xshift3.freeze()\n",
    "model.xshift4.freeze()\n",
    "\n",
    "print(model)"
   ]
  },
  {
   "cell_type": "code",
   "execution_count": null,
   "metadata": {},
   "outputs": [],
   "source": [
    "# Set up statistics and optimizer\n",
    "stat = Chi2()\n",
    "opt = LevMar()\n",
    "opt.config['epsfcn'] = np.finfo(float).eps   # adjusting epsfcn to double precision\n",
    "#print(stat)\n",
    "print(opt)\n",
    "\n",
    "# Set up fit\n",
    "tfit = Fit(data, model, stat=stat, method=opt)\n",
    "print('Fit information:')\n",
    "print(tfit)"
   ]
  },
  {
   "cell_type": "code",
   "execution_count": null,
   "metadata": {},
   "outputs": [],
   "source": [
    "# Perform the fit\n",
    "fitresult = tfit.fit()\n",
    "print(fitresult)"
   ]
  },
  {
   "cell_type": "markdown",
   "metadata": {},
   "source": [
    "### Fit results"
   ]
  },
  {
   "cell_type": "code",
   "execution_count": null,
   "metadata": {},
   "outputs": [],
   "source": [
    "# smooth model\n",
    "b0_smooth = marg.impact_param((model.period.val*u.d).to(u.s), model.msmpr.val, smooth_x, model.inclin.val*u.rad)\n",
    "smooth_y, _mulimbf2 = marg.occultnl(model.rl.val, model.c1.val, model.c2.val, model.c3.val, model.c4.val, b0_smooth)"
   ]
  },
  {
   "cell_type": "code",
   "execution_count": null,
   "metadata": {},
   "outputs": [],
   "source": [
    "# Errors from Hessian\n",
    "calc_errors = np.sqrt(fitresult.extra_output['covar'].diagonal())\n",
    "rl_err = calc_errors[0]\n",
    "m_fac_err = calc_errors[1]\n",
    "\n",
    "# Results\n",
    "print('rl = {} +/- {}'.format(model.rl.val, rl_err))\n",
    "print('m_fac = {} +/- {}'.format(model.m_fac.val, m_fac_err))\n",
    "print('Reduced chi-squared: {}'.format(fitresult.rstat))\n",
    "\n",
    "# Display model from denser grid over real data after fitting\n",
    "plt.figure(figsize=(11, 5))\n",
    "plt.plot(smooth_x, smooth_y, c='orange', label='smooth model')\n",
    "plt.errorbar(data_x, data_y, yerr=uncertainty, fmt='.', label='data')\n",
    "plt.plot(data_x, line, c='r', linestyle='dashed', label='systematic model')\n",
    "plt.legend()\n",
    "plt.xlabel('phase')\n",
    "plt.ylabel('flux')\n",
    "plt.title('Smooth model test 3 over actual data')"
   ]
  },
  {
   "cell_type": "code",
   "execution_count": null,
   "metadata": {},
   "outputs": [],
   "source": []
  }
 ],
 "metadata": {
  "kernelspec": {
   "display_name": "Python 3",
   "language": "python",
   "name": "python3"
  },
  "language_info": {
   "codemirror_mode": {
    "name": "ipython",
    "version": 3
   },
   "file_extension": ".py",
   "mimetype": "text/x-python",
   "name": "python",
   "nbconvert_exporter": "python",
   "pygments_lexer": "ipython3",
   "version": "3.7.3"
  }
 },
 "nbformat": 4,
 "nbformat_minor": 2
}
