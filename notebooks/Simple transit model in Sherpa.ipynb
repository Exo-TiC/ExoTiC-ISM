{
 "cells": [
  {
   "cell_type": "markdown",
   "metadata": {},
   "source": [
    "# Simple transit model in Sherpa\n",
    "\n",
    "Mostly to work on issue #59 in the repo, but this should definitley be converted into a tutorial at some point.\n",
    "\n",
    "Make sure you update your configfile accordingly:\n",
    "\n",
    "```ini\n",
    "[setup]\n",
    "data_set = simple_transit\n",
    "```"
   ]
  },
  {
   "cell_type": "code",
   "execution_count": 1,
   "metadata": {},
   "outputs": [],
   "source": [
    "# Imports\n",
    "import os\n",
    "import numpy as np\n",
    "import matplotlib.pyplot as plt\n",
    "from astropy.constants import G\n",
    "\n",
    "from sherpa.models import model\n",
    "from sherpa.data import Data1D\n",
    "from sherpa.plot import DataPlot\n",
    "from sherpa.plot import ModelPlot\n",
    "from sherpa.fit import Fit\n",
    "from sherpa.stats import LeastSq\n",
    "from sherpa.optmethods import LevMar\n",
    "from sherpa.stats import Chi2\n",
    "from sherpa.plot import FitPlot\n",
    "\n",
    "os.chdir('../exotic-ism')\n",
    "import margmodule as marg\n",
    "from config import CONFIG_INI"
   ]
  },
  {
   "cell_type": "markdown",
   "metadata": {},
   "source": [
    "## Test 0\n",
    "\n",
    "Simple dataset with no additional scatter."
   ]
  },
  {
   "cell_type": "code",
   "execution_count": 2,
   "metadata": {},
   "outputs": [
    {
     "name": "stdout",
     "output_type": "stream",
     "text": [
      "msmpr: 2218.7014898879943 kg s2 / m3\n",
      "G: 6.67408e-11\n",
      "Per: 302400.0 sec\n"
     ]
    }
   ],
   "source": [
    "# Test parameters\n",
    "planet_sys = CONFIG_INI.get('setup', 'data_set')\n",
    "dtosec = CONFIG_INI.getfloat('constants', 'dtosec')\n",
    "period = CONFIG_INI.getfloat(planet_sys, 'Per')\n",
    "Per = period * dtosec\n",
    "aor = CONFIG_INI.getfloat(planet_sys, 'aor')\n",
    "constant1 = (G * Per * Per / (4 *np.pi * np.pi))**(1/3)\n",
    "msmpr = (aor/(constant1))**3\n",
    "print('msmpr: {}'.format(msmpr))\n",
    "print('G: {}'.format(G.value))\n",
    "print('Per: {} sec'.format(Per))\n",
    "\n",
    "# limb darkening parameters\n",
    "c1 = 0.0\n",
    "c2 = 0.0\n",
    "c3 = 0.0\n",
    "c4 = 0.0\n",
    "\n",
    "# Create x-array for phase - careful, this is not a regular grid, but consists of three groups of data points\n",
    "data_x = np.array([-0.046, -0.044, -0.042, -0.040, -0.038, -0.036, -0.034,\n",
    "                   -0.032, -0.030, -0.006, -0.004, -0.002, 0.0, 0.002, 0.004,\n",
    "                   0.006, 0.008, 0.01, 0.032, 0.034, 0.036, 0.038, 0.040,\n",
    "                   0.042, 0.044, 0.046,0.048])\n",
    "\n",
    "# Make denser and REGULAR x grid for plotting of smooth model\n",
    "smooth_x = np.arange(data_x[0], data_x[-1], 0.001)\n",
    "\n",
    "# Initial flux data\n",
    "data_y = np.array([1.0000000, 1.0000000, 1.0000000, 1.0000000, 1.0000000,\n",
    "                   1.0000000, 1.0000000, 1.0000000, 1.0000000, 0.99000000,\n",
    "                   0.99000000, 0.99000000, 0.99000000, 0.99000000, 0.99000000,\n",
    "                   0.99000000, 0.99000000, 0.99000000, 1.0000000, 1.0000000,\n",
    "                   1.0000000, 1.0000000, 1.0000000, 1.0000000, 1.0000000,\n",
    "                   1.0000000, 1.0000000])\n",
    "\n",
    "uncertainty = np.array([0.0004] * len(data_x))"
   ]
  },
  {
   "cell_type": "code",
   "execution_count": 3,
   "metadata": {},
   "outputs": [
    {
     "data": {
      "text/plain": [
       "Text(0, 0.5, 'Flux')"
      ]
     },
     "execution_count": 3,
     "metadata": {},
     "output_type": "execute_result"
    },
    {
     "data": {
      "image/png": "[encoded data removed]",
      "text/plain": [
       "<Figure size 432x288 with 1 Axes>"
      ]
     },
     "metadata": {
      "needs_background": "light"
     },
     "output_type": "display_data"
    }
   ],
   "source": [
    "# Quick check of input data\n",
    "plt.errorbar(data_x, data_y, yerr=uncertainty, fmt='.')\n",
    "plt.title('Quick test input data')\n",
    "plt.xlabel('Phase')\n",
    "plt.ylabel('Flux')"
   ]
  },
  {
   "cell_type": "code",
   "execution_count": 4,
   "metadata": {},
   "outputs": [
    {
     "data": {
      "image/png": "[encoded data removed]",
      "text/plain": [
       "<Figure size 432x288 with 1 Axes>"
      ]
     },
     "metadata": {
      "needs_background": "light"
     },
     "output_type": "display_data"
    }
   ],
   "source": [
    "# Make Sherpa data object out of this\n",
    "data0 = Data1D('example_transit', data_x, data_y, staterror=uncertainty)   # create data object\n",
    "dplot0 = DataPlot()         # create data *plot* object\n",
    "dplot0.prepare(data0)   # prepare plot\n",
    "dplot0.plot()"
   ]
  },
  {
   "cell_type": "code",
   "execution_count": 5,
   "metadata": {},
   "outputs": [
    {
     "name": "stdout",
     "output_type": "stream",
     "text": [
      "transit\n",
      "   Param        Type          Value          Min          Max      Units\n",
      "   -----        ----          -----          ---          ---      -----\n",
      "   transit.rl   thawed          0.1 -3.40282e+38  3.40282e+38           \n",
      "   transit.flux0 thawed            1 -3.40282e+38  3.40282e+38           \n",
      "   transit.epoch thawed            0 -3.40282e+38  3.40282e+38 days [MJD]\n",
      "   transit.inclin thawed       1.5708 -3.40282e+38  3.40282e+38    radians\n",
      "   transit.msmpr thawed       2218.7 -3.40282e+38  3.40282e+38           \n",
      "   transit.ecc  thawed            0 -3.40282e+38  3.40282e+38    degrees\n",
      "   transit.omega frozen            0 -3.40282e+38  3.40282e+38    degrees\n",
      "   transit.period frozen          3.5 -3.40282e+38  3.40282e+38       days\n",
      "   transit.tzero frozen       -0.046 -3.40282e+38  3.40282e+38 days [MJD]\n",
      "   transit.c1   frozen            0 -3.40282e+38  3.40282e+38           \n",
      "   transit.c2   frozen            0 -3.40282e+38  3.40282e+38           \n",
      "   transit.c3   frozen            0 -3.40282e+38  3.40282e+38           \n",
      "   transit.c4   frozen            0 -3.40282e+38  3.40282e+38           \n",
      "   transit.m_fac thawed            0 -3.40282e+38  3.40282e+38           \n",
      "   transit.hstp1 thawed            0 -3.40282e+38  3.40282e+38           \n",
      "   transit.hstp2 thawed            0 -3.40282e+38  3.40282e+38           \n",
      "   transit.hstp3 thawed            0 -3.40282e+38  3.40282e+38           \n",
      "   transit.hstp4 thawed            0 -3.40282e+38  3.40282e+38           \n",
      "   transit.xshift1 thawed            0 -3.40282e+38  3.40282e+38           \n",
      "   transit.xshift2 thawed            0 -3.40282e+38  3.40282e+38           \n",
      "   transit.xshift3 thawed            0 -3.40282e+38  3.40282e+38           \n",
      "   transit.xshift4 thawed            0 -3.40282e+38  3.40282e+38           \n"
     ]
    }
   ],
   "source": [
    "# Create and visualize model\n",
    "model0 = marg.Transit(data_x[0], msmpr, c1, c2, c3, c4, flux0=data_y[0], x_in_phase=True, name='transit', sh=None)\n",
    "print(model0)"
   ]
  },
  {
   "cell_type": "code",
   "execution_count": 6,
   "metadata": {},
   "outputs": [
    {
     "name": "stdout",
     "output_type": "stream",
     "text": [
      "transit\n",
      "   Param        Type          Value          Min          Max      Units\n",
      "   -----        ----          -----          ---          ---      -----\n",
      "   transit.rl   thawed          0.1 -3.40282e+38  3.40282e+38           \n",
      "   transit.flux0 frozen            1 -3.40282e+38  3.40282e+38           \n",
      "   transit.epoch frozen            0 -3.40282e+38  3.40282e+38 days [MJD]\n",
      "   transit.inclin frozen       1.5708 -3.40282e+38  3.40282e+38    radians\n",
      "   transit.msmpr frozen       2218.7 -3.40282e+38  3.40282e+38           \n",
      "   transit.ecc  frozen            0 -3.40282e+38  3.40282e+38    degrees\n",
      "   transit.omega frozen            0 -3.40282e+38  3.40282e+38    degrees\n",
      "   transit.period frozen          3.5 -3.40282e+38  3.40282e+38       days\n",
      "   transit.tzero frozen       -0.046 -3.40282e+38  3.40282e+38 days [MJD]\n",
      "   transit.c1   frozen            0 -3.40282e+38  3.40282e+38           \n",
      "   transit.c2   frozen            0 -3.40282e+38  3.40282e+38           \n",
      "   transit.c3   frozen            0 -3.40282e+38  3.40282e+38           \n",
      "   transit.c4   frozen            0 -3.40282e+38  3.40282e+38           \n",
      "   transit.m_fac frozen            0 -3.40282e+38  3.40282e+38           \n",
      "   transit.hstp1 frozen            0 -3.40282e+38  3.40282e+38           \n",
      "   transit.hstp2 frozen            0 -3.40282e+38  3.40282e+38           \n",
      "   transit.hstp3 frozen            0 -3.40282e+38  3.40282e+38           \n",
      "   transit.hstp4 frozen            0 -3.40282e+38  3.40282e+38           \n",
      "   transit.xshift1 frozen            0 -3.40282e+38  3.40282e+38           \n",
      "   transit.xshift2 frozen            0 -3.40282e+38  3.40282e+38           \n",
      "   transit.xshift3 frozen            0 -3.40282e+38  3.40282e+38           \n",
      "   transit.xshift4 frozen            0 -3.40282e+38  3.40282e+38           \n"
     ]
    }
   ],
   "source": [
    "# Freeze almost all parameters\n",
    "model0.flux0.freeze()\n",
    "model0.epoch.freeze()\n",
    "model0.inclin.freeze()\n",
    "model0.msmpr.freeze()\n",
    "model0.ecc.freeze()\n",
    "model0.m_fac.freeze()\n",
    "model0.hstp1.freeze()\n",
    "model0.hstp2.freeze()\n",
    "model0.hstp3.freeze()\n",
    "model0.hstp4.freeze()\n",
    "model0.xshift1.freeze()\n",
    "model0.xshift2.freeze()\n",
    "model0.xshift3.freeze()\n",
    "model0.xshift4.freeze()\n",
    "\n",
    "print(model0)"
   ]
  },
  {
   "cell_type": "code",
   "execution_count": 7,
   "metadata": {},
   "outputs": [],
   "source": [
    "# Stick all parameters in one tuple so that we can use the calc() method below\n",
    "params = (model0.rl.val, model0.flux0.val, model0.epoch.val, model0.inclin.val, model0.MsMpR.val,\n",
    "          model0.ecc.val, model0.omega.val, model0.period.val, model0.tzero.val, model0.c1.val,\n",
    "          model0.c2.val, model0.c3.val, model0.c4.val, model0.m_fac.val, model0.hstp1.val,\n",
    "          model0.hstp2.val, model0.hstp3.val, model0.hstp4.val, model0.xshift1.val,\n",
    "          model0.xshift2.val, model0.xshift3.val, model0.xshift4.val)"
   ]
  },
  {
   "cell_type": "code",
   "execution_count": 8,
   "metadata": {},
   "outputs": [],
   "source": [
    "# Calculate model on denser grid to display (smooth model)\n",
    "ytest = model0.calc(pars=params, x=smooth_x)"
   ]
  },
  {
   "cell_type": "code",
   "execution_count": 9,
   "metadata": {},
   "outputs": [
    {
     "data": {
      "text/plain": [
       "Text(0.5, 1.0, 'TEST: Smooth model over actual data, before fit')"
      ]
     },
     "execution_count": 9,
     "metadata": {},
     "output_type": "execute_result"
    },
    {
     "data": {
      "image/png": "[encoded data removed]",
      "text/plain": [
       "<Figure size 432x288 with 1 Axes>"
      ]
     },
     "metadata": {
      "needs_background": "light"
     },
     "output_type": "display_data"
    }
   ],
   "source": [
    "# Display model from denser grid over real data\n",
    "plt.plot(smooth_x, ytest, c='orange')\n",
    "plt.errorbar(data_x, data_y, yerr=uncertainty, fmt='.')\n",
    "plt.xlabel('phase')\n",
    "plt.ylabel('flux')\n",
    "plt.title('TEST: Smooth model over actual data, before fit')"
   ]
  },
  {
   "cell_type": "code",
   "execution_count": 10,
   "metadata": {},
   "outputs": [],
   "source": [
    "# This plot is useless\n",
    "# print('This is not a good way of visualizing the model')\n",
    "# mplot0 = ModelPlot()\n",
    "# mplot0.prepare(data0, model0)\n",
    "# mplot0.plot()"
   ]
  },
  {
   "cell_type": "code",
   "execution_count": 11,
   "metadata": {},
   "outputs": [],
   "source": [
    "# As is this one\n",
    "# Overplotting current model and data\n",
    "# print('This is not a good way of visualizing the model')\n",
    "# dplot0.plot()\n",
    "# mplot0.overplot()"
   ]
  },
  {
   "cell_type": "code",
   "execution_count": 12,
   "metadata": {},
   "outputs": [
    {
     "name": "stdout",
     "output_type": "stream",
     "text": [
      "name    = levmar\n",
      "ftol    = 1.1920928955078125e-07\n",
      "xtol    = 1.1920928955078125e-07\n",
      "gtol    = 1.1920928955078125e-07\n",
      "maxfev  = None\n",
      "epsfcn  = 2.220446049250313e-16\n",
      "factor  = 100.0\n",
      "verbose = 0\n",
      "Fit information:\n",
      "data      = example_transit\n",
      "model     = transit\n",
      "stat      = Chi2\n",
      "method    = LevMar\n",
      "estmethod = Covariance\n"
     ]
    }
   ],
   "source": [
    "# Set up statistics and optimizer\n",
    "stat = Chi2()\n",
    "opt = LevMar()\n",
    "opt.config['epsfcn'] = np.finfo(float).eps   # adjusting epsfcn to double precision\n",
    "#print(stat)\n",
    "print(opt)\n",
    "\n",
    "# Set up fit\n",
    "tfit0 = Fit(data0, model0, stat=stat, method=opt)\n",
    "print('Fit information:')\n",
    "print(tfit0)"
   ]
  },
  {
   "cell_type": "code",
   "execution_count": 13,
   "metadata": {},
   "outputs": [],
   "source": [
    "# Perform the fit\n",
    "fitresult0 = tfit0.fit()"
   ]
  },
  {
   "cell_type": "code",
   "execution_count": 14,
   "metadata": {},
   "outputs": [
    {
     "name": "stdout",
     "output_type": "stream",
     "text": [
      "datasets       = None\n",
      "itermethodname = none\n",
      "methodname     = levmar\n",
      "statname       = chi2\n",
      "succeeded      = True\n",
      "parnames       = ('transit.rl',)\n",
      "parvals        = (0.1,)\n",
      "statval        = 0.0\n",
      "istatval       = 0.0\n",
      "dstatval       = 0.0\n",
      "numpoints      = 27\n",
      "dof            = 26\n",
      "qval           = 1.0\n",
      "rstat          = 0.0\n",
      "message        = successful termination\n",
      "nfev           = 2\n"
     ]
    }
   ],
   "source": [
    "print(fitresult0)"
   ]
  },
  {
   "cell_type": "markdown",
   "metadata": {},
   "source": [
    "### Final results and plot test 0"
   ]
  },
  {
   "cell_type": "code",
   "execution_count": 15,
   "metadata": {},
   "outputs": [],
   "source": [
    "# Prepare smooth model of fit\n",
    "# Stick all parameters in one tuple so that we can use method below\n",
    "params0 = (model0.rl.val, model0.flux0.val, model0.epoch.val, model0.inclin.val, model0.MsMpR.val,\n",
    "           model0.ecc.val, model0.omega.val, model0.period.val, model0.tzero.val, model0.c1.val,\n",
    "           model0.c2.val, model0.c3.val, model0.c4.val, model0.m_fac.val, model0.hstp1.val,\n",
    "           model0.hstp2.val, model0.hstp3.val, model0.hstp4.val, model0.xshift1.val,\n",
    "           model0.xshift2.val, model0.xshift3.val, model0.xshift4.val)\n",
    "\n",
    "# Calculate model on denser grid to display (smooth model)\n",
    "smooth_y0 = model0.calc(pars=params0, x=smooth_x)"
   ]
  },
  {
   "cell_type": "code",
   "execution_count": 16,
   "metadata": {},
   "outputs": [
    {
     "name": "stdout",
     "output_type": "stream",
     "text": [
      "rl = 0.1 +/- 0.0006666668057442002\n",
      "Reduced chi-squared: 0.0\n"
     ]
    },
    {
     "data": {
      "text/plain": [
       "Text(0.5, 1.0, 'Smooth model test 0 over actual data')"
      ]
     },
     "execution_count": 16,
     "metadata": {},
     "output_type": "execute_result"
    },
    {
     "data": {
      "image/png": "[encoded data removed]",
      "text/plain": [
       "<Figure size 864x360 with 1 Axes>"
      ]
     },
     "metadata": {
      "needs_background": "light"
     },
     "output_type": "display_data"
    }
   ],
   "source": [
    "# Error from Hessian\n",
    "calc_errors0 = np.sqrt(fitresult0.extra_output['covar'].diagonal())\n",
    "rl_err0 = calc_errors0[0]\n",
    "\n",
    "print('rl = {} +/- {}'.format(model0.rl.val, rl_err0))\n",
    "print('Reduced chi-squared: {}'.format(fitresult0.rstat))\n",
    "\n",
    "# Display model from denser grid over real data after fitting\n",
    "plt.figure(figsize=(12, 5))\n",
    "plt.plot(smooth_x, smooth_y0, c='orange')\n",
    "plt.errorbar(data_x, data_y, yerr=uncertainty, fmt='.')\n",
    "plt.xlabel('phase')\n",
    "plt.ylabel('flux')\n",
    "plt.title('Smooth model test 0 over actual data')"
   ]
  },
  {
   "cell_type": "markdown",
   "metadata": {},
   "source": [
    "## Test 1\n",
    "\n",
    "Simple dataset with additional scatter"
   ]
  },
  {
   "cell_type": "code",
   "execution_count": 17,
   "metadata": {},
   "outputs": [
    {
     "name": "stdout",
     "output_type": "stream",
     "text": [
      "(27,)\n"
     ]
    }
   ],
   "source": [
    "random_scatter = np.array([0.32558253, -0.55610514, -1.1150768, -1.2337022, -1.2678875,\n",
    "                           0.60321692, 1.1025507, 1.5080730, 0.76113001, 0.51978011,\n",
    "                           0.72241364, -0.086782108, -0.22698337, 0.22780245, 0.47119014,\n",
    "                           -2.1660677, -1.2477670, 0.28568456, 0.40292731, 0.077955817,\n",
    "                           -1.1090623, 0.66895172, -0.59215439, 0.79973968, 1.0603756,\n",
    "                           0.82684954, -1.8334587])\n",
    "print(random_scatter.shape)"
   ]
  },
  {
   "cell_type": "code",
   "execution_count": 18,
   "metadata": {},
   "outputs": [],
   "source": [
    "# Add random scatter\n",
    "original_y = np.copy(data_y)\n",
    "data_y = original_y + (random_scatter * uncertainty)"
   ]
  },
  {
   "cell_type": "code",
   "execution_count": 19,
   "metadata": {},
   "outputs": [
    {
     "data": {
      "text/plain": [
       "<matplotlib.collections.PathCollection at 0x11a3836a0>"
      ]
     },
     "execution_count": 19,
     "metadata": {},
     "output_type": "execute_result"
    },
    {
     "data": {
      "image/png": "[encoded data removed]",
      "text/plain": [
       "<Figure size 432x288 with 1 Axes>"
      ]
     },
     "metadata": {
      "needs_background": "light"
     },
     "output_type": "display_data"
    }
   ],
   "source": [
    "# Quick loop at scattered data\n",
    "plt.scatter(data_x, data_y)"
   ]
  },
  {
   "cell_type": "code",
   "execution_count": 20,
   "metadata": {},
   "outputs": [
    {
     "data": {
      "image/png": "[encoded data removed]",
      "text/plain": [
       "<Figure size 432x288 with 1 Axes>"
      ]
     },
     "metadata": {
      "needs_background": "light"
     },
     "output_type": "display_data"
    }
   ],
   "source": [
    "# Make Sherpa data obkect out of this\n",
    "data1 = Data1D('example_transit', data_x, data_y, staterror=uncertainty)   # create data object\n",
    "dplot1 = DataPlot()         # create data *plot* object\n",
    "dplot1.prepare(data1)   # prepare plot\n",
    "dplot1.plot()"
   ]
  },
  {
   "cell_type": "code",
   "execution_count": 21,
   "metadata": {},
   "outputs": [
    {
     "name": "stdout",
     "output_type": "stream",
     "text": [
      "transit\n",
      "   Param        Type          Value          Min          Max      Units\n",
      "   -----        ----          -----          ---          ---      -----\n",
      "   transit.rl   thawed          0.1 -3.40282e+38  3.40282e+38           \n",
      "   transit.flux0 thawed      1.00013 -3.40282e+38  3.40282e+38           \n",
      "   transit.epoch thawed            0 -3.40282e+38  3.40282e+38 days [MJD]\n",
      "   transit.inclin thawed       1.5708 -3.40282e+38  3.40282e+38    radians\n",
      "   transit.msmpr thawed       2218.7 -3.40282e+38  3.40282e+38           \n",
      "   transit.ecc  thawed            0 -3.40282e+38  3.40282e+38    degrees\n",
      "   transit.omega frozen            0 -3.40282e+38  3.40282e+38    degrees\n",
      "   transit.period frozen          3.5 -3.40282e+38  3.40282e+38       days\n",
      "   transit.tzero frozen       -0.046 -3.40282e+38  3.40282e+38 days [MJD]\n",
      "   transit.c1   frozen            0 -3.40282e+38  3.40282e+38           \n",
      "   transit.c2   frozen            0 -3.40282e+38  3.40282e+38           \n",
      "   transit.c3   frozen            0 -3.40282e+38  3.40282e+38           \n",
      "   transit.c4   frozen            0 -3.40282e+38  3.40282e+38           \n",
      "   transit.m_fac thawed            0 -3.40282e+38  3.40282e+38           \n",
      "   transit.hstp1 thawed            0 -3.40282e+38  3.40282e+38           \n",
      "   transit.hstp2 thawed            0 -3.40282e+38  3.40282e+38           \n",
      "   transit.hstp3 thawed            0 -3.40282e+38  3.40282e+38           \n",
      "   transit.hstp4 thawed            0 -3.40282e+38  3.40282e+38           \n",
      "   transit.xshift1 thawed            0 -3.40282e+38  3.40282e+38           \n",
      "   transit.xshift2 thawed            0 -3.40282e+38  3.40282e+38           \n",
      "   transit.xshift3 thawed            0 -3.40282e+38  3.40282e+38           \n",
      "   transit.xshift4 thawed            0 -3.40282e+38  3.40282e+38           \n"
     ]
    }
   ],
   "source": [
    "# Create and visualize model\n",
    "model1 = marg.Transit(data_x[0], msmpr, c1, c2, c3, c4, flux0=data_y[0], x_in_phase=True, name='transit', sh=None)\n",
    "print(model1)"
   ]
  },
  {
   "cell_type": "code",
   "execution_count": 22,
   "metadata": {},
   "outputs": [
    {
     "name": "stdout",
     "output_type": "stream",
     "text": [
      "transit\n",
      "   Param        Type          Value          Min          Max      Units\n",
      "   -----        ----          -----          ---          ---      -----\n",
      "   transit.rl   thawed          0.1 -3.40282e+38  3.40282e+38           \n",
      "   transit.flux0 frozen      1.00013 -3.40282e+38  3.40282e+38           \n",
      "   transit.epoch frozen            0 -3.40282e+38  3.40282e+38 days [MJD]\n",
      "   transit.inclin frozen       1.5708 -3.40282e+38  3.40282e+38    radians\n",
      "   transit.msmpr frozen       2218.7 -3.40282e+38  3.40282e+38           \n",
      "   transit.ecc  frozen            0 -3.40282e+38  3.40282e+38    degrees\n",
      "   transit.omega frozen            0 -3.40282e+38  3.40282e+38    degrees\n",
      "   transit.period frozen          3.5 -3.40282e+38  3.40282e+38       days\n",
      "   transit.tzero frozen       -0.046 -3.40282e+38  3.40282e+38 days [MJD]\n",
      "   transit.c1   frozen            0 -3.40282e+38  3.40282e+38           \n",
      "   transit.c2   frozen            0 -3.40282e+38  3.40282e+38           \n",
      "   transit.c3   frozen            0 -3.40282e+38  3.40282e+38           \n",
      "   transit.c4   frozen            0 -3.40282e+38  3.40282e+38           \n",
      "   transit.m_fac frozen            0 -3.40282e+38  3.40282e+38           \n",
      "   transit.hstp1 frozen            0 -3.40282e+38  3.40282e+38           \n",
      "   transit.hstp2 frozen            0 -3.40282e+38  3.40282e+38           \n",
      "   transit.hstp3 frozen            0 -3.40282e+38  3.40282e+38           \n",
      "   transit.hstp4 frozen            0 -3.40282e+38  3.40282e+38           \n",
      "   transit.xshift1 frozen            0 -3.40282e+38  3.40282e+38           \n",
      "   transit.xshift2 frozen            0 -3.40282e+38  3.40282e+38           \n",
      "   transit.xshift3 frozen            0 -3.40282e+38  3.40282e+38           \n",
      "   transit.xshift4 frozen            0 -3.40282e+38  3.40282e+38           \n"
     ]
    }
   ],
   "source": [
    "# Freeze almost all parameters\n",
    "model1.flux0.freeze()\n",
    "model1.epoch.freeze()\n",
    "model1.inclin.freeze()\n",
    "model1.msmpr.freeze()\n",
    "model1.ecc.freeze()\n",
    "model1.m_fac.freeze()\n",
    "model1.hstp1.freeze()\n",
    "model1.hstp2.freeze()\n",
    "model1.hstp3.freeze()\n",
    "model1.hstp4.freeze()\n",
    "model1.xshift1.freeze()\n",
    "model1.xshift2.freeze()\n",
    "model1.xshift3.freeze()\n",
    "model1.xshift4.freeze()\n",
    "\n",
    "print(model1)"
   ]
  },
  {
   "cell_type": "code",
   "execution_count": 23,
   "metadata": {},
   "outputs": [],
   "source": [
    "# The useles plot\n",
    "# mplot1 = ModelPlot()\n",
    "# mplot1.prepare(data1, model1)\n",
    "# mplot1.plot()"
   ]
  },
  {
   "cell_type": "code",
   "execution_count": 24,
   "metadata": {},
   "outputs": [],
   "source": [
    "# Overplotting current model and data\n",
    "# dplot1.plot()\n",
    "# mplot1.overplot()"
   ]
  },
  {
   "cell_type": "code",
   "execution_count": 25,
   "metadata": {},
   "outputs": [
    {
     "name": "stdout",
     "output_type": "stream",
     "text": [
      "Fit information:\n",
      "data      = example_transit\n",
      "model     = transit\n",
      "stat      = Chi2\n",
      "method    = LevMar\n",
      "estmethod = Covariance\n"
     ]
    }
   ],
   "source": [
    "# Set up fit\n",
    "tfit1 = Fit(data1, model1, stat=stat, method=opt)\n",
    "print('Fit information:')\n",
    "print(tfit1)"
   ]
  },
  {
   "cell_type": "code",
   "execution_count": 26,
   "metadata": {},
   "outputs": [
    {
     "name": "stdout",
     "output_type": "stream",
     "text": [
      "datasets       = None\n",
      "itermethodname = none\n",
      "methodname     = levmar\n",
      "statname       = chi2\n",
      "succeeded      = True\n",
      "parnames       = ('transit.rl',)\n",
      "parvals        = (0.10097328512645733,)\n",
      "statval        = 26.060421525048007\n",
      "istatval       = 28.213165463525648\n",
      "dstatval       = 2.1527439384776414\n",
      "numpoints      = 27\n",
      "dof            = 26\n",
      "qval           = 0.45978727353039944\n",
      "rstat          = 1.0023239048095387\n",
      "message        = successful termination\n",
      "nfev           = 6\n"
     ]
    }
   ],
   "source": [
    "# Perform the fit\n",
    "fitresult1 = tfit1.fit()\n",
    "print(fitresult1)"
   ]
  },
  {
   "cell_type": "markdown",
   "metadata": {},
   "source": [
    "### Final results and plot test 1"
   ]
  },
  {
   "cell_type": "code",
   "execution_count": 27,
   "metadata": {},
   "outputs": [],
   "source": [
    "# Prepare smooth model of fit\n",
    "# Stick all parameters in one tuple so that we can use method below\n",
    "params1 = (model1.rl.val, model1.flux0.val, model1.epoch.val, model1.inclin.val, model1.MsMpR.val,\n",
    "           model1.ecc.val, model1.omega.val, model1.period.val, model1.tzero.val, model1.c1.val,\n",
    "           model1.c2.val, model1.c3.val, model1.c4.val, model1.m_fac.val, model1.hstp1.val,\n",
    "           model1.hstp2.val, model1.hstp3.val, model1.hstp4.val, model1.xshift1.val,\n",
    "           model1.xshift2.val, model1.xshift3.val, model1.xshift4.val)\n",
    "\n",
    "# Calculate model on denser grid to display (smooth model)\n",
    "smooth_y1 = model1.calc(pars=params1, x=smooth_x)"
   ]
  },
  {
   "cell_type": "code",
   "execution_count": 28,
   "metadata": {},
   "outputs": [
    {
     "name": "stdout",
     "output_type": "stream",
     "text": [
      "rl = 0.10097328512645733 +/- 0.0006601544569321049\n",
      "Reduced chi-squared: 1.0023239048095387\n"
     ]
    },
    {
     "data": {
      "text/plain": [
       "Text(0.5, 1.0, 'Smooth model test 1 over actual data')"
      ]
     },
     "execution_count": 28,
     "metadata": {},
     "output_type": "execute_result"
    },
    {
     "data": {
      "image/png": "[encoded data removed]",
      "text/plain": [
       "<Figure size 864x360 with 1 Axes>"
      ]
     },
     "metadata": {
      "needs_background": "light"
     },
     "output_type": "display_data"
    }
   ],
   "source": [
    "# Error from Hessian\n",
    "calc_errors1 = np.sqrt(fitresult1.extra_output['covar'].diagonal())\n",
    "rl_err1 = calc_errors1[0]\n",
    "\n",
    "# Results\n",
    "print('rl = {} +/- {}'.format(model1.rl.val, rl_err1))\n",
    "print('Reduced chi-squared: {}'.format(fitresult1.rstat))\n",
    "\n",
    "# Display model from denser grid over real data after fitting\n",
    "plt.figure(figsize=(12, 5))\n",
    "plt.plot(smooth_x, smooth_y1, c='orange')\n",
    "plt.errorbar(data_x, data_y, yerr=uncertainty, fmt='.')\n",
    "plt.xlabel('phase')\n",
    "plt.ylabel('flux')\n",
    "plt.title('Smooth model test 1 over actual data')"
   ]
  },
  {
   "cell_type": "markdown",
   "metadata": {},
   "source": [
    "## Test 2\n",
    "\n",
    "Simple dataset with additional scatter and set limb-darkening coefficients"
   ]
  },
  {
   "cell_type": "code",
   "execution_count": 29,
   "metadata": {},
   "outputs": [],
   "source": [
    "# Limb darkening setup\n",
    "# Values just copied directly from:\n",
    "# https://github.com/hrwakeford/ExoTiC-ISM/issues/59#issuecomment-533657499\n",
    "\n",
    "c1 = 0.66396105\n",
    "c2 = -0.12617095\n",
    "c3 = 0.053649047\n",
    "c4 = -0.026713433\n",
    "\n",
    "# To make sure we use the same numbers, I will just copy the IDL data from here:\n",
    "# https://github.com/hrwakeford/ExoTiC-ISM/issues/59#issuecomment-533657499\n",
    "data_y = [1.0001302, 0.99977756, 0.99955397, 0.99950652, 0.99949285, 1.0002413,\n",
    "          1.0004410, 1.0006032, 1.0003045, 0.98918739, 0.98921560, 0.98886110,\n",
    "          0.98879472, 0.98898693, 0.98911511, 0.98811305, 0.98855772, 0.98927710,\n",
    "          1.0001612, 1.0000312, 0.99955638, 1.0002676, 0.99976314, 1.0003199,\n",
    "          1.0004242, 1.0003307, 0.99926662]"
   ]
  },
  {
   "cell_type": "code",
   "execution_count": 30,
   "metadata": {},
   "outputs": [
    {
     "data": {
      "image/png": "[encoded data removed]",
      "text/plain": [
       "<Figure size 432x288 with 1 Axes>"
      ]
     },
     "metadata": {
      "needs_background": "light"
     },
     "output_type": "display_data"
    }
   ],
   "source": [
    "# Make Sherpa data obkect out of this\n",
    "data2 = Data1D('example_transit', data_x, data_y, staterror=uncertainty)   # create data object\n",
    "dplot2 = DataPlot()         # create data *plot* object\n",
    "dplot2.prepare(data2)   # prepare plot\n",
    "dplot2.plot()"
   ]
  },
  {
   "cell_type": "code",
   "execution_count": 31,
   "metadata": {},
   "outputs": [
    {
     "name": "stdout",
     "output_type": "stream",
     "text": [
      "transit\n",
      "   Param        Type          Value          Min          Max      Units\n",
      "   -----        ----          -----          ---          ---      -----\n",
      "   transit.rl   thawed          0.1 -3.40282e+38  3.40282e+38           \n",
      "   transit.flux0 thawed      1.00013 -3.40282e+38  3.40282e+38           \n",
      "   transit.epoch thawed            0 -3.40282e+38  3.40282e+38 days [MJD]\n",
      "   transit.inclin thawed       1.5708 -3.40282e+38  3.40282e+38    radians\n",
      "   transit.msmpr thawed       2218.7 -3.40282e+38  3.40282e+38           \n",
      "   transit.ecc  thawed            0 -3.40282e+38  3.40282e+38    degrees\n",
      "   transit.omega frozen            0 -3.40282e+38  3.40282e+38    degrees\n",
      "   transit.period frozen          3.5 -3.40282e+38  3.40282e+38       days\n",
      "   transit.tzero frozen       -0.046 -3.40282e+38  3.40282e+38 days [MJD]\n",
      "   transit.c1   frozen     0.663961 -3.40282e+38  3.40282e+38           \n",
      "   transit.c2   frozen    -0.126171 -3.40282e+38  3.40282e+38           \n",
      "   transit.c3   frozen     0.053649 -3.40282e+38  3.40282e+38           \n",
      "   transit.c4   frozen   -0.0267134 -3.40282e+38  3.40282e+38           \n",
      "   transit.m_fac thawed            0 -3.40282e+38  3.40282e+38           \n",
      "   transit.hstp1 thawed            0 -3.40282e+38  3.40282e+38           \n",
      "   transit.hstp2 thawed            0 -3.40282e+38  3.40282e+38           \n",
      "   transit.hstp3 thawed            0 -3.40282e+38  3.40282e+38           \n",
      "   transit.hstp4 thawed            0 -3.40282e+38  3.40282e+38           \n",
      "   transit.xshift1 thawed            0 -3.40282e+38  3.40282e+38           \n",
      "   transit.xshift2 thawed            0 -3.40282e+38  3.40282e+38           \n",
      "   transit.xshift3 thawed            0 -3.40282e+38  3.40282e+38           \n",
      "   transit.xshift4 thawed            0 -3.40282e+38  3.40282e+38           \n"
     ]
    }
   ],
   "source": [
    "# Create and visualize model\n",
    "model2 = marg.Transit(data_x[0], msmpr, c1, c2, c3, c4, flux0=data_y[0], x_in_phase=True, name='transit', sh=None)\n",
    "print(model2)"
   ]
  },
  {
   "cell_type": "code",
   "execution_count": 32,
   "metadata": {},
   "outputs": [
    {
     "name": "stdout",
     "output_type": "stream",
     "text": [
      "transit\n",
      "   Param        Type          Value          Min          Max      Units\n",
      "   -----        ----          -----          ---          ---      -----\n",
      "   transit.rl   thawed          0.1 -3.40282e+38  3.40282e+38           \n",
      "   transit.flux0 frozen      1.00013 -3.40282e+38  3.40282e+38           \n",
      "   transit.epoch frozen            0 -3.40282e+38  3.40282e+38 days [MJD]\n",
      "   transit.inclin frozen       1.5708 -3.40282e+38  3.40282e+38    radians\n",
      "   transit.msmpr frozen       2218.7 -3.40282e+38  3.40282e+38           \n",
      "   transit.ecc  frozen            0 -3.40282e+38  3.40282e+38    degrees\n",
      "   transit.omega frozen            0 -3.40282e+38  3.40282e+38    degrees\n",
      "   transit.period frozen          3.5 -3.40282e+38  3.40282e+38       days\n",
      "   transit.tzero frozen       -0.046 -3.40282e+38  3.40282e+38 days [MJD]\n",
      "   transit.c1   frozen     0.663961 -3.40282e+38  3.40282e+38           \n",
      "   transit.c2   frozen    -0.126171 -3.40282e+38  3.40282e+38           \n",
      "   transit.c3   frozen     0.053649 -3.40282e+38  3.40282e+38           \n",
      "   transit.c4   frozen   -0.0267134 -3.40282e+38  3.40282e+38           \n",
      "   transit.m_fac frozen            0 -3.40282e+38  3.40282e+38           \n",
      "   transit.hstp1 frozen            0 -3.40282e+38  3.40282e+38           \n",
      "   transit.hstp2 frozen            0 -3.40282e+38  3.40282e+38           \n",
      "   transit.hstp3 frozen            0 -3.40282e+38  3.40282e+38           \n",
      "   transit.hstp4 frozen            0 -3.40282e+38  3.40282e+38           \n",
      "   transit.xshift1 frozen            0 -3.40282e+38  3.40282e+38           \n",
      "   transit.xshift2 frozen            0 -3.40282e+38  3.40282e+38           \n",
      "   transit.xshift3 frozen            0 -3.40282e+38  3.40282e+38           \n",
      "   transit.xshift4 frozen            0 -3.40282e+38  3.40282e+38           \n"
     ]
    }
   ],
   "source": [
    "# Freeze almost all parameters\n",
    "model2.flux0.freeze()\n",
    "model2.epoch.freeze()\n",
    "model2.inclin.freeze()\n",
    "model2.msmpr.freeze()\n",
    "model2.ecc.freeze()\n",
    "model2.m_fac.freeze()\n",
    "model2.hstp1.freeze()\n",
    "model2.hstp2.freeze()\n",
    "model2.hstp3.freeze()\n",
    "model2.hstp4.freeze()\n",
    "model2.xshift1.freeze()\n",
    "model2.xshift2.freeze()\n",
    "model2.xshift3.freeze()\n",
    "model2.xshift4.freeze()\n",
    "\n",
    "print(model2)"
   ]
  },
  {
   "cell_type": "code",
   "execution_count": 33,
   "metadata": {},
   "outputs": [],
   "source": [
    "# Still useless...\n",
    "# mplot2 = ModelPlot()\n",
    "# mplot2.prepare(data2, model2)\n",
    "# mplot2.plot()"
   ]
  },
  {
   "cell_type": "code",
   "execution_count": 34,
   "metadata": {},
   "outputs": [],
   "source": [
    "# Overplotting current model and data\n",
    "# dplot2.plot()\n",
    "# mplot2.overplot()"
   ]
  },
  {
   "cell_type": "code",
   "execution_count": 35,
   "metadata": {},
   "outputs": [
    {
     "name": "stdout",
     "output_type": "stream",
     "text": [
      "Fit information:\n",
      "data      = example_transit\n",
      "model     = transit\n",
      "stat      = Chi2\n",
      "method    = LevMar\n",
      "estmethod = Covariance\n"
     ]
    }
   ],
   "source": [
    "# Set up fit\n",
    "tfit2 = Fit(data2, model2, stat=stat, method=opt)\n",
    "print('Fit information:')\n",
    "print(tfit2)"
   ]
  },
  {
   "cell_type": "code",
   "execution_count": 36,
   "metadata": {},
   "outputs": [
    {
     "name": "stdout",
     "output_type": "stream",
     "text": [
      "datasets       = None\n",
      "itermethodname = none\n",
      "methodname     = levmar\n",
      "statname       = chi2\n",
      "succeeded      = True\n",
      "parnames       = ('transit.rl',)\n",
      "parvals        = (0.10088074234965887,)\n",
      "statval        = 26.06987299632367\n",
      "istatval       = 28.20850060757801\n",
      "dstatval       = 2.138627611254339\n",
      "numpoints      = 27\n",
      "dof            = 26\n",
      "qval           = 0.4592690467320147\n",
      "rstat          = 1.0026874229355258\n",
      "message        = successful termination\n",
      "nfev           = 6\n"
     ]
    }
   ],
   "source": [
    "# Perform the fit\n",
    "fitresult2 = tfit2.fit()\n",
    "print(fitresult2)"
   ]
  },
  {
   "cell_type": "markdown",
   "metadata": {},
   "source": [
    "### Final results and plot test 2"
   ]
  },
  {
   "cell_type": "code",
   "execution_count": 37,
   "metadata": {},
   "outputs": [],
   "source": [
    "# Prepare smooth model of fit\n",
    "# Stick all parameters in one tuple so that we can use method below\n",
    "params2 = (model2.rl.val, model2.flux0.val, model2.epoch.val, model2.inclin.val, model2.MsMpR.val,\n",
    "           model2.ecc.val, model2.omega.val, model2.period.val, model2.tzero.val, model2.c1.val,\n",
    "           model2.c2.val, model2.c3.val, model2.c4.val, model2.m_fac.val, model2.hstp1.val,\n",
    "           model2.hstp2.val, model2.hstp3.val, model2.hstp4.val, model2.xshift1.val,\n",
    "           model2.xshift2.val, model2.xshift3.val, model2.xshift4.val)\n",
    "\n",
    "# Calculate model on denser grid to display (smooth model)\n",
    "smooth_y2 = model2.calc(pars=params2, x=smooth_x)"
   ]
  },
  {
   "cell_type": "code",
   "execution_count": 38,
   "metadata": {},
   "outputs": [
    {
     "name": "stdout",
     "output_type": "stream",
     "text": [
      "rl = 0.10088074234965887 +/- 0.0005996366661930596\n",
      "Reduced chi-squared: 1.0026874229355258\n"
     ]
    },
    {
     "data": {
      "text/plain": [
       "Text(0.5, 1.0, 'Smooth model test 2 over actual data')"
      ]
     },
     "execution_count": 38,
     "metadata": {},
     "output_type": "execute_result"
    },
    {
     "data": {
      "image/png": "[encoded data removed]",
      "text/plain": [
       "<Figure size 864x360 with 1 Axes>"
      ]
     },
     "metadata": {
      "needs_background": "light"
     },
     "output_type": "display_data"
    }
   ],
   "source": [
    "# Error from Hessian\n",
    "calc_errors2 = np.sqrt(fitresult2.extra_output['covar'].diagonal())\n",
    "rl_err2 = calc_errors2[0]\n",
    "\n",
    "# Results\n",
    "print('rl = {} +/- {}'.format(model2.rl.val, rl_err2))\n",
    "print('Reduced chi-squared: {}'.format(fitresult2.rstat))\n",
    "\n",
    "# Display model from denser grid over real data after fitting\n",
    "plt.figure(figsize=(12, 5))\n",
    "plt.plot(smooth_x, smooth_y2, c='orange')\n",
    "plt.errorbar(data_x, data_y, yerr=uncertainty, fmt='.')\n",
    "plt.xlabel('phase')\n",
    "plt.ylabel('flux')\n",
    "plt.title('Smooth model test 2 over actual data')"
   ]
  },
  {
   "cell_type": "markdown",
   "metadata": {},
   "source": [
    "## Test 3\n",
    "\n",
    "Simple dataset with additional scatter, set limb-darkening coefficients, and a linear slope"
   ]
  },
  {
   "cell_type": "code",
   "execution_count": 39,
   "metadata": {},
   "outputs": [],
   "source": [
    "# Create linear slope\n",
    "m_fac = 0.04\n",
    "line = (data_x * m_fac) + 1.00\n",
    "\n",
    "# Add to y data\n",
    "#second_y = np.copy(data_y)\n",
    "#data_y = line * (second_y + (random_scatter*uncertainty))\n",
    "\n",
    "# To make sure we use the same numbers, I will just copy the IDL data from here:\n",
    "# https://github.com/hrwakeford/ExoTiC-ISM/issues/59#issuecomment-533665365\n",
    "data_y = np.array([0.99929017, 0.99901777, 0.99887430, 0.99890683,\n",
    "                   0.99897318, 0.99980124, 1.0000809, 1.0003231,\n",
    "                   1.0001044, 0.98993925, 0.99004661, 0.98977091, 0.98978356,\n",
    "                   0.99005507, 0.99026251, 0.98933832, 0.98986262, 0.99066208, \n",
    "                   1.0024415, 1.0023914, 1.0019954, 1.0027883, 1.0023626,\n",
    "                   1.0030008, 1.0031854, 1.0031717, 1.0021845])"
   ]
  },
  {
   "cell_type": "code",
   "execution_count": 40,
   "metadata": {},
   "outputs": [
    {
     "data": {
      "image/png": "[encoded data removed]",
      "text/plain": [
       "<Figure size 432x288 with 1 Axes>"
      ]
     },
     "metadata": {
      "needs_background": "light"
     },
     "output_type": "display_data"
    }
   ],
   "source": [
    "# Make Sherpa data obkect out of this\n",
    "data3 = Data1D('example_transit', data_x, data_y, staterror=uncertainty)   # create data object\n",
    "dplot3 = DataPlot()         # create data *plot* object\n",
    "dplot3.prepare(data3)   # prepare plot\n",
    "dplot3.plot()"
   ]
  },
  {
   "cell_type": "code",
   "execution_count": 41,
   "metadata": {},
   "outputs": [
    {
     "name": "stdout",
     "output_type": "stream",
     "text": [
      "transit\n",
      "   Param        Type          Value          Min          Max      Units\n",
      "   -----        ----          -----          ---          ---      -----\n",
      "   transit.rl   thawed          0.1 -3.40282e+38  3.40282e+38           \n",
      "   transit.flux0 thawed      0.99929 -3.40282e+38  3.40282e+38           \n",
      "   transit.epoch thawed            0 -3.40282e+38  3.40282e+38 days [MJD]\n",
      "   transit.inclin thawed       1.5708 -3.40282e+38  3.40282e+38    radians\n",
      "   transit.msmpr thawed       2218.7 -3.40282e+38  3.40282e+38           \n",
      "   transit.ecc  thawed            0 -3.40282e+38  3.40282e+38    degrees\n",
      "   transit.omega frozen            0 -3.40282e+38  3.40282e+38    degrees\n",
      "   transit.period frozen          3.5 -3.40282e+38  3.40282e+38       days\n",
      "   transit.tzero frozen       -0.046 -3.40282e+38  3.40282e+38 days [MJD]\n",
      "   transit.c1   frozen     0.663961 -3.40282e+38  3.40282e+38           \n",
      "   transit.c2   frozen    -0.126171 -3.40282e+38  3.40282e+38           \n",
      "   transit.c3   frozen     0.053649 -3.40282e+38  3.40282e+38           \n",
      "   transit.c4   frozen   -0.0267134 -3.40282e+38  3.40282e+38           \n",
      "   transit.m_fac thawed            0 -3.40282e+38  3.40282e+38           \n",
      "   transit.hstp1 thawed            0 -3.40282e+38  3.40282e+38           \n",
      "   transit.hstp2 thawed            0 -3.40282e+38  3.40282e+38           \n",
      "   transit.hstp3 thawed            0 -3.40282e+38  3.40282e+38           \n",
      "   transit.hstp4 thawed            0 -3.40282e+38  3.40282e+38           \n",
      "   transit.xshift1 thawed            0 -3.40282e+38  3.40282e+38           \n",
      "   transit.xshift2 thawed            0 -3.40282e+38  3.40282e+38           \n",
      "   transit.xshift3 thawed            0 -3.40282e+38  3.40282e+38           \n",
      "   transit.xshift4 thawed            0 -3.40282e+38  3.40282e+38           \n"
     ]
    }
   ],
   "source": [
    "# Create and visualize model\n",
    "model3 = marg.Transit(data_x[0], msmpr, c1, c2, c3, c4, flux0=data_y[0], x_in_phase=True, name='transit', sh=None)\n",
    "print(model3)"
   ]
  },
  {
   "cell_type": "markdown",
   "metadata": {},
   "source": [
    "Note how the parameter `m_fac` has a starting value of 0 in the model, so that we don't bias the fit towards the real values used to generate the data."
   ]
  },
  {
   "cell_type": "code",
   "execution_count": 42,
   "metadata": {},
   "outputs": [
    {
     "name": "stdout",
     "output_type": "stream",
     "text": [
      "transit\n",
      "   Param        Type          Value          Min          Max      Units\n",
      "   -----        ----          -----          ---          ---      -----\n",
      "   transit.rl   thawed          0.1 -3.40282e+38  3.40282e+38           \n",
      "   transit.flux0 frozen      0.99929 -3.40282e+38  3.40282e+38           \n",
      "   transit.epoch frozen            0 -3.40282e+38  3.40282e+38 days [MJD]\n",
      "   transit.inclin frozen       1.5708 -3.40282e+38  3.40282e+38    radians\n",
      "   transit.msmpr frozen       2218.7 -3.40282e+38  3.40282e+38           \n",
      "   transit.ecc  frozen            0 -3.40282e+38  3.40282e+38    degrees\n",
      "   transit.omega frozen            0 -3.40282e+38  3.40282e+38    degrees\n",
      "   transit.period frozen          3.5 -3.40282e+38  3.40282e+38       days\n",
      "   transit.tzero frozen       -0.046 -3.40282e+38  3.40282e+38 days [MJD]\n",
      "   transit.c1   frozen     0.663961 -3.40282e+38  3.40282e+38           \n",
      "   transit.c2   frozen    -0.126171 -3.40282e+38  3.40282e+38           \n",
      "   transit.c3   frozen     0.053649 -3.40282e+38  3.40282e+38           \n",
      "   transit.c4   frozen   -0.0267134 -3.40282e+38  3.40282e+38           \n",
      "   transit.m_fac thawed            0 -3.40282e+38  3.40282e+38           \n",
      "   transit.hstp1 frozen            0 -3.40282e+38  3.40282e+38           \n",
      "   transit.hstp2 frozen            0 -3.40282e+38  3.40282e+38           \n",
      "   transit.hstp3 frozen            0 -3.40282e+38  3.40282e+38           \n",
      "   transit.hstp4 frozen            0 -3.40282e+38  3.40282e+38           \n",
      "   transit.xshift1 frozen            0 -3.40282e+38  3.40282e+38           \n",
      "   transit.xshift2 frozen            0 -3.40282e+38  3.40282e+38           \n",
      "   transit.xshift3 frozen            0 -3.40282e+38  3.40282e+38           \n",
      "   transit.xshift4 frozen            0 -3.40282e+38  3.40282e+38           \n"
     ]
    }
   ],
   "source": [
    "# Freeze almost all parameters\n",
    "# Note how m_fac stays thawed\n",
    "model3.flux0.freeze()\n",
    "model3.epoch.freeze()\n",
    "model3.inclin.freeze()\n",
    "model3.msmpr.freeze()\n",
    "model3.ecc.freeze()\n",
    "model3.hstp1.freeze()\n",
    "model3.hstp2.freeze()\n",
    "model3.hstp3.freeze()\n",
    "model3.hstp4.freeze()\n",
    "model3.xshift1.freeze()\n",
    "model3.xshift2.freeze()\n",
    "model3.xshift3.freeze()\n",
    "model3.xshift4.freeze()\n",
    "\n",
    "print(model3)"
   ]
  },
  {
   "cell_type": "code",
   "execution_count": 43,
   "metadata": {},
   "outputs": [],
   "source": [
    "# ...\n",
    "# mplot3 = ModelPlot()\n",
    "# mplot3.prepare(data3, model3)\n",
    "# mplot3.plot()"
   ]
  },
  {
   "cell_type": "code",
   "execution_count": 44,
   "metadata": {},
   "outputs": [],
   "source": [
    "# Overplotting current model and data\n",
    "# dplot3.plot()\n",
    "# mplot3.overplot()"
   ]
  },
  {
   "cell_type": "code",
   "execution_count": 45,
   "metadata": {},
   "outputs": [
    {
     "name": "stdout",
     "output_type": "stream",
     "text": [
      "Fit information:\n",
      "data      = example_transit\n",
      "model     = transit\n",
      "stat      = Chi2\n",
      "method    = LevMar\n",
      "estmethod = Covariance\n"
     ]
    }
   ],
   "source": [
    "# Set up fit\n",
    "tfit3 = Fit(data3, model3, stat=stat, method=opt)\n",
    "print('Fit information:')\n",
    "print(tfit3)"
   ]
  },
  {
   "cell_type": "code",
   "execution_count": 46,
   "metadata": {},
   "outputs": [
    {
     "name": "stdout",
     "output_type": "stream",
     "text": [
      "datasets       = None\n",
      "itermethodname = none\n",
      "methodname     = levmar\n",
      "statname       = chi2\n",
      "succeeded      = True\n",
      "parnames       = ('transit.rl', 'transit.m_fac')\n",
      "parvals        = (0.09234342060811525, 0.041289855115730856)\n",
      "statval        = 356.7405123603774\n",
      "istatval       = 818.9348721332243\n",
      "dstatval       = 462.1943597728469\n",
      "numpoints      = 27\n",
      "dof            = 25\n",
      "qval           = 2.077460172244262e-60\n",
      "rstat          = 14.269620494415097\n",
      "message        = successful termination\n",
      "nfev           = 10\n"
     ]
    }
   ],
   "source": [
    "# Perform the fit\n",
    "fitresult3 = tfit3.fit()\n",
    "print(fitresult3)"
   ]
  },
  {
   "cell_type": "markdown",
   "metadata": {},
   "source": [
    "### Final results and plot test 3"
   ]
  },
  {
   "cell_type": "code",
   "execution_count": 47,
   "metadata": {},
   "outputs": [],
   "source": [
    "# Prepare smooth model of fit\n",
    "# Stick all parameters in one tuple so that we can use method below\n",
    "params3 = (model3.rl.val, model3.flux0.val, model3.epoch.val, model3.inclin.val, model3.MsMpR.val,\n",
    "           model3.ecc.val, model3.omega.val, model3.period.val, model3.tzero.val, model3.c1.val,\n",
    "           model3.c2.val, model3.c3.val, model3.c4.val, model3.m_fac.val, model3.hstp1.val,\n",
    "           model3.hstp2.val, model3.hstp3.val, model3.hstp4.val, model3.xshift1.val,\n",
    "           model3.xshift2.val, model3.xshift3.val, model3.xshift4.val)\n",
    "\n",
    "# Calculate model on denser grid to display (smooth model)\n",
    "smooth_y3 = model3.calc(pars=params3, x=smooth_x)"
   ]
  },
  {
   "cell_type": "code",
   "execution_count": 48,
   "metadata": {},
   "outputs": [
    {
     "name": "stdout",
     "output_type": "stream",
     "text": [
      "rl = 0.09234342060811525 +/- 0.0006557666333904805\n",
      "m_fac = 0.041289855115730856 +/- 0.002387368644610102\n",
      "Reduced chi-squared: 14.269620494415097\n"
     ]
    },
    {
     "data": {
      "text/plain": [
       "Text(0.5, 1.0, 'Smooth model test 3 over actual data')"
      ]
     },
     "execution_count": 48,
     "metadata": {},
     "output_type": "execute_result"
    },
    {
     "data": {
      "image/png": "[encoded data removed]",
      "text/plain": [
       "<Figure size 864x360 with 1 Axes>"
      ]
     },
     "metadata": {
      "needs_background": "light"
     },
     "output_type": "display_data"
    }
   ],
   "source": [
    "# Errors from Hessian\n",
    "calc_errors3 = np.sqrt(fitresult3.extra_output['covar'].diagonal())\n",
    "rl_err3 = calc_errors3[0]\n",
    "m_fac_err3 = calc_errors3[1]\n",
    "\n",
    "# Results\n",
    "print('rl = {} +/- {}'.format(model3.rl.val, rl_err3))\n",
    "print('m_fac = {} +/- {}'.format(model3.m_fac.val, m_fac_err3))\n",
    "print('Reduced chi-squared: {}'.format(fitresult3.rstat))\n",
    "\n",
    "# Display model from denser grid over real data after fitting\n",
    "plt.figure(figsize=(12, 5))\n",
    "plt.plot(smooth_x, smooth_y3, c='orange')\n",
    "plt.errorbar(data_x, data_y, yerr=uncertainty, fmt='.')\n",
    "plt.plot(data_x, line, c='r', linestyle='dashed')\n",
    "plt.xlabel('phase')\n",
    "plt.ylabel('flux')\n",
    "plt.title('Smooth model test 3 over actual data')"
   ]
  },
  {
   "cell_type": "code",
   "execution_count": null,
   "metadata": {},
   "outputs": [],
   "source": []
  }
 ],
 "metadata": {
  "kernelspec": {
   "display_name": "Python 3",
   "language": "python",
   "name": "python3"
  },
  "language_info": {
   "codemirror_mode": {
    "name": "ipython",
    "version": 3
   },
   "file_extension": ".py",
   "mimetype": "text/x-python",
   "name": "python",
   "nbconvert_exporter": "python",
   "pygments_lexer": "ipython3",
   "version": "3.7.3"
  }
 },
 "nbformat": 4,
 "nbformat_minor": 2
}
