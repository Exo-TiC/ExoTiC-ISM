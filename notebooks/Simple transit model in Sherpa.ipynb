{
 "cells": [
  {
   "cell_type": "markdown",
   "metadata": {},
   "source": [
    "# Simple transit model in Sherpa\n",
    "\n",
    "Mostly to work on issue #59 in the repo, but this should definitley be converted into a tutorial at some point.\n",
    "\n",
    "Make sure you update your configfile accordingly:\n",
    "\n",
    "```ini\n",
    "[setup]\n",
    "data_set = simple_transit\n",
    "```"
   ]
  },
  {
   "cell_type": "code",
   "execution_count": null,
   "metadata": {},
   "outputs": [],
   "source": [
    "# Imports\n",
    "import os\n",
    "import numpy as np\n",
    "import matplotlib.pyplot as plt\n",
    "from astropy.constants import G\n",
    "\n",
    "from sherpa.models import model\n",
    "from sherpa.data import Data1D\n",
    "from sherpa.plot import DataPlot\n",
    "from sherpa.plot import ModelPlot\n",
    "from sherpa.fit import Fit\n",
    "from sherpa.stats import LeastSq\n",
    "from sherpa.optmethods import LevMar\n",
    "from sherpa.stats import Chi2\n",
    "from sherpa.plot import FitPlot\n",
    "\n",
    "os.chdir('../exotic-ism')\n",
    "import margmodule as marg\n",
    "from config import CONFIG_INI"
   ]
  },
  {
   "cell_type": "markdown",
   "metadata": {},
   "source": [
    "## Test 0\n",
    "\n",
    "Simple dataset with no additional scatter."
   ]
  },
  {
   "cell_type": "code",
   "execution_count": null,
   "metadata": {},
   "outputs": [],
   "source": [
    "# Test parameters\n",
    "planet_sys = CONFIG_INI.get('setup', 'data_set')\n",
    "dtosec = CONFIG_INI.getfloat('constants', 'dtosec')\n",
    "period = CONFIG_INI.getfloat(planet_sys, 'Per')\n",
    "Per = period * dtosec\n",
    "aor = CONFIG_INI.getfloat(planet_sys, 'aor')\n",
    "constant1 = (G * Per * Per / (4 *np.pi * np.pi))**(1/3)\n",
    "msmpr = (aor/(constant1))**3\n",
    "print(msmpr)\n",
    "print(G.value)\n",
    "print(Per)\n",
    "\n",
    "# limb darkening parameters\n",
    "c1 = 0.0\n",
    "c2 = 0.0\n",
    "c3 = 0.0\n",
    "c4 = 0.0\n",
    "\n",
    "data_x = np.array([-0.046, -0.044, -0.042, -0.040, -0.038, -0.036, -0.034,\n",
    "                   -0.032, -0.030, -0.006, -0.004, -0.002, 0.0, 0.002, 0.004,\n",
    "                   0.006, 0.008, 0.01, 0.032, 0.034, 0.036, 0.038, 0.040,\n",
    "                   0.042, 0.044, 0.046,0.048])\n",
    "\n",
    "data_y = np.array([1.0000000, 1.0000000, 1.0000000, 1.0000000, 1.0000000,\n",
    "                   1.0000000, 1.0000000, 1.0000000, 1.0000000, 0.99000000,\n",
    "                   0.99000000, 0.99000000, 0.99000000, 0.99000000, 0.99000000,\n",
    "                   0.99000000, 0.99000000, 0.99000000, 1.0000000, 1.0000000,\n",
    "                   1.0000000, 1.0000000, 1.0000000, 1.0000000, 1.0000000,\n",
    "                   1.0000000, 1.0000000])\n",
    "\n",
    "uncertainty = np.array([0.0004] * len(data_x))\n",
    "sh = np.array([0.] * len(data_x))   # not really needed, but needed for Transit() model setup"
   ]
  },
  {
   "cell_type": "code",
   "execution_count": null,
   "metadata": {},
   "outputs": [],
   "source": [
    "# Quick check of input data\n",
    "plt.plot(data_x, data_y)\n",
    "plt.title('Quick test input data')\n",
    "plt.xlabel('Phase')\n",
    "plt.ylabel('Flux')"
   ]
  },
  {
   "cell_type": "code",
   "execution_count": null,
   "metadata": {},
   "outputs": [],
   "source": [
    "# Make Sherpa data obkect out of this\n",
    "data0 = Data1D('example_transit', data_x, data_y, staterror=uncertainty)   # create data object\n",
    "dplot0 = DataPlot()         # create data *plot* object\n",
    "dplot0.prepare(data0)   # prepare plot\n",
    "dplot0.plot()"
   ]
  },
  {
   "cell_type": "code",
   "execution_count": null,
   "metadata": {},
   "outputs": [],
   "source": [
    "# Create and visualize model\n",
    "model0 = marg.Transit(data_x[0], msmpr, c1, c2, c3, c4, flux0=data_y[0], x_in_phase=True, name='transit', sh=sh)\n",
    "print(model0)"
   ]
  },
  {
   "cell_type": "code",
   "execution_count": null,
   "metadata": {},
   "outputs": [],
   "source": [
    "# Freeze almost all parameters\n",
    "model0.flux0.freeze()\n",
    "model0.epoch.freeze()\n",
    "model0.inclin.freeze()\n",
    "model0.msmpr.freeze()\n",
    "model0.ecc.freeze()\n",
    "model0.m_fac.freeze()\n",
    "model0.hstp1.freeze()\n",
    "model0.hstp2.freeze()\n",
    "model0.hstp3.freeze()\n",
    "model0.hstp4.freeze()\n",
    "model0.xshift1.freeze()\n",
    "model0.xshift2.freeze()\n",
    "model0.xshift3.freeze()\n",
    "model0.xshift4.freeze()\n",
    "\n",
    "print(model0)"
   ]
  },
  {
   "cell_type": "code",
   "execution_count": null,
   "metadata": {},
   "outputs": [],
   "source": [
    "mplot0 = ModelPlot()\n",
    "mplot0.prepare(data0, model0)\n",
    "mplot0.plot()"
   ]
  },
  {
   "cell_type": "code",
   "execution_count": null,
   "metadata": {},
   "outputs": [],
   "source": [
    "# Overplotting current model and data\n",
    "dplot0.plot()\n",
    "mplot0.overplot()"
   ]
  },
  {
   "cell_type": "code",
   "execution_count": null,
   "metadata": {},
   "outputs": [],
   "source": [
    "# Set up statistics and optimizer\n",
    "stat = Chi2()\n",
    "opt = LevMar()\n",
    "opt.config['epsfcn'] = np.finfo(float).eps   # adjusting epsfcn to double precision\n",
    "#print(stat)\n",
    "print(opt)\n",
    "\n",
    "# Set up fit\n",
    "tfit0 = Fit(data0, model0, stat=stat, method=opt)\n",
    "print('Fit information:')\n",
    "print(tfit0)"
   ]
  },
  {
   "cell_type": "code",
   "execution_count": null,
   "metadata": {},
   "outputs": [],
   "source": [
    "# Perform the fit\n",
    "fitresult0 = tfit0.fit()"
   ]
  },
  {
   "cell_type": "code",
   "execution_count": null,
   "metadata": {},
   "outputs": [],
   "source": [
    "print(fitresult0)"
   ]
  },
  {
   "cell_type": "markdown",
   "metadata": {},
   "source": [
    "### Final results and plot test 0"
   ]
  },
  {
   "cell_type": "code",
   "execution_count": null,
   "metadata": {},
   "outputs": [],
   "source": [
    "# Error from Hessian\n",
    "calc_errors0 = np.sqrt(fitresult0.extra_output['covar'].diagonal())\n",
    "rl_err0 = calc_errors0[0]\n",
    "\n",
    "print('rl = {} +/- {}'.format(model0.rl.val, rl_err0))\n",
    "print('Reduced chi-squared: {}'.format(fitresult0.rstat))"
   ]
  },
  {
   "cell_type": "code",
   "execution_count": null,
   "metadata": {},
   "outputs": [],
   "source": [
    "mplot0 = ModelPlot()\n",
    "mplot0.prepare(data0, model0)\n",
    "\n",
    "dplot0.plot()\n",
    "mplot0.overplot()"
   ]
  },
  {
   "cell_type": "markdown",
   "metadata": {},
   "source": [
    "## Test 1\n",
    "\n",
    "Simple dataset with additional scatter"
   ]
  },
  {
   "cell_type": "code",
   "execution_count": null,
   "metadata": {},
   "outputs": [],
   "source": [
    "random_scatter = np.array([0.32558253, -0.55610514, -1.1150768, -1.2337022, -1.2678875,\n",
    "                           0.60321692, 1.1025507, 1.5080730, 0.76113001, 0.51978011,\n",
    "                           0.72241364, -0.086782108, -0.22698337, 0.22780245, 0.47119014,\n",
    "                           -2.1660677, -1.2477670, 0.28568456, 0.40292731, 0.077955817,\n",
    "                           -1.1090623, 0.66895172, -0.59215439, 0.79973968, 1.0603756,\n",
    "                           0.82684954, -1.8334587])\n",
    "print(random_scatter.shape)"
   ]
  },
  {
   "cell_type": "code",
   "execution_count": null,
   "metadata": {},
   "outputs": [],
   "source": [
    "# Add random scatter\n",
    "original_y = np.copy(data_y)\n",
    "data_y = original_y + (random_scatter * uncertainty)"
   ]
  },
  {
   "cell_type": "code",
   "execution_count": null,
   "metadata": {},
   "outputs": [],
   "source": [
    "# Quick loop at scattered data\n",
    "plt.scatter(data_x, data_y)"
   ]
  },
  {
   "cell_type": "code",
   "execution_count": null,
   "metadata": {},
   "outputs": [],
   "source": [
    "# Make Sherpa data obkect out of this\n",
    "data1 = Data1D('example_transit', data_x, data_y, staterror=uncertainty)   # create data object\n",
    "dplot1 = DataPlot()         # create data *plot* object\n",
    "dplot1.prepare(data1)   # prepare plot\n",
    "dplot1.plot()"
   ]
  },
  {
   "cell_type": "code",
   "execution_count": null,
   "metadata": {},
   "outputs": [],
   "source": [
    "# Create and visualize model\n",
    "model1 = marg.Transit(data_x[0], msmpr, c1, c2, c3, c4, flux0=data_y[0], x_in_phase=True, name='transit', sh=sh)\n",
    "print(model1)"
   ]
  },
  {
   "cell_type": "code",
   "execution_count": null,
   "metadata": {},
   "outputs": [],
   "source": [
    "# Freeze almost all parameters\n",
    "model1.flux0.freeze()\n",
    "model1.epoch.freeze()\n",
    "model1.inclin.freeze()\n",
    "model1.msmpr.freeze()\n",
    "model1.ecc.freeze()\n",
    "model1.m_fac.freeze()\n",
    "model1.hstp1.freeze()\n",
    "model1.hstp2.freeze()\n",
    "model1.hstp3.freeze()\n",
    "model1.hstp4.freeze()\n",
    "model1.xshift1.freeze()\n",
    "model1.xshift2.freeze()\n",
    "model1.xshift3.freeze()\n",
    "model1.xshift4.freeze()\n",
    "\n",
    "print(model1)"
   ]
  },
  {
   "cell_type": "code",
   "execution_count": null,
   "metadata": {},
   "outputs": [],
   "source": [
    "mplot1 = ModelPlot()\n",
    "mplot1.prepare(data1, model1)\n",
    "mplot1.plot()"
   ]
  },
  {
   "cell_type": "code",
   "execution_count": null,
   "metadata": {},
   "outputs": [],
   "source": [
    "# Overplotting current model and data\n",
    "dplot1.plot()\n",
    "mplot1.overplot()"
   ]
  },
  {
   "cell_type": "code",
   "execution_count": null,
   "metadata": {},
   "outputs": [],
   "source": [
    "# Set up fit\n",
    "tfit1 = Fit(data1, model1, stat=stat, method=opt)\n",
    "print('Fit information:')\n",
    "print(tfit1)"
   ]
  },
  {
   "cell_type": "code",
   "execution_count": null,
   "metadata": {},
   "outputs": [],
   "source": [
    "# Perform the fit\n",
    "fitresult1 = tfit1.fit()\n",
    "print(fitresult1)"
   ]
  },
  {
   "cell_type": "markdown",
   "metadata": {},
   "source": [
    "### Final results and plot test 1"
   ]
  },
  {
   "cell_type": "code",
   "execution_count": null,
   "metadata": {},
   "outputs": [],
   "source": [
    "# Error from Hessian\n",
    "calc_errors1 = np.sqrt(fitresult1.extra_output['covar'].diagonal())\n",
    "rl_err1 = calc_errors1[0]\n",
    "\n",
    "# Results\n",
    "print('rl = {} +/- {}'.format(model1.rl.val, rl_err1))\n",
    "print('Reduced chi-squared: {}'.format(fitresult1.rstat))"
   ]
  },
  {
   "cell_type": "code",
   "execution_count": null,
   "metadata": {},
   "outputs": [],
   "source": [
    "mplot1 = ModelPlot()\n",
    "mplot1.prepare(data1, model1)\n",
    "\n",
    "dplot1.plot()\n",
    "mplot1.overplot()"
   ]
  },
  {
   "cell_type": "markdown",
   "metadata": {},
   "source": [
    "## Test 2\n",
    "\n",
    "Simple dataset with additional scatter and set limb-darkening coefficients"
   ]
  },
  {
   "cell_type": "code",
   "execution_count": null,
   "metadata": {},
   "outputs": [],
   "source": [
    "# Limb darkening setup\n",
    "# Values just copied directly from:\n",
    "# https://github.com/hrwakeford/ExoTiC-ISM/issues/59#issuecomment-533657499\n",
    "\n",
    "c1 = 0.66396105\n",
    "c2 = -0.12617095\n",
    "c3 = 0.053649047\n",
    "c4 = -0.026713433\n",
    "\n",
    "# To make sure we use the same numbers, I will just copy the IDL data from here:\n",
    "# https://github.com/hrwakeford/ExoTiC-ISM/issues/59#issuecomment-533657499\n",
    "data_y = [1.0001302, 0.99977756, 0.99955397, 0.99950652, 0.99949285, 1.0002413,\n",
    "          1.0004410, 1.0006032, 1.0003045, 0.98918739, 0.98921560, 0.98886110,\n",
    "          0.98879472, 0.98898693, 0.98911511, 0.98811305, 0.98855772, 0.98927710,\n",
    "          1.0001612, 1.0000312, 0.99955638, 1.0002676, 0.99976314, 1.0003199,\n",
    "          1.0004242, 1.0003307, 0.99926662]"
   ]
  },
  {
   "cell_type": "code",
   "execution_count": null,
   "metadata": {},
   "outputs": [],
   "source": [
    "# Make Sherpa data obkect out of this\n",
    "data2 = Data1D('example_transit', data_x, data_y, staterror=uncertainty)   # create data object\n",
    "dplot2 = DataPlot()         # create data *plot* object\n",
    "dplot2.prepare(data2)   # prepare plot\n",
    "dplot2.plot()"
   ]
  },
  {
   "cell_type": "code",
   "execution_count": null,
   "metadata": {},
   "outputs": [],
   "source": [
    "# Create and visualize model\n",
    "model2 = marg.Transit(data_x[0], msmpr, c1, c2, c3, c4, flux0=data_y[0], x_in_phase=True, name='transit', sh=sh)\n",
    "print(model2)"
   ]
  },
  {
   "cell_type": "code",
   "execution_count": null,
   "metadata": {},
   "outputs": [],
   "source": [
    "# Freeze almost all parameters\n",
    "model2.flux0.freeze()\n",
    "model2.epoch.freeze()\n",
    "model2.inclin.freeze()\n",
    "model2.msmpr.freeze()\n",
    "model2.ecc.freeze()\n",
    "model2.m_fac.freeze()\n",
    "model2.hstp1.freeze()\n",
    "model2.hstp2.freeze()\n",
    "model2.hstp3.freeze()\n",
    "model2.hstp4.freeze()\n",
    "model2.xshift1.freeze()\n",
    "model2.xshift2.freeze()\n",
    "model2.xshift3.freeze()\n",
    "model2.xshift4.freeze()\n",
    "\n",
    "print(model2)"
   ]
  },
  {
   "cell_type": "code",
   "execution_count": null,
   "metadata": {},
   "outputs": [],
   "source": [
    "mplot2 = ModelPlot()\n",
    "mplot2.prepare(data2, model2)\n",
    "mplot2.plot()"
   ]
  },
  {
   "cell_type": "code",
   "execution_count": null,
   "metadata": {},
   "outputs": [],
   "source": [
    "# Overplotting current model and data\n",
    "dplot2.plot()\n",
    "mplot2.overplot()"
   ]
  },
  {
   "cell_type": "code",
   "execution_count": null,
   "metadata": {},
   "outputs": [],
   "source": [
    "# Set up fit\n",
    "tfit2 = Fit(data2, model2, stat=stat, method=opt)\n",
    "print('Fit information:')\n",
    "print(tfit2)"
   ]
  },
  {
   "cell_type": "code",
   "execution_count": null,
   "metadata": {},
   "outputs": [],
   "source": [
    "# Perform the fit\n",
    "fitresult2 = tfit2.fit()\n",
    "print(fitresult2)"
   ]
  },
  {
   "cell_type": "markdown",
   "metadata": {},
   "source": [
    "### Final results and plot test 2"
   ]
  },
  {
   "cell_type": "code",
   "execution_count": null,
   "metadata": {},
   "outputs": [],
   "source": [
    "# Error from Hessian\n",
    "calc_errors2 = np.sqrt(fitresult2.extra_output['covar'].diagonal())\n",
    "rl_err2 = calc_errors2[0]\n",
    "\n",
    "# Results\n",
    "print('rl = {} +/- {}'.format(model2.rl.val, rl_err2))\n",
    "print('Reduced chi-squared: {}'.format(fitresult2.rstat))"
   ]
  },
  {
   "cell_type": "code",
   "execution_count": null,
   "metadata": {},
   "outputs": [],
   "source": [
    "mplot2 = ModelPlot()\n",
    "mplot2.prepare(data2, model2)\n",
    "\n",
    "dplot2.plot()\n",
    "mplot2.overplot()"
   ]
  },
  {
   "cell_type": "markdown",
   "metadata": {},
   "source": [
    "## Test 3\n",
    "\n",
    "Simple dataset with additional scatter, set limb-darkening coefficients, and a linear slope"
   ]
  },
  {
   "cell_type": "code",
   "execution_count": null,
   "metadata": {},
   "outputs": [],
   "source": [
    "# Create linear slope\n",
    "m_fac = 0.04\n",
    "line = (data_x * m_fac) + 1.00\n",
    "\n",
    "# Add to y data\n",
    "#second_y = np.copy(data_y)\n",
    "#data_y = line * (second_y + (random_scatter*uncertainty))\n",
    "\n",
    "# To make sure we use the same numbers, I will just copy the IDL data from here:\n",
    "# https://github.com/hrwakeford/ExoTiC-ISM/issues/59#issuecomment-533665365\n",
    "data_y = np.array([0.99929017, 0.99901777, 0.99887430, 0.99890683,\n",
    "                   0.99897318, 0.99980124, 1.0000809, 1.0003231,\n",
    "                   1.0001044, 0.98993925, 0.99004661, 0.98977091, 0.98978356,\n",
    "                   0.99005507, 0.99026251, 0.98933832, 0.98986262, 0.99066208, \n",
    "                   1.0024415, 1.0023914, 1.0019954, 1.0027883, 1.0023626,\n",
    "                   1.0030008, 1.0031854, 1.0031717, 1.0021845])"
   ]
  },
  {
   "cell_type": "code",
   "execution_count": null,
   "metadata": {},
   "outputs": [],
   "source": [
    "# Make Sherpa data obkect out of this\n",
    "data3 = Data1D('example_transit', data_x, data_y, staterror=uncertainty)   # create data object\n",
    "dplot3 = DataPlot()         # create data *plot* object\n",
    "dplot3.prepare(data3)   # prepare plot\n",
    "dplot3.plot()"
   ]
  },
  {
   "cell_type": "code",
   "execution_count": null,
   "metadata": {},
   "outputs": [],
   "source": [
    "# Create and visualize model\n",
    "model3 = marg.Transit(data_x[0], msmpr, c1, c2, c3, c4, flux0=data_y[0], x_in_phase=True, name='transit', sh=sh)\n",
    "print(model3)"
   ]
  },
  {
   "cell_type": "code",
   "execution_count": null,
   "metadata": {},
   "outputs": [],
   "source": [
    "# Freeze almost all parameters\n",
    "# Note how m_fac stays thawed\n",
    "model3.flux0.freeze()\n",
    "model3.epoch.freeze()\n",
    "model3.inclin.freeze()\n",
    "model3.msmpr.freeze()\n",
    "model3.ecc.freeze()\n",
    "model3.hstp1.freeze()\n",
    "model3.hstp2.freeze()\n",
    "model3.hstp3.freeze()\n",
    "model3.hstp4.freeze()\n",
    "model3.xshift1.freeze()\n",
    "model3.xshift2.freeze()\n",
    "model3.xshift3.freeze()\n",
    "model3.xshift4.freeze()\n",
    "\n",
    "print(model3)"
   ]
  },
  {
   "cell_type": "code",
   "execution_count": null,
   "metadata": {},
   "outputs": [],
   "source": [
    "# data1 and model3 on purpose, since data didn't change this time\n",
    "mplot3 = ModelPlot()\n",
    "mplot3.prepare(data3, model3)\n",
    "mplot3.plot()"
   ]
  },
  {
   "cell_type": "code",
   "execution_count": null,
   "metadata": {},
   "outputs": [],
   "source": [
    "# Overplotting current model and data\n",
    "dplot3.plot()\n",
    "mplot3.overplot()"
   ]
  },
  {
   "cell_type": "code",
   "execution_count": null,
   "metadata": {},
   "outputs": [],
   "source": [
    "# Set up fit\n",
    "tfit3 = Fit(data3, model3, stat=stat, method=opt)\n",
    "print('Fit information:')\n",
    "print(tfit3)"
   ]
  },
  {
   "cell_type": "code",
   "execution_count": null,
   "metadata": {},
   "outputs": [],
   "source": [
    "# Perform the fit\n",
    "fitresult3 = tfit3.fit()\n",
    "print(fitresult3)"
   ]
  },
  {
   "cell_type": "markdown",
   "metadata": {},
   "source": [
    "### Final results and plot test 3"
   ]
  },
  {
   "cell_type": "code",
   "execution_count": null,
   "metadata": {},
   "outputs": [],
   "source": [
    "# Errors from Hessian\n",
    "calc_errors3 = np.sqrt(fitresult3.extra_output['covar'].diagonal())\n",
    "rl_err3 = calc_errors3[0]\n",
    "m_fac_err3 = calc_errors3[1]\n",
    "\n",
    "# Results\n",
    "print('rl = {} +/- {}'.format(model3.rl.val, rl_err3))\n",
    "print('m_fac = {} +/- {}'.format(model3.m_fac.val, m_fac_err3))\n",
    "print('Reduced chi-squared: {}'.format(fitresult3.rstat))"
   ]
  },
  {
   "cell_type": "code",
   "execution_count": null,
   "metadata": {},
   "outputs": [],
   "source": [
    "mplot3 = ModelPlot()\n",
    "mplot3.prepare(data3, model3)\n",
    "\n",
    "dplot3.plot()\n",
    "mplot3.overplot()"
   ]
  },
  {
   "cell_type": "code",
   "execution_count": null,
   "metadata": {},
   "outputs": [],
   "source": []
  }
 ],
 "metadata": {
  "kernelspec": {
   "display_name": "Python 3",
   "language": "python",
   "name": "python3"
  },
  "language_info": {
   "codemirror_mode": {
    "name": "ipython",
    "version": 3
   },
   "file_extension": ".py",
   "mimetype": "text/x-python",
   "name": "python",
   "nbconvert_exporter": "python",
   "pygments_lexer": "ipython3",
   "version": "3.7.3"
  }
 },
 "nbformat": 4,
 "nbformat_minor": 2
}
