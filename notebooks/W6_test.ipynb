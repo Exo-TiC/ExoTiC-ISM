{
 "cells": [
  {
   "cell_type": "code",
   "execution_count": 1,
   "metadata": {
    "collapsed": true
   },
   "outputs": [],
   "source": [
    "import scipy.io \n",
    "import numpy as np\n",
    "import os\n",
    "import time\n",
    "import sys\n",
    "import matplotlib as mpl\n",
    "import matplotlib.pyplot as plt\n",
    "import matplotlib.gridspec as grid\n",
    "from astropy import stats\n",
    "from shutil import copy"
   ]
  },
  {
   "cell_type": "code",
   "execution_count": null,
   "metadata": {
    "collapsed": true
   },
   "outputs": [],
   "source": [
    "# read in the IDL sav files from the analysis\n",
    "analysis = scipy.io.readsav('/Users/hwakeford/Documents/GitHub/HST_Marginalization/outputs/W6/analysis_circle_G141_wl_time_wm1d.sav', verbose=False)\n",
    "IDL_sys_stats = analysis['sys_stats']\n",
    "IDL_sys_date = analysis['sys_date']\n",
    "IDL_sys_phase = analysis['sys_phase']\n",
    "IDL_sys_rawflux = analysis['sys_rawflux']\n",
    "IDL_sys_rawflux_err = analysis['sys_rawflux_err']\n",
    "IDL_sys_flux  = analysis['sys_flux']\n",
    "IDL_sys_flux_err  = analysis['sys_flux_err']\n",
    "IDL_sys_residuals  = analysis['sys_residuals']\n",
    "IDL_sys_model = analysis['sys_model']\n",
    "IDL_sys_model_phase = analysis['sys_model_phase']\n",
    "IDL_sys_systematic_model  = analysis['sys_systematic_model']\n",
    "IDL_sys_params  = analysis['sys_params']\n",
    "IDL_sys_params_err  = analysis['sys_params_err']\n",
    "IDL_sys_depth  = analysis['sys_depth']\n",
    "IDL_sys_depth_err = analysis['sys_depth_err']\n",
    "IDL_sys_epoch  = analysis['sys_epoch']\n",
    "IDL_sys_epoch_err  = analysis['sys_epoch_err']\n",
    "IDL_sys_evidenceaic  = analysis['sys_evidenceaic']\n",
    "IDL_sys_evidencebic  = analysis['sys_evidencebic']\n",
    "\n",
    "# read in the IDL sav files from the Margainalisation \n",
    "marg = scipy.io.readsav('/Users/hwakeford/Documents/GitHub/HST_Marginalization/outputs/W6/analysis_circle_G141_marginalised_wl_time_wm1d.sav', verbose=False)\n",
    "\n",
    "IDL_w_q = marg['w_q']\n",
    "IDL_best_sys = marg['best_sys']\n",
    "IDL_marg_rl = marg['marg_rl']\n",
    "IDL_marg_rl_err = marg['marg_rl_err']\n",
    "IDL_marg_epoch = marg['marg_epoch']\n",
    "IDL_marg_epoch_err = marg['marg_epoch_err']\n",
    "IDL_rl_sdnr  = marg['rl_sdnr']\n",
    "IDL_pos  = marg['pos']"
   ]
  },
  {
   "cell_type": "code",
   "execution_count": 2,
   "metadata": {
    "collapsed": true
   },
   "outputs": [],
   "source": [
    "\n",
    "# read in the Python save files for the analysis\n",
    "py_analysis = np.load('/Users/hwakeford/Documents/GitHub/HST_Marginalization/outputs/W6/analysis_circle_G141_wl_time_1d.npz')\n",
    "\n",
    "py_sys_stats = (py_analysis['sys_stats'])\n",
    "py_sys_date = (py_analysis['sys_date'])\n",
    "py_sys_phase = (py_analysis['sys_phase'])\n",
    "py_sys_rawflux = (py_analysis['sys_rawflux'])\n",
    "py_sys_rawflux_err = (py_analysis['sys_rawflux_err'])\n",
    "py_sys_flux = (py_analysis['sys_flux'])\n",
    "py_sys_flux_err = (py_analysis['sys_flux_err'])\n",
    "py_sys_residuals = (py_analysis['sys_residuals'])\n",
    "py_sys_model = (py_analysis['sys_model'])\n",
    "py_sys_model_phase = (py_analysis['sys_model_phase'])\n",
    "py_sys_systematic_model = (py_analysis['sys_systematic_model'])\n",
    "py_sys_params = (py_analysis['sys_params'])\n",
    "py_sys_params_err = (py_analysis['sys_params_err'])\n",
    "py_sys_depth = (py_analysis['sys_depth'])\n",
    "py_sys_depth_err = (py_analysis['sys_depth_err'])\n",
    "py_sys_epoch = (py_analysis['sys_epoch'])\n",
    "py_sys_epoch_err = (py_analysis['sys_epoch_err'])\n",
    "py_sys_evidenceAIC = (py_analysis['sys_evidenceAIC'])\n",
    "py_sys_evidenceBIC = (py_analysis['sys_evidenceBIC'])\n",
    "\n",
    "\n",
    "# # read in the Python save files for the marginalisationa\n",
    "# py_marg = np.load('/Users/hwakeford/Documents/GitHub/HST_Marginalization/outputs/W6/analysis_circle_G141_marginalised_wl_time_wm1d.npz')\n",
    "\n",
    "# py_w_q = (py_marg['w_q'])\n",
    "# py_best_sys = (py_marg['best_sys'])\n",
    "# py_marg_rl = (py_marg['marg_rl'])\n",
    "# py_marg_rl_err = (py_marg['marg_rl_err']) \n",
    "# py_marg_epoch = (py_marg['marg_epoch'])\n",
    "# py_marg_epoch_err = (py_marg['marg_epoch_err']) \n",
    "# py_marg_inclin_rad = (py_marg['marg_inclin_rad']) \n",
    "# py_marg_inclin_rad_err = (py_marg['marg_inclin_rad_err']) \n",
    "# py_marg_inclin_deg = (py_marg['marg_inclin_deg'])\n",
    "# py_marg_inclin_deg_err = (py_marg['marg_inclin_deg_err']) \n",
    "# py_marg_msmpr = (py_marg['marg_msmpr']) \n",
    "# py_marg_msmpr_err = (py_marg['marg_msmpr_err']) \n",
    "# py_marg_aors = (py_marg['marg_aors']) \n",
    "# py_marg_aors_err = (py_marg['marg_aors_err']) \n",
    "# py_rl_sdnr = (py_marg['rl_sdnr']) \n",
    "# py_pos = (py_marg['pos'])\n",
    "\n"
   ]
  },
  {
   "cell_type": "code",
   "execution_count": null,
   "metadata": {
    "collapsed": true
   },
   "outputs": [],
   "source": [
    "print('TEST Results')\n",
    "print('-----------------')\n",
    "print('IDL Marg depth = ', IDL_marg_rl, ' +/- ', IDL_marg_rl_err)\n",
    "print('PY Marg depth = ', py_marg_rl, ' +/- ', py_marg_rl_err)\n",
    "\n",
    "plt.errorbar([1,1.1],[IDL_marg_rl,py_marg_rl], yerr=[IDL_marg_rl_err,py_marg_rl_err], color='blue', marker='o')\n",
    "plt.xlim(0.9,1.2)\n",
    "plt.tight_layout()\n",
    "plt.show()"
   ]
  },
  {
   "cell_type": "code",
   "execution_count": 6,
   "metadata": {},
   "outputs": [
    {
     "name": "stdout",
     "output_type": "stream",
     "text": [
      "(50, 22)\n"
     ]
    },
    {
     "data": {
      "image/png": "[encoded data removed]",
      "text/plain": [
       "<matplotlib.figure.Figure at 0x112168e10>"
      ]
     },
     "metadata": {},
     "output_type": "display_data"
    }
   ],
   "source": [
    "xarray = np.linspace(1,len(py_sys_stats[:,0]),len(py_sys_stats[:,0]))\n",
    "print(np.shape(py_sys_params_err))\n",
    "\n",
    "\n",
    "# plt.plot(xarray, IDL_sys_params[16,:], color='b', marker='o')\n",
    "plt.plot(xarray, py_sys_params[:,16], color='r', marker='s',alpha=0.5)\n",
    "# plt.hlines(0.0,-2,55)\n",
    "plt.tight_layout()\n",
    "plt.show()"
   ]
  },
  {
   "cell_type": "code",
   "execution_count": 7,
   "metadata": {},
   "outputs": [
    {
     "data": {
      "image/png": "[encoded data removed]",
      "text/plain": [
       "<matplotlib.figure.Figure at 0x112bc6cf8>"
      ]
     },
     "metadata": {},
     "output_type": "display_data"
    },
    {
     "name": "stdout",
     "output_type": "stream",
     "text": [
      "-3.000363446012848\n"
     ]
    }
   ],
   "source": [
    "# plt.plot(xarray, IDL_sys_params_err[16,:], color='b', marker='o')\n",
    "plt.plot(xarray, py_sys_params_err[:,16], color='r', marker='s',alpha=0.5)\n",
    "# plt.hlines(0.0,-2,55)\n",
    "plt.tight_layout()\n",
    "plt.show()\n",
    "\n",
    "# 1.5244813970993492\n",
    "# print(IDL_sys_params[3,0])\n",
    "# print(np.sum(IDL_sys_params[16,:]), \n",
    "print(np.sum(py_sys_params[:,16]))"
   ]
  },
  {
   "cell_type": "code",
   "execution_count": null,
   "metadata": {
    "collapsed": true
   },
   "outputs": [],
   "source": []
  },
  {
   "cell_type": "code",
   "execution_count": null,
   "metadata": {
    "collapsed": true
   },
   "outputs": [],
   "source": []
  },
  {
   "cell_type": "code",
   "execution_count": null,
   "metadata": {
    "collapsed": true
   },
   "outputs": [],
   "source": []
  }
 ],
 "metadata": {
  "kernelspec": {
   "display_name": "Python 3",
   "language": "python",
   "name": "python3"
  },
  "language_info": {
   "codemirror_mode": {
    "name": "ipython",
    "version": 3
   },
   "file_extension": ".py",
   "mimetype": "text/x-python",
   "name": "python",
   "nbconvert_exporter": "python",
   "pygments_lexer": "ipython3",
   "version": "3.6.3"
  }
 },
 "nbformat": 4,
 "nbformat_minor": 2
}
