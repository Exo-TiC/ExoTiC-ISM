{
 "cells": [
  {
   "cell_type": "markdown",
   "metadata": {},
   "source": [
    "# Tutorial on how to use the transit function and limb-darkening functions independent of the marginalisation framework\n",
    "\n",
    "Here we will need to import the `margmodule` code from **ExoTiC-ISM**. If you have followed the install of the package and used the `setup.py` this will work anywhere as long as you are in the environment where it was installed.\n",
    "\n",
    "Remember when using any part of the **ExoTiC-ISM** package please follow our `citation.txt` file"
   ]
  },
  {
   "cell_type": "code",
   "execution_count": 10,
   "metadata": {},
   "outputs": [],
   "source": [
    "import os\n",
    "import numpy as np\n",
    "import matplotlib.pyplot as plt\n",
    "\n",
    "import astropy.units as u\n",
    "from astropy.constants import G\n",
    "\n",
    "# These are the important ones we are using from ExoTiC-ISM\n",
    "from exoticism.limb_darkening import limb_dark_fit\n",
    "import exoticism.margmodule as marg"
   ]
  },
  {
   "cell_type": "markdown",
   "metadata": {},
   "source": [
    "Independent of the CONFIG file used in **ExoTiC-ISM**, you can manually input any paramters. These are the ones we will need for the limb-darkening, phase calculation, and transit model. \n",
    "\n",
    "Note that some require astropy unit designators to work properly with this code"
   ]
  },
  {
   "cell_type": "code",
   "execution_count": 2,
   "metadata": {},
   "outputs": [],
   "source": [
    "# System parameters\n",
    "# ------------------\n",
    "# Star for limb-darkening\n",
    "Teff = 6550\n",
    "M_H = -0.25\n",
    "logg = 4.2\n",
    "\n",
    "# Planet - for these parameters you need to be specific about the units using astropy units\n",
    "Per = 3.7 * u.d # days\n",
    "Persec = Per.to(u.s) # seconds\n",
    "inclin = 90.0 * u.deg # degrees\n",
    "\n",
    "# System\n",
    "aors = 7.0\n",
    "# System density from aors and period\n",
    "constant1 = ((G * np.square(Persec)) / (4 * np.square(np.pi))) ** (1 / 3)\n",
    "MsMpR = (aors / constant1) ** 3.\n",
    "# Planet to star radius ratio (Rp/Rs)\n",
    "rl = 0.121 "
   ]
  },
  {
   "cell_type": "markdown",
   "metadata": {},
   "source": [
    "### Limb-Darkening\n",
    "If you dont want to compute the limb-darkening for whatever reason or you are doing an eclipse set c1-4 manually.\n",
    "\n",
    "For an eclipse these should all be set equal to zero\n",
    "\n",
    "See `margmodule.py` in **ExoTiC-ISM** for details on the `ld_model` and `grat` options"
   ]
  },
  {
   "cell_type": "code",
   "execution_count": 3,
   "metadata": {},
   "outputs": [
    {
     "name": "stdout",
     "output_type": "stream",
     "text": [
      "You are using the 3D limb darkening models.\n",
      "Current Directories Entered:\n",
      "  /Users/iz19726/Documents/Exotic/ExoTiC-ISM/Limb-darkening\n",
      "  /Users/iz19726/Documents/Exotic/ExoTiC-ISM/Limb-darkening/3DGrid\n",
      "Filename: mmu_t65g40m00v05.flx\n",
      "\n",
      "Closest values to your inputs:\n",
      "Teff:  6500\n",
      "M_H:  0.0\n",
      "log(g):  4.0\n",
      "\n",
      "Limb darkening parameters:\n",
      "4param \t0.96471134\t-1.08470006\t0.94861860\t-0.32529467\n",
      "3param \t2.13885060\t-3.11035859\t1.39214549\n",
      "Quad \t0.03041293\t0.34401170\n",
      "Linear \t0.32216663\n"
     ]
    }
   ],
   "source": [
    "# Tell the code where on your computer the limb-darkening folder is\n",
    "lcmod_folder = '/Users/iz19726/Documents/Exotic/ExoTiC-ISM/'\n",
    "\n",
    "limbDir = os.path.join(lcmod_folder, 'Limb-darkening')\n",
    "# choose which limb-darkening models set-up you want to use\n",
    "ld_model = '3D'\n",
    "grat = 'G141'\n",
    "wavelength = np.loadtxt(os.path.join(lcmod_folder, 'data/W17/W17_G141_wavelength_test_data.txt'), comments='#')\n",
    "_uLD, c1, c2, c3, c4, _cp1, _cp2, _cp3, _cp4, _aLD, _bLD = limb_dark_fit(grat, wavelength, M_H, Teff, logg, limbDir, ld_model)"
   ]
  },
  {
   "cell_type": "markdown",
   "metadata": {},
   "source": [
    "### Impact Parameter\n",
    "Here we will use the `marg.impact_param` to calculate the path of the planet across the star in terms of the stellar radii\n",
    "\n",
    "#### Using a smooth high resolution phase array\n",
    "Define the planetary phase of your transit for a smooth model"
   ]
  },
  {
   "cell_type": "code",
   "execution_count": 11,
   "metadata": {},
   "outputs": [],
   "source": [
    "start_phase = -0.1\n",
    "end_phase = 0.1\n",
    "resolution = 0.0001\n",
    "phase_smooth = np.arange(start_phase, end_phase, resolution)   # this is the x-array for the smooth model\n",
    "\n",
    "b0_smooth = marg.impact_param(Persec, MsMpR, phase_smooth, inclin)  \n",
    "# NOTE: period in sec here, incl in radians, b0 in stellar radii"
   ]
  },
  {
   "cell_type": "markdown",
   "metadata": {},
   "source": [
    "#### Creating a phase array from data with time stamps\n",
    "Or you can input data in time to calculate the phase given the period, or give an array of phases. Here we will again sample from our test files. Here the test files are in HJD so the epoch (center of transit) value is also in HJD. "
   ]
  },
  {
   "cell_type": "code",
   "execution_count": 12,
   "metadata": {},
   "outputs": [],
   "source": [
    "data = np.loadtxt(os.path.join(lcmod_folder,'data/W17/W17_G141_lightcurve_test_data.txt'), comments='#') \n",
    "# Data from ExoTiC-ISM test data\n",
    "x = data[:,0]\n",
    "x *= u.d # set the astropy units of this to days\n",
    "y = data[:,1]\n",
    "err = data[:,2]\n",
    "epoch = 57957.970153390 * u.d # also note the need for the astropy unit\n",
    "# Epoch values from ExoTiC-ISM test data \n",
    "# if you are fitting you transit model to data this will normally be set as a free parameter\n",
    "\n",
    "phase_data = marg.phase_calc(x, epoch, Per)  # Per in days here\n",
    "\n",
    "b0_data = marg.impact_param(Persec, MsMpR, phase_data, inclin) \n",
    "# NOTE: period in sec here, incl in radians, b0 in stellar radii"
   ]
  },
  {
   "cell_type": "markdown",
   "metadata": {},
   "source": [
    "### Transit Model\n",
    "We can now use the impact parameter array and our limb-darkeing coefficients to calculate the transit model at the resolution of the data or for a smooth resolution"
   ]
  },
  {
   "cell_type": "code",
   "execution_count": 13,
   "metadata": {},
   "outputs": [],
   "source": [
    "tmod_smooth, _tmodcomp1 = marg.occultnl(rl, c1, c2, c3, c4, b0_smooth)\n",
    "tmod_data, _tmodcomp1 = marg.occultnl(rl, c1, c2, c3, c4, b0_data)"
   ]
  },
  {
   "cell_type": "markdown",
   "metadata": {},
   "source": [
    "That is it. We can now plot the results of the smooth model, data resolution model, and the data to see how it looks"
   ]
  },
  {
   "cell_type": "code",
   "execution_count": 14,
   "metadata": {},
   "outputs": [
    {
     "data": {
      "image/png": "[encoded data removed]",
      "text/plain": [
       "<Figure size 504x360 with 1 Axes>"
      ]
     },
     "metadata": {
      "needs_background": "light"
     },
     "output_type": "display_data"
    }
   ],
   "source": [
    "plt.figure(1, figsize=(7,5))\n",
    "plt.plot(phase_smooth, tmod_smooth, label='Smooth Model')\n",
    "plt.plot(phase_data, tmod_data, marker='*', label='Data model')\n",
    "plt.errorbar(phase_data, y, yerr=err, marker='o', linestyle='none', label='Data')\n",
    "\n",
    "plt.xlim(-0.05, 0.05)\n",
    "plt.legend()\n",
    "plt.tight_layout()"
   ]
  },
  {
   "cell_type": "code",
   "execution_count": null,
   "metadata": {},
   "outputs": [],
   "source": []
  },
  {
   "cell_type": "code",
   "execution_count": null,
   "metadata": {},
   "outputs": [],
   "source": []
  }
 ],
 "metadata": {
  "kernelspec": {
   "display_name": "Python 3",
   "language": "python",
   "name": "python3"
  },
  "language_info": {
   "codemirror_mode": {
    "name": "ipython",
    "version": 3
   },
   "file_extension": ".py",
   "mimetype": "text/x-python",
   "name": "python",
   "nbconvert_exporter": "python",
   "pygments_lexer": "ipython3",
   "version": "3.7.7"
  }
 },
 "nbformat": 4,
 "nbformat_minor": 4
}
