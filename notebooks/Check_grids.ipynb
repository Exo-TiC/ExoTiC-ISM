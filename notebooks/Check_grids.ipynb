{
 "cells": [
  {
   "cell_type": "markdown",
   "metadata": {},
   "source": [
    "# Checking the parameter grids"
   ]
  },
  {
   "cell_type": "code",
   "execution_count": null,
   "metadata": {},
   "outputs": [],
   "source": [
    "import os\n",
    "import sys\n",
    "import numpy as np\n",
    "np.set_printoptions(threshold=sys.maxsize)    # This will force print numpy arrays without truncation\n",
    "\n",
    "os.chdir('../HST_python')\n",
    "from config import CONFIG_INI\n",
    "import hstmarg"
   ]
  },
  {
   "cell_type": "code",
   "execution_count": null,
   "metadata": {},
   "outputs": [],
   "source": [
    "# Read the grid selection from the configfile\n",
    "grid_selection = CONFIG_INI.get('technical_parameters', 'grid_selection')\n",
    "print(\"grid selection:\", grid_selection)\n",
    "\n",
    "# Generate the grid\n",
    "grid = hstmarg.wfc3_systematic_model_grid_selection(grid_selection)\n",
    "\n",
    "param_no = grid.shape[1]\n",
    "sys_no = grid.shape[0]\n",
    "print(\"grid shape:\", grid.shape)\n",
    "print(\"Number of parameters:\", param_no)\n",
    "print(\"Number of systems:\", sys_no)"
   ]
  },
  {
   "cell_type": "code",
   "execution_count": null,
   "metadata": {},
   "outputs": [],
   "source": [
    "### Ask for specific model systematics ###\n",
    "check = 0    # don't forget that Python starts counting at 0\n",
    "### --- ###\n",
    "\n",
    "systematics = grid[check, :]\n",
    "print(systematics)"
   ]
  },
  {
   "cell_type": "code",
   "execution_count": null,
   "metadata": {},
   "outputs": [],
   "source": [
    "# Or check full grid\n",
    "print(grid) "
   ]
  },
  {
   "cell_type": "code",
   "execution_count": null,
   "metadata": {},
   "outputs": [],
   "source": [
    "# from IDL file:"
   ]
  },
  {
   "cell_type": "code",
   "execution_count": null,
   "metadata": {},
   "outputs": [],
   "source": [
    "grid_WFC3_fit_time = np.array([[0,0,0,1,1,1,1,1,1,1,1,1,1,1,1,1,1,1,1,1,1,1],\n",
    "[0,0,0,1,1,1,1,1,1,1,1,1,1,1,1,1,1,1,0,1,1,1],\n",
    "[0,0,0,1,1,1,1,1,1,1,1,1,1,1,1,1,1,1,0,0,1,1],\n",
    "[0,0,0,1,1,1,1,1,1,1,1,1,1,1,1,1,1,1,0,0,0,1],\n",
    "[0,0,0,1,1,1,1,1,1,1,1,1,1,1,1,1,1,1,0,0,0,0],\n",
    "[0,0,0,1,1,1,1,1,1,1,1,1,1,1,0,1,1,1,1,1,1,1],\n",
    "[0,0,0,1,1,1,1,1,1,1,1,1,1,1,0,1,1,1,0,1,1,1],\n",
    "[0,0,0,1,1,1,1,1,1,1,1,1,1,1,0,1,1,1,0,0,1,1],\n",
    "[0,0,0,1,1,1,1,1,1,1,1,1,1,1,0,1,1,1,0,0,0,1],\n",
    "[0,0,0,1,1,1,1,1,1,1,1,1,1,1,0,1,1,1,0,0,0,0],\n",
    "[0,0,0,1,1,1,1,1,1,1,1,1,1,1,0,0,1,1,1,1,1,1],\n",
    "[0,0,0,1,1,1,1,1,1,1,1,1,1,1,0,0,1,1,0,1,1,1],\n",
    "[0,0,0,1,1,1,1,1,1,1,1,1,1,1,0,0,1,1,0,0,1,1],\n",
    "[0,0,0,1,1,1,1,1,1,1,1,1,1,1,0,0,1,1,0,0,0,1],\n",
    "[0,0,0,1,1,1,1,1,1,1,1,1,1,1,0,0,1,1,0,0,0,0],\n",
    "[0,0,0,1,1,1,1,1,1,1,1,1,1,1,0,0,0,1,1,1,1,1],\n",
    "[0,0,0,1,1,1,1,1,1,1,1,1,1,1,0,0,0,1,0,1,1,1],\n",
    "[0,0,0,1,1,1,1,1,1,1,1,1,1,1,0,0,0,1,0,0,1,1],\n",
    "[0,0,0,1,1,1,1,1,1,1,1,1,1,1,0,0,0,1,0,0,0,1],\n",
    "[0,0,0,1,1,1,1,1,1,1,1,1,1,1,0,0,0,1,0,0,0,0],\n",
    "[0,0,0,1,1,1,1,1,1,1,1,1,1,1,0,0,0,0,1,1,1,1],\n",
    "[0,0,0,1,1,1,1,1,1,1,1,1,1,1,0,0,0,0,0,1,1,1],\n",
    "[0,0,0,1,1,1,1,1,1,1,1,1,1,1,0,0,0,0,0,0,1,1],\n",
    "[0,0,0,1,1,1,1,1,1,1,1,1,1,1,0,0,0,0,0,0,0,1],\n",
    "[0,0,0,1,1,1,1,1,1,1,1,1,1,1,0,0,0,0,0,0,0,0],\n",
    "[0,0,0,1,1,1,1,1,1,1,1,1,1,0,1,1,1,1,1,1,1,1],\n",
    "[0,0,0,1,1,1,1,1,1,1,1,1,1,0,1,1,1,1,0,1,1,1],\n",
    "[0,0,0,1,1,1,1,1,1,1,1,1,1,0,1,1,1,1,0,0,1,1],\n",
    "[0,0,0,1,1,1,1,1,1,1,1,1,1,0,1,1,1,1,0,0,0,1], \n",
    "[0,0,0,1,1,1,1,1,1,1,1,1,1,0,1,1,1,1,0,0,0,0],\n",
    "[0,0,0,1,1,1,1,1,1,1,1,1,1,0,0,1,1,1,1,1,1,1], \n",
    "[0,0,0,1,1,1,1,1,1,1,1,1,1,0,0,1,1,1,0,1,1,1],\n",
    "[0,0,0,1,1,1,1,1,1,1,1,1,1,0,0,1,1,1,0,0,1,1],\n",
    "[0,0,0,1,1,1,1,1,1,1,1,1,1,0,0,1,1,1,0,0,0,1],\n",
    "[0,0,0,1,1,1,1,1,1,1,1,1,1,0,0,1,1,1,0,0,0,0],\n",
    "[0,0,0,1,1,1,1,1,1,1,1,1,1,0,0,0,1,1,1,1,1,1],\n",
    "[0,0,0,1,1,1,1,1,1,1,1,1,1,0,0,0,1,1,0,1,1,1],\n",
    "[0,0,0,1,1,1,1,1,1,1,1,1,1,0,0,0,1,1,0,0,1,1],\n",
    "[0,0,0,1,1,1,1,1,1,1,1,1,1,0,0,0,1,1,0,0,0,1],\n",
    "[0,0,0,1,1,1,1,1,1,1,1,1,1,0,0,0,1,1,0,0,0,0],\n",
    "[0,0,0,1,1,1,1,1,1,1,1,1,1,0,0,0,0,1,1,1,1,1],\n",
    "[0,0,0,1,1,1,1,1,1,1,1,1,1,0,0,0,0,1,0,1,1,1],\n",
    "[0,0,0,1,1,1,1,1,1,1,1,1,1,0,0,0,0,1,0,0,1,1],\n",
    "[0,0,0,1,1,1,1,1,1,1,1,1,1,0,0,0,0,1,0,0,0,1],\n",
    "[0,0,0,1,1,1,1,1,1,1,1,1,1,0,0,0,0,1,0,0,0,0],\n",
    "[0,0,0,1,1,1,1,1,1,1,1,1,1,0,0,0,0,0,1,1,1,1],\n",
    "[0,0,0,1,1,1,1,1,1,1,1,1,1,0,0,0,0,0,0,1,1,1],\n",
    "[0,0,0,1,1,1,1,1,1,1,1,1,1,0,0,0,0,0,0,0,1,1],\n",
    "[0,0,0,1,1,1,1,1,1,1,1,1,1,0,0,0,0,0,0,0,0,1],\n",
    "[0,0,0,1,1,1,1,1,1,1,1,1,1,0,0,0,0,0,0,0,0,0]])"
   ]
  },
  {
   "cell_type": "code",
   "execution_count": null,
   "metadata": {},
   "outputs": [],
   "source": [
    "print(grid_WFC3_fit_time)"
   ]
  },
  {
   "cell_type": "code",
   "execution_count": null,
   "metadata": {},
   "outputs": [],
   "source": [
    "#. We can check them line by line (but it's tedious, don't do it)\n",
    "check = 4\n",
    "print(\"IDL: \", grid_WFC3_fit_time[check])\n",
    "print(\"Here:\", grid[check])"
   ]
  },
  {
   "cell_type": "code",
   "execution_count": null,
   "metadata": {},
   "outputs": [],
   "source": [
    "# Check the full two arrays against each other with numpy\n",
    "print(np.array_equal(grid_WFC3_fit_time[check], grid[check]))"
   ]
  },
  {
   "cell_type": "code",
   "execution_count": null,
   "metadata": {},
   "outputs": [],
   "source": []
  }
 ],
 "metadata": {
  "kernelspec": {
   "display_name": "Python 3",
   "language": "python",
   "name": "python3"
  },
  "language_info": {
   "codemirror_mode": {
    "name": "ipython",
    "version": 3
   },
   "file_extension": ".py",
   "mimetype": "text/x-python",
   "name": "python",
   "nbconvert_exporter": "python",
   "pygments_lexer": "ipython3",
   "version": "3.6.8"
  }
 },
 "nbformat": 4,
 "nbformat_minor": 2
}
