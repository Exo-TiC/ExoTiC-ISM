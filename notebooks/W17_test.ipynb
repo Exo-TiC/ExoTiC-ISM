{
 "cells": [
  {
   "cell_type": "code",
   "execution_count": null,
   "metadata": {},
   "outputs": [],
   "source": [
    "import scipy.io \n",
    "import numpy as np\n",
    "import os\n",
    "import time\n",
    "import sys\n",
    "import matplotlib as mpl\n",
    "import matplotlib.pyplot as plt\n",
    "import matplotlib.gridspec as grid\n",
    "from astropy import stats\n",
    "from shutil import copy"
   ]
  },
  {
   "cell_type": "code",
   "execution_count": null,
   "metadata": {},
   "outputs": [],
   "source": [
    "# read in the IDL sav files from the analysis\n",
    "analysis = scipy.io.readsav('/Users/ilaginja/Documents/Git/HST_Marginalization/outputs/analysis_circle_G141_wl_time_wm3d.sav', verbose=False)\n",
    "IDL_sys_stats = analysis['sys_stats']\n",
    "IDL_sys_date = analysis['sys_date']\n",
    "IDL_sys_phase = analysis['sys_phase']\n",
    "IDL_sys_rawflux = analysis['sys_rawflux']\n",
    "IDL_sys_rawflux_err = analysis['sys_rawflux_err']\n",
    "IDL_sys_flux  = analysis['sys_flux']\n",
    "IDL_sys_flux_err  = analysis['sys_flux_err']\n",
    "IDL_sys_residuals  = analysis['sys_residuals']\n",
    "IDL_sys_model = analysis['sys_model']\n",
    "IDL_sys_model_phase = analysis['sys_model_phase']\n",
    "IDL_sys_systematic_model  = analysis['sys_systematic_model']\n",
    "IDL_sys_params  = analysis['sys_params']\n",
    "IDL_sys_params_err  = analysis['sys_params_err']\n",
    "IDL_sys_depth  = analysis['sys_depth']\n",
    "IDL_sys_depth_err = analysis['sys_depth_err']\n",
    "IDL_sys_epoch  = analysis['sys_epoch']\n",
    "IDL_sys_epoch_err  = analysis['sys_epoch_err']\n",
    "IDL_sys_evidenceaic  = analysis['sys_evidenceaic']\n",
    "IDL_sys_evidencebic  = analysis['sys_evidencebic']\n",
    "\n",
    "# read in the IDL sav files from the Margainalisation \n",
    "marg = scipy.io.readsav('/Users/ilaginja/Documents/Git/HST_Marginalization/outputs/analysis_circle_G141_marginalised_wl_time_wm3d.sav', verbose=False)\n",
    "\n",
    "IDL_w_q = marg['w_q']\n",
    "IDL_best_sys = marg['best_sys']\n",
    "IDL_marg_rl = marg['marg_rl']\n",
    "IDL_marg_rl_err = marg['marg_rl_err']\n",
    "IDL_marg_epoch = marg['marg_epoch']\n",
    "IDL_marg_epoch_err = marg['marg_epoch_err']\n",
    "IDL_rl_sdnr  = marg['rl_sdnr']\n",
    "IDL_pos  = marg['pos']"
   ]
  },
  {
   "cell_type": "code",
   "execution_count": null,
   "metadata": {},
   "outputs": [],
   "source": [
    "print(\"sys1 rl: {}\".format(IDL_sys_depth[4]))\n",
    "print(\"sys1 rl_err: {}\".format(IDL_sys_depth_err[4]))"
   ]
  },
  {
   "cell_type": "code",
   "execution_count": null,
   "metadata": {},
   "outputs": [],
   "source": [
    "\n",
    "# read in the Python save files for the analysis\n",
    "py_analysis = np.load('/Users/hwakeford/Documents/GitHub/HST_Marginalization/outputs/analysis_circle_G141_wl_time_wm3d.npz')\n",
    "\n",
    "py_sys_stats = (py_analysis['sys_stats'])\n",
    "py_sys_date = (py_analysis['sys_date'])\n",
    "py_sys_phase = (py_analysis['sys_phase'])\n",
    "py_sys_rawflux = (py_analysis['sys_rawflux'])\n",
    "py_sys_rawflux_err = (py_analysis['sys_rawflux_err'])\n",
    "py_sys_flux = (py_analysis['sys_flux'])\n",
    "py_sys_flux_err = (py_analysis['sys_flux_err'])\n",
    "py_sys_residuals = (py_analysis['sys_residuals'])\n",
    "py_sys_model = (py_analysis['sys_model'])\n",
    "py_sys_model_phase = (py_analysis['sys_model_phase'])\n",
    "py_sys_systematic_model = (py_analysis['sys_systematic_model'])\n",
    "py_sys_params = (py_analysis['sys_params'])\n",
    "py_sys_params_err = (py_analysis['sys_params_err'])\n",
    "py_sys_depth = (py_analysis['sys_depth'])\n",
    "py_sys_depth_err = (py_analysis['sys_depth_err'])\n",
    "py_sys_epoch = (py_analysis['sys_epoch'])\n",
    "py_sys_epoch_err = (py_analysis['sys_epoch_err'])\n",
    "py_sys_evidenceAIC = (py_analysis['sys_evidenceAIC'])\n",
    "py_sys_evidenceBIC = (py_analysis['sys_evidenceBIC'])\n",
    "\n",
    "\n",
    "# read in the Python save files for the marginalisationa\n",
    "py_marg = np.load('/Users/hwakeford/Documents/GitHub/HST_Marginalization/outputs/analysis_circle_G141_marginalised_wl_time_wm3d.npz')\n",
    "\n",
    "py_w_q = (py_marg['w_q'])\n",
    "py_best_sys = (py_marg['best_sys'])\n",
    "py_marg_rl = (py_marg['marg_rl'])\n",
    "py_marg_rl_err = (py_marg['marg_rl_err']) \n",
    "py_marg_epoch = (py_marg['marg_epoch'])\n",
    "py_marg_epoch_err = (py_marg['marg_epoch_err']) \n",
    "py_marg_inclin_rad = (py_marg['marg_inclin_rad']) \n",
    "py_marg_inclin_rad_err = (py_marg['marg_inclin_rad_err']) \n",
    "py_marg_inclin_deg = (py_marg['marg_inclin_deg'])\n",
    "py_marg_inclin_deg_err = (py_marg['marg_inclin_deg_err']) \n",
    "py_marg_msmpr = (py_marg['marg_msmpr']) \n",
    "py_marg_msmpr_err = (py_marg['marg_msmpr_err']) \n",
    "py_marg_aors = (py_marg['marg_aors']) \n",
    "py_marg_aors_err = (py_marg['marg_aors_err']) \n",
    "py_rl_sdnr = (py_marg['rl_sdnr']) \n",
    "py_pos = (py_marg['pos'])\n"
   ]
  },
  {
   "cell_type": "code",
   "execution_count": null,
   "metadata": {},
   "outputs": [],
   "source": [
    "print('TEST Results')\n",
    "print('-----------------')\n",
    "print('IDL Marg depth = ', IDL_marg_rl, ' +/- ', IDL_marg_rl_err)\n",
    "#print('PY Marg depth = ', py_marg_rl, ' +/- ', py_marg_rl_err)\n",
    "\n",
    "# plt.errorbar([1,1.1],[IDL_marg_rl,py_marg_rl], yerr=[IDL_marg_rl_err,py_marg_rl_err], color='blue', marker='o')\n",
    "# plt.xlim(0.9,1.2)\n",
    "# plt.tight_layout()\n",
    "# plt.show()"
   ]
  },
  {
   "cell_type": "code",
   "execution_count": null,
   "metadata": {},
   "outputs": [],
   "source": [
    "xarray = np.linspace(1,len(py_w_q),len(py_w_q))\n",
    "print(np.shape(IDL_sys_params_err))\n",
    "\n",
    "\n",
    "plt.plot(xarray, IDL_sys_params[16,:], color='b', marker='o')\n",
    "plt.plot(xarray, py_sys_params[:,16], color='r', marker='s',alpha=0.5)\n",
    "# plt.hlines(0.0,-2,55)\n",
    "plt.tight_layout()\n",
    "plt.show()\n"
   ]
  },
  {
   "cell_type": "code",
   "execution_count": null,
   "metadata": {},
   "outputs": [],
   "source": [
    "plt.plot(xarray, IDL_sys_params_err[16,:], color='b', marker='o')\n",
    "plt.plot(xarray, py_sys_params_err[:,16], color='r', marker='s',alpha=0.5)\n",
    "# plt.hlines(0.0,-2,55)\n",
    "plt.tight_layout()\n",
    "plt.show()\n",
    "\n",
    "# 1.5244813970993492\n",
    "print(IDL_sys_params[3,0])\n",
    "print(np.sum(IDL_sys_params[16,:]), np.sum(py_sys_params[:,16]))"
   ]
  },
  {
   "cell_type": "code",
   "execution_count": null,
   "metadata": {},
   "outputs": [],
   "source": [
    "xarray = np.linspace(1,len(py_w_q),len(py_w_q))\n",
    "\n",
    "plt.errorbar(xarray, IDL_sys_depth, yerr=IDL_sys_depth_err, color='b', marker='o')\n",
    "plt.errorbar(xarray, py_sys_depth, yerr=py_sys_depth_err, color='r', marker='s')\n",
    "plt.tight_layout()\n",
    "plt.show()"
   ]
  },
  {
   "cell_type": "code",
   "execution_count": null,
   "metadata": {},
   "outputs": [],
   "source": [
    "xarray = np.linspace(1,len(py_w_q),len(py_w_q))\n",
    "\n",
    "plt.plot(xarray,(py_sys_depth_err-IDL_sys_depth_err)/np.max(py_sys_depth_err))\n",
    "plt.tight_layout()\n",
    "plt.show()"
   ]
  },
  {
   "cell_type": "code",
   "execution_count": null,
   "metadata": {},
   "outputs": [],
   "source": [
    "xarray = np.linspace(1,len(py_w_q),len(py_w_q))\n",
    "\n",
    "plt.errorbar(xarray, IDL_sys_epoch, yerr=IDL_sys_epoch_err, color='b', marker='o')\n",
    "plt.errorbar(xarray, py_sys_epoch, yerr=py_sys_epoch_err, color='r', marker='s')\n",
    "plt.tight_layout()\n",
    "plt.show()"
   ]
  },
  {
   "cell_type": "code",
   "execution_count": null,
   "metadata": {},
   "outputs": [],
   "source": [
    "top_idl = np.where(IDL_w_q > 0.05)\n",
    "print(top_idl)\n",
    "\n",
    "top_py = np.where(py_w_q > 0.05)\n",
    "print(top_py)"
   ]
  },
  {
   "cell_type": "code",
   "execution_count": null,
   "metadata": {},
   "outputs": [],
   "source": [
    "print(IDL_sys_evidenceaic)"
   ]
  },
  {
   "cell_type": "code",
   "execution_count": null,
   "metadata": {},
   "outputs": [],
   "source": [
    "print(py_sys_evidenceAIC)"
   ]
  },
  {
   "cell_type": "code",
   "execution_count": null,
   "metadata": {},
   "outputs": [],
   "source": [
    "xarray = np.linspace(1,len(py_w_q),len(py_w_q))\n",
    "\n",
    "plt.plot(xarray, IDL_sys_evidenceaic, color='b', marker='o')\n",
    "plt.plot(xarray, py_sys_evidenceAIC, color='r', marker='s')\n",
    "plt.tight_layout()\n",
    "plt.show()"
   ]
  },
  {
   "cell_type": "code",
   "execution_count": null,
   "metadata": {},
   "outputs": [],
   "source": [
    "analysis = scipy.io.readsav('/Users/hwakeford/Documents/GitHub/HST_Marginalization/outputs/run1_scatter_wl_time_wm3d.sav', verbose=False)\n",
    "IDL_sys_wscatter = analysis['w_scatter']\n",
    "IDL_sys_wparams = analysis['w_params']\n",
    "\n",
    "\n",
    "py_analysis = np.load('/Users/hwakeford/Documents/GitHub/HST_Marginalization/outputs/run1_scatter_wl_time_wm3d.npz')\n",
    "py_sys_wscatter = (py_analysis['w_scatter'])\n",
    "py_sys_wparams = (py_analysis['w_params'])"
   ]
  },
  {
   "cell_type": "code",
   "execution_count": null,
   "metadata": {},
   "outputs": [],
   "source": [
    "xarray = np.linspace(1,len(py_w_q),len(py_w_q))\n",
    "\n",
    "plt.plot(xarray, IDL_sys_wscatter, color='b', marker='o')\n",
    "plt.plot(xarray, py_sys_wscatter, color='r', marker='s')\n",
    "plt.tight_layout()\n",
    "plt.show()"
   ]
  },
  {
   "cell_type": "code",
   "execution_count": null,
   "metadata": {},
   "outputs": [],
   "source": [
    "xarray = np.linspace(1,len(py_w_q),len(py_w_q))\n",
    "print(np.shape(IDL_sys_wparams),np.shape(py_sys_wparams))\n",
    "plt.plot(xarray, IDL_sys_wparams[-5,:], color='b', marker='o')\n",
    "plt.plot(xarray, py_sys_wparams[:,-5], color='r', marker='s')\n",
    "plt.tight_layout()\n",
    "plt.show()"
   ]
  },
  {
   "cell_type": "code",
   "execution_count": null,
   "metadata": {},
   "outputs": [],
   "source": [
    "print(np.shape(IDL_sys_rawflux_err),np.shape(IDL_sys_rawflux),np.shape(IDL_sys_date))"
   ]
  },
  {
   "cell_type": "code",
   "execution_count": null,
   "metadata": {},
   "outputs": [],
   "source": [
    "plt.errorbar(IDL_sys_date[:,26], IDL_sys_flux[:,26], yerr=IDL_sys_flux_err[:,26], color='b', marker='o')\n",
    "plt.errorbar(py_sys_date[26], py_sys_flux[26], yerr=py_sys_flux_err[26], color='r', marker='s',alpha=0.5)\n",
    "plt.tight_layout()\n",
    "plt.show()"
   ]
  },
  {
   "cell_type": "code",
   "execution_count": null,
   "metadata": {},
   "outputs": [],
   "source": [
    "plt.plot(IDL_sys_date[:,1], IDL_sys_flux[:,1]-py_sys_flux[1], color='b', marker='o')\n",
    "# plt.errorbar(py_sys_date[26], py_sys_flux[26], yerr=py_sys_flux_err[26], color='r', marker='s',alpha=0.5)\n",
    "plt.tight_layout()\n",
    "plt.show()"
   ]
  },
  {
   "cell_type": "code",
   "execution_count": null,
   "metadata": {},
   "outputs": [],
   "source": [
    "plt.plot(IDL_sys_phase[:,20], IDL_sys_systematic_model[:,20], color='b', marker='o')\n",
    "# plt.plot(IDL_sys_phase[:,26], IDL_sys_systematic_model[:,26], color='c', marker='o', alpha=0.5)\n",
    "\n",
    "plt.plot(py_sys_phase[20], py_sys_systematic_model[20], color='r', marker='s',alpha=0.5)\n",
    "# plt.plot(py_sys_phase[26], py_sys_systematic_model[26], color='g', marker='s',alpha=0.5)\n",
    "plt.tight_layout()\n",
    "plt.show()"
   ]
  },
  {
   "cell_type": "code",
   "execution_count": null,
   "metadata": {},
   "outputs": [],
   "source": []
  },
  {
   "cell_type": "code",
   "execution_count": null,
   "metadata": {},
   "outputs": [],
   "source": []
  }
 ],
 "metadata": {
  "kernelspec": {
   "display_name": "Python 3",
   "language": "python",
   "name": "python3"
  },
  "language_info": {
   "codemirror_mode": {
    "name": "ipython",
    "version": 3
   },
   "file_extension": ".py",
   "mimetype": "text/x-python",
   "name": "python",
   "nbconvert_exporter": "python",
   "pygments_lexer": "ipython3",
   "version": "3.6.8"
  }
 },
 "nbformat": 4,
 "nbformat_minor": 2
}
