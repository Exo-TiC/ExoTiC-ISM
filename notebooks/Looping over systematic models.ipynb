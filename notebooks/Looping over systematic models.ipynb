{
 "cells": [
  {
   "cell_type": "markdown",
   "metadata": {},
   "source": [
    "# Looping over systematic models\n",
    "\n",
    "Ideally, we would be using something from this in the docs to loop through our 50 different systematic models, which only differ in which parameters are thawed or frozen:  \n",
    "https://sherpa.readthedocs.io/en/4.11.0/model_classes/api/sherpa.models.model.SimulFitModel.html#sherpa.models.model.SimulFitModel\n",
    "\n",
    "Until such time that we understand how that works, we will be helping ourselves with a good old `for` loop. In this notebook, I am figuring out how."
   ]
  },
  {
   "cell_type": "code",
   "execution_count": null,
   "metadata": {},
   "outputs": [],
   "source": [
    "# Imports\n",
    "import os\n",
    "import numpy as np\n",
    "import matplotlib.pyplot as plt\n",
    "import astropy.units as u\n",
    "from astropy.constants import G\n",
    "\n",
    "os.chdir('../')\n",
    "from config import CONFIG_INI\n",
    "from limb_darkening import limb_dark_fit\n",
    "import margmodule as marg\n",
    "\n",
    "from sherpa.data import Data1D\n",
    "from sherpa.plot import DataPlot\n",
    "from sherpa.plot import ModelPlot\n",
    "from sherpa.fit import Fit\n",
    "from sherpa.stats import LeastSq\n",
    "from sherpa.optmethods import LevMar\n",
    "from sherpa.stats import Chi2\n",
    "from sherpa.plot import FitPlot"
   ]
  },
  {
   "cell_type": "markdown",
   "metadata": {},
   "source": [
    "### Data paths"
   ]
  },
  {
   "cell_type": "code",
   "execution_count": null,
   "metadata": {},
   "outputs": [],
   "source": [
    "localDir = CONFIG_INI.get('data_paths', 'local_path')\n",
    "outDir = os.path.join(localDir, CONFIG_INI.get('data_paths', 'output_path'))\n",
    "curr_model = CONFIG_INI.get('data_paths', 'current_model')\n",
    "dataDir = os.path.join(localDir, os.path.join(localDir, CONFIG_INI.get('data_paths', 'data_path')), curr_model)"
   ]
  },
  {
   "cell_type": "markdown",
   "metadata": {},
   "source": [
    "### Read data"
   ]
  },
  {
   "cell_type": "code",
   "execution_count": null,
   "metadata": {},
   "outputs": [],
   "source": [
    "# Read in the txt file for the lightcurve data\n",
    "x, y, err, sh = np.loadtxt(os.path.join(dataDir, 'W17_white_lightcurve_test_data.txt'), skiprows=7, unpack=True)\n",
    "wavelength = np.loadtxt(os.path.join(dataDir, 'W17_wavelength_test_data.txt'), skiprows=3)\n",
    "\n",
    "tzero = x[0]\n",
    "flux0 = y[0]\n",
    "\n",
    "print(\"x.shape: {}\".format(x.shape))\n",
    "print(\"y.shape: {}\".format(y.shape))\n",
    "print(\"err.shape: {}\".format(err.shape))\n",
    "print(\"sh.shape: {}\".format(sh.shape))\n",
    "print(\"wvln.shape: {}\".format(wavelength.shape))"
   ]
  },
  {
   "cell_type": "markdown",
   "metadata": {},
   "source": [
    "### PLanet parameters and limb darkening"
   ]
  },
  {
   "cell_type": "code",
   "execution_count": null,
   "metadata": {},
   "outputs": [],
   "source": [
    "Per = CONFIG_INI.getfloat('planet_parameters', 'Per') * u.d\n",
    "Per = Per.to(u.s)\n",
    "constant1 = ((G * np.square(Per)) / (4 * np.square(np.pi))) ** (1 / 3)\n",
    "aor = CONFIG_INI.getfloat('planet_parameters', 'aor')    # this is unitless -> \"distance of the planet from the star (meters)/stellar radius (meters)\"\n",
    "MsMpR = (aor / constant1) ** 3.\n",
    "print(\"MsMpR: {}\\n\".format(MsMpR))\n",
    "\n",
    "# Limb darkening\n",
    "M_H = CONFIG_INI.getfloat('limb_darkening', 'metallicity')    # metallicity\n",
    "Teff = CONFIG_INI.getfloat('limb_darkening', 'Teff')   # effective temperature\n",
    "logg = CONFIG_INI.getfloat('limb_darkening', 'logg')   # log(g), gravitation\n",
    "\n",
    "# Define limb darkening directory, which is inside this package\n",
    "limbDir = os.path.join('..', 'Limb-darkening')\n",
    "ld_model = CONFIG_INI.get('limb_darkening', 'ld_model')\n",
    "grat = CONFIG_INI.get('technical_parameters', 'grating')\n",
    "_uLD, c1, c2, c3, c4, _cp1, _cp2, _cp3, _cp4, _aLD, _bLD = limb_dark_fit(grat, wavelength, M_H,\n",
    "                                                                         Teff, logg, limbDir, ld_model)\n",
    "print(\"\\nThe four cs: {}, {}, {}, {}\".format(c1, c2, c3, c4))"
   ]
  },
  {
   "cell_type": "markdown",
   "metadata": {},
   "source": [
    "### Sherpa data object"
   ]
  },
  {
   "cell_type": "code",
   "execution_count": null,
   "metadata": {},
   "outputs": [],
   "source": [
    "# Instantiate a data object\n",
    "data = Data1D('Data', x, y, staterror=err)\n",
    "print(data)\n",
    "\n",
    "# Plot the data with Sherpa\n",
    "dplot = DataPlot()\n",
    "dplot.prepare(data)\n",
    "dplot.plot() "
   ]
  },
  {
   "cell_type": "markdown",
   "metadata": {},
   "source": [
    "### Sherpa model - here's where we start working\n",
    "\n",
    "All parameters will be thawed, except for the ones that have `alwaysfrozen=True` in their initializaiton."
   ]
  },
  {
   "cell_type": "code",
   "execution_count": null,
   "metadata": {},
   "outputs": [],
   "source": [
    "# Define the model\n",
    "tmodel = marg.Transit(tzero, MsMpR, c1, c2, c3, c4, flux0, name=\"testmodel\", sh=sh)\n",
    "print(tmodel)"
   ]
  },
  {
   "cell_type": "markdown",
   "metadata": {},
   "source": [
    "We can read the requested grid from our module."
   ]
  },
  {
   "cell_type": "code",
   "execution_count": null,
   "metadata": {},
   "outputs": [],
   "source": [
    "grid_selection = CONFIG_INI.get('technical_parameters', 'grid_selection')\n",
    "grid = marg.wfc3_systematic_model_grid_selection(grid_selection)\n",
    "print('1st systematic model: {}'.format(grid[0]))"
   ]
  },
  {
   "cell_type": "markdown",
   "metadata": {},
   "source": [
    "We can loop through that easily."
   ]
  },
  {
   "cell_type": "code",
   "execution_count": null,
   "metadata": {},
   "outputs": [],
   "source": [
    "for i, s in enumerate(grid):\n",
    "    print(i+1, s)"
   ]
  },
  {
   "cell_type": "markdown",
   "metadata": {},
   "source": [
    "So, `s` will be a single systematic model:"
   ]
  },
  {
   "cell_type": "code",
   "execution_count": null,
   "metadata": {},
   "outputs": [],
   "source": [
    "print(s)"
   ]
  },
  {
   "cell_type": "markdown",
   "metadata": {},
   "source": [
    "So far, so good.\n",
    "\n",
    "Now, we can also loop though all the model parameters pretty easily."
   ]
  },
  {
   "cell_type": "code",
   "execution_count": null,
   "metadata": {},
   "outputs": [],
   "source": [
    "for i in tmodel.pars:\n",
    "    print('->', i.name)\n",
    "    print(i)\n",
    "    print('\\n')"
   ]
  },
  {
   "cell_type": "markdown",
   "metadata": {},
   "source": [
    "Now we need to think of a way to combine `s` with the parameters in the model. Remember that `s` has as many entries as `tmodel` has parameters."
   ]
  },
  {
   "cell_type": "code",
   "execution_count": null,
   "metadata": {},
   "outputs": [],
   "source": [
    "# The first loop is the big loop that goes through all the systematic models.\n",
    "# The second loop is what sets up the frozen and thawed parameters.\n",
    "for i, s in enumerate(grid):\n",
    "    for k, p in enumerate(s):\n",
    "        print('i:', i)\n",
    "        print('k:', p)"
   ]
  },
  {
   "cell_type": "code",
   "execution_count": null,
   "metadata": {},
   "outputs": [],
   "source": [
    "# Now in our context with the model:"
   ]
  },
  {
   "cell_type": "code",
   "execution_count": null,
   "metadata": {},
   "outputs": [],
   "source": [
    "for i, s in enumerate(grid):\n",
    "    #print(s)\n",
    "    for k, select in enumerate(s):\n",
    "        if select == 0:\n",
    "            tmodel.pars[k].thaw()\n",
    "        elif select == 1:\n",
    "            tmodel.pars[k].freeze()"
   ]
  },
  {
   "cell_type": "markdown",
   "metadata": {},
   "source": [
    "How do we test this though? Lets do it one by one with the systematics."
   ]
  },
  {
   "cell_type": "code",
   "execution_count": null,
   "metadata": {},
   "outputs": [],
   "source": [
    "po = 36  # pick any between 0 and 49 (we have 50 systematic models)\n",
    "sys = grid[po]\n",
    "print(sys)\n",
    "\n",
    "for k, select in enumerate(sys):\n",
    "    if select == 0:\n",
    "        tmodel.pars[k].thaw()\n",
    "    elif select == 1:\n",
    "        tmodel.pars[k].freeze()\n",
    "\n",
    "print(tmodel)"
   ]
  },
  {
   "cell_type": "markdown",
   "metadata": {},
   "source": [
    "Works!"
   ]
  },
  {
   "cell_type": "code",
   "execution_count": null,
   "metadata": {},
   "outputs": [],
   "source": []
  }
 ],
 "metadata": {
  "kernelspec": {
   "display_name": "Python 3",
   "language": "python",
   "name": "python3"
  },
  "language_info": {
   "codemirror_mode": {
    "name": "ipython",
    "version": 3
   },
   "file_extension": ".py",
   "mimetype": "text/x-python",
   "name": "python",
   "nbconvert_exporter": "python",
   "pygments_lexer": "ipython3",
   "version": "3.6.8"
  }
 },
 "nbformat": 4,
 "nbformat_minor": 2
}
