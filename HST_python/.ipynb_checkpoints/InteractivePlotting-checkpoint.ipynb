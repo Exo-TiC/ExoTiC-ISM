{
 "cells": [
  {
   "cell_type": "markdown",
   "metadata": {},
   "source": [
    "# Interactive plotting - how to not need to wait till your code is finished to see your pretty plots\n",
    "\n",
    "It is super annoying when you have a script that needs a while to finish and you have no clue what is going on in the meantime. Sometimes it will be useful so plot intermediate results to have a sanity chek or an early sneak-peak.\n",
    "\n",
    "Interactive plotting is a bit different when you use it in interactive Python (ipython), a notebook or when you run a script. I am not sure how much notebooks actually support interactive plotting at all, but it seemed easier to plug my examples into a notebook and then you can go ahead and copy-paste the code into an actual script, run it and see how it goes.\n",
    "\n",
    "This is the reason why I, very un-notebook-like, dumped all the code into a single cell instead of using the advantage of a notebook to \"cell your code up\" - split it up I guess, but I like \"celling up\" now :P"
   ]
  },
  {
   "cell_type": "code",
   "execution_count": null,
   "metadata": {
    "collapsed": true
   },
   "outputs": [],
   "source": [
    "# Let's get starte with imports\n",
    "import os\n",
    "import numpy as np\n",
    "import matplotlib.pyplot as plt"
   ]
  },
  {
   "cell_type": "markdown",
   "metadata": {},
   "source": [
    "The pyplot functoin plt.ion() comes up a lot when working with interactive plotting, but I think it is only really needed when you work in ipython, so that your console doesn't hang itself up as soon as it creates a plot. It's not needed when using interactive plotting in a script.\n",
    "\n",
    "First, let's look at a standard plotting example, in which your plot is blocking your script from continnuing to run:"
   ]
  },
  {
   "cell_type": "code",
   "execution_count": null,
   "metadata": {},
   "outputs": [],
   "source": [
    "# Creating some fake data\n",
    "x = np.arange(0, 4*np.pi, 0.1)\n",
    "y = [np.sin(i) for i in x]\n",
    "\n",
    "# Normal plot, which gets generated when script hits this point in your code and then it won't resume until you close\n",
    "# the figure.\n",
    "plt.plot(x, y)\n",
    "plt.title('This plot is blocking your script from continuing to run.')\n",
    "plt.show()\n",
    "\n",
    "print('See? This line appears only after you close the figure.')"
   ]
  },
  {
   "cell_type": "markdown",
   "metadata": {},
   "source": [
    "Using plt.draw() instead of plt.show() will close the\n",
    "figure immediately, which is great if you want to keep your script running, but you also won't have any time to look at your figure:"
   ]
  },
  {
   "cell_type": "code",
   "execution_count": null,
   "metadata": {},
   "outputs": [],
   "source": [
    "# Creating some fake data again, because I am actually running this in an independent script.\n",
    "x = np.arange(0, 4*np.pi, 0.1)\n",
    "y = [np.sin(i) for i in x]\n",
    "y2 = [2*b for b in y]\n",
    "y3 = [c-1 for c in y]\n",
    "\n",
    "plt.plot(x, y, 'r.')\n",
    "plt.draw()\n",
    "\n",
    "plt.plot(x, y2, 'k-')\n",
    "plt.draw()\n",
    "\n",
    "plt.plot(x, y3, 'b')\n",
    "plt.draw()"
   ]
  },
  {
   "cell_type": "markdown",
   "metadata": {},
   "source": [
    "This is why we need to add plt.pause([[sec]) after each plt.draw() statement, so that the figure actually gets displayed:"
   ]
  },
  {
   "cell_type": "code",
   "execution_count": null,
   "metadata": {
    "collapsed": true
   },
   "outputs": [],
   "source": [
    "# Creating some fake data again, because I am actually running this in an independent script.\n",
    "x = np.arange(0, 4*np.pi, 0.1)\n",
    "y = [np.sin(i) for i in x]\n",
    "y2 = [2*b for b in y]\n",
    "y3 = [c-1 for c in y]\n",
    "\n",
    "plt.plot(x, y, 'r.')\n",
    "plt.draw()\n",
    "plt.pause(1.0)\n",
    "\n",
    "plt.plot(x, y2, 'k-')\n",
    "plt.draw()\n",
    "plt.pause(1.0)\n",
    "\n",
    "plt.plot(x, y3, 'b')\n",
    "plt.draw()\n",
    "plt.pause(1.0)"
   ]
  },
  {
   "cell_type": "markdown",
   "metadata": {},
   "source": [
    "The downside is that the figure disappears once the script is done. If you want to keep the last version of your figure open, you can use plt.show() at your very last version of your figure again:"
   ]
  },
  {
   "cell_type": "code",
   "execution_count": null,
   "metadata": {
    "collapsed": true
   },
   "outputs": [],
   "source": [
    "# Creating some fake data again, because I am actually running this in an independent script.\n",
    "x = np.arange(0, 4*np.pi, 0.1)\n",
    "y = [np.sin(i) for i in x]\n",
    "y2 = [2*b for b in y]\n",
    "y3 = [c-1 for c in y]\n",
    "\n",
    "plt.plot(x, y, 'r.')\n",
    "plt.draw()\n",
    "plt.pause(1.0)\n",
    "\n",
    "plt.plot(x, y2, 'k-')\n",
    "plt.draw()\n",
    "plt.pause(1.0)\n",
    "\n",
    "plt.plot(x, y3, 'b')\n",
    "plt.show()\n",
    "\n",
    "print('Keep in mind that this will keep your script from continuing/finishing at this point.')"
   ]
  },
  {
   "cell_type": "markdown",
   "metadata": {},
   "source": [
    "You can simply put a plt.show() statement at the end of your code if you want to run your entire script and then keep the final figure open until you manually close it (and hence finish your script)."
   ]
  },
  {
   "cell_type": "code",
   "execution_count": null,
   "metadata": {
    "collapsed": true
   },
   "outputs": [],
   "source": [
    "# Creating some fake data again, because I am actually running this in an independent script.\n",
    "x = np.arange(0, 4*np.pi, 0.1)\n",
    "y = [np.sin(i) for i in x]\n",
    "y2 = [2*b for b in y]\n",
    "y3 = [c-1 for c in y]\n",
    "\n",
    "plt.plot(x, y, 'r.')\n",
    "plt.draw()\n",
    "plt.pause(1.0)\n",
    "\n",
    "plt.plot(x, y2, 'k-')\n",
    "plt.draw()\n",
    "plt.pause(1.0)\n",
    "\n",
    "plt.plot(x, y3, 'b')\n",
    "#plt.draw()            # Depending on what your code looks like, you might not need this plt.draw() and plt.pause().\n",
    "plt.pause(1.0)         # But it's probably a good idea to keep them there anyway.\n",
    "\n",
    "print('Now I am putting plt.show() at the very end of my script, so that it fully finishes before I get all the time \\\n",
    "      in the world to admire that beautiful final figure of mine.')\n",
    "\n",
    "plt.show()"
   ]
  },
  {
   "cell_type": "markdown",
   "metadata": {},
   "source": [
    "The argument in plt.pause() will mostly be very short, because it is only needed to display your figure, but yo don't actually want to delay your script for too long for no reason."
   ]
  },
  {
   "cell_type": "code",
   "execution_count": null,
   "metadata": {
    "collapsed": true
   },
   "outputs": [],
   "source": [
    "# Creating some fake data again, because I am actually running this in an independent script.\n",
    "x = np.arange(0, 4*np.pi, 0.1)\n",
    "y = [np.sin(i) for i in x]\n",
    "y2 = [2*b for b in y]\n",
    "y3 = [c-1 for c in y]\n",
    "\n",
    "for n in range(20):\n",
    "    y4 = [np.sin(i+n) for i in x]\n",
    "    plt.plot(x, y4)\n",
    "    plt.draw()\n",
    "    plt.pause(0.05)\n",
    "\n",
    "print('Note how we went through all the sine functions very quickly.')\n",
    "\n",
    "plt.show()"
   ]
  },
  {
   "cell_type": "markdown",
   "metadata": {},
   "source": [
    "Often enough you don't want your new data to overplot your old data, but you want to plot it on a clean canvas. you can do this by inserting plt.clf() any time you want to clean your figure (clf = clean figure).\n",
    "\n",
    "I took the plt.show() out in this example because it would just be displaying a blank figure, waiting for me to close it."
   ]
  },
  {
   "cell_type": "code",
   "execution_count": null,
   "metadata": {
    "collapsed": true
   },
   "outputs": [],
   "source": [
    "# Creating some fake data again, because I am actually running this in an independent script.\n",
    "x = np.arange(0, 4*np.pi, 0.1)\n",
    "y = [np.sin(i) for i in x]\n",
    "y2 = [2*b for b in y]\n",
    "y3 = [c-1 for c in y]\n",
    "\n",
    "for n in range(20):\n",
    "    y4 = [np.sin(i+n) for i in x]\n",
    "    plt.plot(x, y4)\n",
    "    plt.draw()\n",
    "    plt.pause(0.05)\n",
    "    plt.clf()\n",
    "\n",
    "print('Note how we went through all the sine functions very quickly.')"
   ]
  },
  {
   "cell_type": "markdown",
   "metadata": {},
   "source": [
    "You can play around with if-statements if you still want to use plt.show() at the end of your script to keep the figure displayed."
   ]
  },
  {
   "cell_type": "code",
   "execution_count": null,
   "metadata": {
    "collapsed": true
   },
   "outputs": [],
   "source": [
    "# Creating some fake data again, because I am actually running this in an independent script.\n",
    "x = np.arange(0, 4*np.pi, 0.1)\n",
    "y = [np.sin(i) for i in x]\n",
    "y2 = [2*b for b in y]\n",
    "y3 = [c-1 for c in y]\n",
    "\n",
    "for n in range(20):\n",
    "    y4 = [np.sin(i+n) for i in x]\n",
    "    plt.plot(x, y4)\n",
    "    plt.draw()\n",
    "    plt.pause(0.05)\n",
    "    if n != np.max(range(20)):\n",
    "        plt.clf()\n",
    "\n",
    "print('And whoop we can still admire our final figure for as long as we want to.')\n",
    "\n",
    "plt.show()"
   ]
  },
  {
   "cell_type": "markdown",
   "metadata": {},
   "source": [
    "And finally, of course you can also save your final figure:"
   ]
  },
  {
   "cell_type": "code",
   "execution_count": null,
   "metadata": {
    "collapsed": true
   },
   "outputs": [],
   "source": [
    "# Creating some fake data again, because I am actually running this in an independent script.\n",
    "x = np.arange(0, 4*np.pi, 0.1)\n",
    "y = [np.sin(i) for i in x]\n",
    "y2 = [2*b for b in y]\n",
    "y3 = [c-1 for c in y]\n",
    "\n",
    "for n in range(20):\n",
    "    y4 = [np.sin(i+n) for i in x]\n",
    "    plt.plot(x, y4)\n",
    "    plt.draw()\n",
    "    plt.pause(0.05)\n",
    "    if n != np.max(range(20)):\n",
    "        plt.clf()\n",
    "\n",
    "print('And whoop we can still admire our final figure for as long as we want to.')\n",
    "\n",
    "plt.savefig('fig_test.pdf')"
   ]
  },
  {
   "cell_type": "markdown",
   "metadata": {},
   "source": [
    "And if you want to save it AND to have it open in a pyplot window until you decide to close it, this should work:"
   ]
  },
  {
   "cell_type": "code",
   "execution_count": null,
   "metadata": {},
   "outputs": [],
   "source": [
    "# Creating some fake data again, because I am actually running this in an independent script.\n",
    "x = np.arange(0, 4*np.pi, 0.1)\n",
    "y = [np.sin(i) for i in x]\n",
    "y2 = [2*b for b in y]\n",
    "y3 = [c-1 for c in y]\n",
    "\n",
    "for n in range(20):\n",
    "    y4 = [np.sin(i+n) for i in x]\n",
    "    plt.plot(x, y4)\n",
    "    plt.draw()\n",
    "    plt.pause(0.05)\n",
    "    if n != np.max(range(20)):\n",
    "        plt.clf()\n",
    "\n",
    "print('And whoop we can still admire our final figure for as long as we want to.')\n",
    "\n",
    "plt.savefig('fig_test.pdf')\n",
    "plt.show()"
   ]
  },
  {
   "cell_type": "code",
   "execution_count": null,
   "metadata": {
    "collapsed": true
   },
   "outputs": [],
   "source": [
    "# In case you're running this in thsi notebook after all (which won't make the plots interactive), you can delete\n",
    "# your test figure with:\n",
    "os.remove('fig_test.pdf')"
   ]
  }
 ],
 "metadata": {
  "kernelspec": {
   "display_name": "Python 3",
   "language": "python",
   "name": "python3"
  },
  "language_info": {
   "codemirror_mode": {
    "name": "ipython",
    "version": 3
   },
   "file_extension": ".py",
   "mimetype": "text/x-python",
   "name": "python",
   "nbconvert_exporter": "python",
   "pygments_lexer": "ipython3",
   "version": "3.6.2"
  }
 },
 "nbformat": 4,
 "nbformat_minor": 2
}
