{
 "cells": [
  {
   "cell_type": "markdown",
   "metadata": {},
   "source": [
    "# MPFIT_first-fit_only"
   ]
  },
  {
   "cell_type": "code",
   "execution_count": null,
   "metadata": {},
   "outputs": [],
   "source": [
    "import os\n",
    "import sys\n",
    "import numpy as np\n",
    "np.set_printoptions(threshold=sys.maxsize)    # This will force print numpy arrays without truncation\n",
    "\n",
    "os.chdir('../')\n",
    "from config import CONFIG_INI\n",
    "import hstmarg\n",
    "from limb_darkening import limb_dark_fit\n",
    "#from presto_mpfit import mpfit\n",
    "from mgefit.cap_mpfit import mpfit"
   ]
  },
  {
   "cell_type": "code",
   "execution_count": null,
   "metadata": {},
   "outputs": [],
   "source": [
    "# Load data paths\n",
    "localDir = CONFIG_INI.get('data_paths', 'local_path')\n",
    "outDir = os.path.join(localDir, CONFIG_INI.get('data_paths', 'output_path'))\n",
    "curr_model = CONFIG_INI.get('data_paths', 'current_model')\n",
    "dataDir = os.path.join(localDir, os.path.join(localDir, CONFIG_INI.get('data_paths', 'data_path')), curr_model)\n",
    "\n",
    "# Read in the txt files for the lightcurve data\n",
    "x, y, err, sh = np.loadtxt(os.path.join(dataDir, 'W17_white_lightcurve_test_data.txt'), skiprows=7, unpack=True)\n",
    "wavelength = np.loadtxt(os.path.join(dataDir, 'W17_wavelength_test_data.txt'), skiprows=3)\n",
    "\n",
    "print(\"dataDir:\", dataDir)\n",
    "print(\"outdir:\", outDir)\n",
    "print(\"x.shape:\", x.shape)\n",
    "print(\"y.shape:\", y.shape)\n",
    "print(\"err.shape:\", err.shape)\n",
    "print(\"sh.shape:\", sh.shape)"
   ]
  },
  {
   "cell_type": "code",
   "execution_count": null,
   "metadata": {},
   "outputs": [],
   "source": [
    "    # READ THE CONSTANTS\n",
    "    Gr = CONFIG_INI.getfloat('constants', 'big_G')\n",
    "    day_to_sec = CONFIG_INI.getfloat('constants', 'dtosec')\n",
    "    HST_period = CONFIG_INI.getfloat('constants', 'HST_period')\n",
    "\n",
    "    # We want to keep the raw data as is, so we generate helper arrays that will get changed from model to model\n",
    "    img_date = x    # time array\n",
    "    img_flux = y    # flux array\n",
    "    flux0 = img_flux[0]   # first flux data point\n",
    "    T0 = img_date[0]      # first time data point\n",
    "    nexposure = len(img_date)   # Total number of exposures in the observation\n",
    "\n",
    "    # READ IN THE PLANET STARTING PARAMETERS\n",
    "    rl = CONFIG_INI.getfloat('planet_parameters', 'rl')          # Rp/R* estimate\n",
    "    epoch = CONFIG_INI.getfloat('planet_parameters', 'epoch')    # center of transit time in MJD\n",
    "    inclin = CONFIG_INI.getfloat('planet_parameters', 'inclin') * ((2 * np.pi) / 360)   # inclination, converting it to radians\n",
    "    ecc = CONFIG_INI.getfloat('planet_parameters', 'ecc')                            # eccentricity\n",
    "    omega = CONFIG_INI.getfloat('planet_parameters', 'omega') * ((2 * np.pi) / 360)    # orbital omega, converting it to radians\n",
    "    Per = CONFIG_INI.getfloat('planet_parameters', 'Per') * day_to_sec               # period in seconds\n",
    "\n",
    "    constant1 = ((Gr * np.square(Per)) / (4 * np.square(np.pi))) ** (1 / 3)\n",
    "    aor = CONFIG_INI.getfloat('planet_parameters', 'aor')\n",
    "    MsMpR = (aor / constant1) ** 3.                          # density of the system\n",
    "\n",
    "    # SET THE STARTING PARAMETERS FOR THE SYSTEMATIC MODELS\n",
    "    m_fac = 0.0  # Linear Slope\n",
    "    HSTP1 = 0.0  # Correct HST orbital phase\n",
    "    HSTP2 = 0.0  # Correct HST orbital phase^2\n",
    "    HSTP3 = 0.0  # Correct HST orbital phase^3\n",
    "    HSTP4 = 0.0  # Correct HST orbital phase^4\n",
    "    xshift1 = 0.0  # X-shift in wavelength\n",
    "    xshift2 = 0.0  # X-shift in wavelength^2\n",
    "    xshift3 = 0.0  # X-shift in wavelength^3\n",
    "    xshift4 = 0.0  # X-shift in wavelength^4"
   ]
  },
  {
   "cell_type": "code",
   "execution_count": null,
   "metadata": {},
   "outputs": [],
   "source": [
    "# LIMB DARKENING\n",
    "# NEW: Implement a suggestion for the user to use 3D if his parameters match the options available in the 3D models\n",
    "\n",
    "M_H = CONFIG_INI.getfloat('limb_darkening', 'metallicity')    # metallicity\n",
    "Teff = CONFIG_INI.getfloat('limb_darkening', 'Teff')   # effective temperature\n",
    "logg = CONFIG_INI.getfloat('limb_darkening', 'logg')   # log(g), gravitation\n",
    "\n",
    "# Define limb darkening directory, which is inside this package\n",
    "limbDir = os.path.join('..', 'Limb-darkening')\n",
    "ld_model = CONFIG_INI.get('limb_darkening', 'ld_model')\n",
    "grat = CONFIG_INI.get('technical_parameters', 'grating')\n",
    "uLD, c1, c2, c3, c4, cp1, cp2, cp3, cp4, aLD, bLD = limb_dark_fit(grat, wavelength, M_H, Teff, logg, limbDir,\n",
    "                                                                  ld_model)"
   ]
  },
  {
   "cell_type": "code",
   "execution_count": null,
   "metadata": {},
   "outputs": [],
   "source": [
    "# PLACE ALL THE PRIORS IN AN ARRAY\n",
    "# p0 =        [0,    1,     2,      3,     4,    5,    6,    7,  8,  9,  10, 11, 12,  13,    14,    15,    16,    17,     18,      19,      20,      21   ]\n",
    "p0 = np.array([rl, flux0, epoch, inclin, MsMpR, ecc, omega, Per, T0, c1, c2, c3, c4, m_fac, HSTP1, HSTP2, HSTP3, HSTP4, xshift1, xshift2, xshift3, xshift4])\n",
    "\n",
    "# Create an array with the names of the priors\n",
    "p0_names = np.array(['rl', 'flux0', 'epoch', 'inclin', 'MsMpR', 'ecc', 'omega', 'Per', 'T0', 'c1', 'c2', 'c3', 'c4',\n",
    "                     'm_fac', 'HSTP1', 'HSTP2', 'HSTP3', 'HSTP4', 'xshift1', 'xshift2', 'xshift3', 'xshift4'])\n",
    "\n",
    "# Create a dictionary for easier use in calculations\n",
    "p0_dict = {key: val for key, val in zip(p0_names, p0)}"
   ]
  },
  {
   "cell_type": "code",
   "execution_count": null,
   "metadata": {},
   "outputs": [],
   "source": [
    "# SELECT THE SYSTEMATIC GRID OF MODELS TO USE\n",
    "# 1 in the grid means the parameter is fixed, 0 means it is free\n",
    "grid_selection = CONFIG_INI.get('technical_parameters', 'grid_selection')\n",
    "grid = hstmarg.wfc3_systematic_model_grid_selection(grid_selection)\n",
    "nsys, nparams = grid.shape   # nsys = number of systematic models, nparams = number of parameters\n",
    "print(\"grid.shape:\", grid.shape)"
   ]
  },
  {
   "cell_type": "markdown",
   "metadata": {},
   "source": [
    "## Single first MPFIT run"
   ]
  },
  {
   "cell_type": "code",
   "execution_count": null,
   "metadata": {},
   "outputs": [],
   "source": [
    "# what systematic model to use:\n",
    "s = 37"
   ]
  },
  {
   "cell_type": "code",
   "execution_count": null,
   "metadata": {},
   "outputs": [],
   "source": [
    "print('SYSTEMATIC MODEL {} of {}'.format(s+1, nsys))\n",
    "systematics = grid[s, :]\n",
    "print(systematics)\n",
    "\n",
    "#print_dict = {name: fix for name, fix in zip(p0_names, systematics)}   # this is just for printing purposes\n",
    "#print(print_dict)"
   ]
  },
  {
   "cell_type": "code",
   "execution_count": null,
   "metadata": {},
   "outputs": [],
   "source": [
    "# Create two dictionaries in which each parameter in p0 gets some extra parameters assigned, which we then feed\n",
    "# into mpfit. This dictionary has the sole purpose of preparing the input data for mpfit in such a way that\n",
    "# it works.\n",
    "parinfo = []\n",
    "for i, value in enumerate(p0):\n",
    "    info = {'value': 0., 'fixed': 0, 'limited': [0, 0], 'limits': [0., 0.]}\n",
    "    info['value'] = value\n",
    "    info['fixed'] = systematics[i]\n",
    "    parinfo.append(info)\n",
    "    print(info)\n",
    "fa = {'x': img_date, 'y': img_flux, 'err': err, 'sh': sh}\n",
    "\n",
    "print('\\n')\n",
    "print(fa.keys())\n",
    "print('\\n')\n"
   ]
  },
  {
   "cell_type": "code",
   "execution_count": null,
   "metadata": {},
   "outputs": [],
   "source": [
    "# Run one round of MPFIT\n",
    "print('\\nSTART MPFIT\\n')\n",
    "mpfit_result = mpfit(hstmarg.transit_circle, functkw=fa, parinfo=parinfo, quiet=True)\n",
    "\n",
    "print('\\nTHIS ROUND OF MPFIT IS DONE\\n')"
   ]
  },
  {
   "cell_type": "code",
   "execution_count": null,
   "metadata": {},
   "outputs": [],
   "source": [
    "# Get the error array\n",
    "pcerror = mpfit_result.perror \n",
    "print(\"systematics:\", systematics)\n",
    "print(pcerror)"
   ]
  },
  {
   "cell_type": "code",
   "execution_count": null,
   "metadata": {},
   "outputs": [],
   "source": []
  }
 ],
 "metadata": {
  "kernelspec": {
   "display_name": "Python 3",
   "language": "python",
   "name": "python3"
  },
  "language_info": {
   "codemirror_mode": {
    "name": "ipython",
    "version": 3
   },
   "file_extension": ".py",
   "mimetype": "text/x-python",
   "name": "python",
   "nbconvert_exporter": "python",
   "pygments_lexer": "ipython3",
   "version": "3.6.2"
  }
 },
 "nbformat": 4,
 "nbformat_minor": 2
}
