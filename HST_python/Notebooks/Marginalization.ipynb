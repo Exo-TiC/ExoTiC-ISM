{
 "cells": [
  {
   "cell_type": "markdown",
   "metadata": {},
   "source": [
    "# Marginalization\n",
    "\n",
    "In this notebook, we will load the data from after the second fit and perform the marginalization.\n",
    "\n",
    "I need to get the data import working. The cells will have to be broken up more. I need to check for astropy units."
   ]
  },
  {
   "cell_type": "code",
   "execution_count": null,
   "metadata": {},
   "outputs": [],
   "source": [
    "# Imports\n",
    "import numpy as np\n",
    "import os\n",
    "import time\n",
    "import sys\n",
    "import matplotlib.pyplot as plt\n",
    "%matplotlib inline\n",
    "import astropy.units as u\n",
    "from astropy.constants import G\n",
    "\n",
    "os.chdir('..')\n",
    "from config import CONFIG_INI\n",
    "import margmodule as marg"
   ]
  },
  {
   "cell_type": "markdown",
   "metadata": {},
   "source": [
    "## Load the data\n",
    "\n",
    "Load the results into the notebook and make sure the data looks right."
   ]
  },
  {
   "cell_type": "code",
   "execution_count": null,
   "metadata": {},
   "outputs": [],
   "source": [
    "# ... load data here"
   ]
  },
  {
   "cell_type": "markdown",
   "metadata": {},
   "source": [
    "## Reformat all arrays with just positive values\n",
    "\n",
    "Why?"
   ]
  },
  {
   "cell_type": "code",
   "execution_count": null,
   "metadata": {},
   "outputs": [],
   "source": [
    "a = (np.sort(sys_evidenceAIC))[::-1]\n",
    "print('\\nTOP 10 SYSTEMATIC MODELS')\n",
    "\n",
    "#TODO: What is getting printed here?\n",
    "print(a[:10])\n",
    "#TODO: What is getting printedx here?\n",
    "print(sys_evidenceAIC)\n",
    "\n",
    "# REFORMAT all arrays with just positive values\n",
    "pos = np.where(sys_evidenceAIC > -500)   #TODO: change hard coded number?\n",
    "if len(pos) == 0:\n",
    "    pos = -1\n",
    "npos = len(pos[0])   # NOT-REUSED\n",
    "#TODO: What is getting printed here?\n",
    "print('POS positions = {}'.format(pos))\n",
    "\n",
    "count_AIC = sys_evidenceAIC[pos]\n",
    "\n",
    "count_depth = sys_depth[pos]\n",
    "count_depth_err = sys_depth_err[pos]\n",
    "\n",
    "count_epoch = sys_epoch[pos]\n",
    "count_epoch_err = sys_epoch_err[pos]\n",
    "\n",
    "count_residuals = sys_residuals[pos]\n",
    "count_date = sys_date[pos]\n",
    "count_flux = sys_flux[pos]\n",
    "count_flux_err = sys_flux_err[pos]\n",
    "count_phase = sys_phase[pos]\n",
    "count_model_y = sys_model[pos]\n",
    "count_model_x = sys_model_phase[pos]"
   ]
  },
  {
   "cell_type": "markdown",
   "metadata": {},
   "source": [
    "## More calculations"
   ]
  },
  {
   "cell_type": "code",
   "execution_count": null,
   "metadata": {},
   "outputs": [],
   "source": [
    "beta = np.min(count_AIC)\n",
    "w_q = (np.exp(count_AIC - beta)) / np.sum(np.exp(count_AIC - beta))\n",
    "\n",
    "n01 = np.where(w_q >= 0.05)\n",
    "print('{} models have a weight over 0.1. -> Models:'.format(len(n01), n01, w_q[n01]))\n",
    "print('Most likely model is number {} at w_q={}'.format(np.argmax(w_q), np.max(w_q)))\n",
    "\n",
    "best_sys = np.max(w_q)\n",
    "\n",
    "rl_sdnr = np.zeros(len(w_q))\n",
    "for i in range(len(w_q)):\n",
    "    rl_sdnr[i] = (np.std(count_residuals[:, i]) / np.sqrt(2)) * 1e6\n",
    "best_sys = np.argmin(rl_sdnr)\n",
    "\n",
    "print('SDNR best model = {}'.format(np.std(count_residuals[:, best_sys]) / np.sqrt(2) * 1e6))\n",
    "print('SDNR best = {} for model {}'.format(np.min(rl_sdnr), np.argmin(rl_sdnr)))"
   ]
  },
  {
   "cell_type": "markdown",
   "metadata": {},
   "source": [
    "## Plots"
   ]
  },
  {
   "cell_type": "code",
   "execution_count": null,
   "metadata": {},
   "outputs": [],
   "source": [
    "plt.figure(3)\n",
    "plt.subplot(3,1,1)\n",
    "plt.plot(w_q)\n",
    "plt.title('w_q')\n",
    "plt.subplot(3,1,2)\n",
    "plt.plot(rl_sdnr)\n",
    "plt.title('rl_sdnr')\n",
    "plt.subplot(3,1,3)\n",
    "plt.errorbar(np.arange(1, len(count_depth)+1), count_depth, yerr=count_depth_err, fmt='.')\n",
    "plt.title('count_depth')\n",
    "plt.draw()\n",
    "plt.pause(0.05)\n",
    "\n",
    "plt.figure(4)\n",
    "plt.subplot(3, 1, 1)\n",
    "plt.scatter(sys_phase[0,:], sys_flux[0,:])\n",
    "plt.ylim(np.min(sys_flux[0,:]) - 0.001, np.max(sys_flux[0,:]) + 0.001)\n",
    "plt.xlabel('sys_phase')\n",
    "plt.ylabel('sys_flux')\n",
    "\n",
    "plt.subplot(3,1,2)\n",
    "plt.scatter(count_phase[best_sys,:], count_flux[best_sys,:])\n",
    "plt.plot(count_model_x[best_sys,:], count_model_y[best_sys,:])\n",
    "plt.ylim(np.min(count_flux[0,:]) - 0.001, np.max(count_flux[0,:]) + 0.001)\n",
    "plt.xlabel('count_phase')\n",
    "plt.ylabel('count_flux')\n",
    "\n",
    "plt.subplot(3,1,3)\n",
    "plt.errorbar(count_phase[best_sys,:], count_residuals[best_sys,:], yerr=count_flux_err[best_sys,:], fmt='.')\n",
    "plt.ylim(-1000, 1000)\n",
    "plt.xlabel('count_phase')\n",
    "plt.ylabel('count_residuals')\n",
    "plt.hlines(0.0, xmin=np.min(count_phase[best_sys,:]), xmax=np.max(count_phase[best_sys,:]), colors='r', linestyles='dashed')\n",
    "#plt.hlines(0.0 - (rl_sdnr[best_sys] * cut_down), xmin=np.min(count_phase[best_sys,:]), xmax=np.max(count_phase[best_sys,:]), colors='r', linestyles='dotted')\n",
    "#plt.hlines(0.0 + (rl_sdnr[best_sys] * cut_down), xmin=np.min(count_phase[best_sys,:]), xmax=np.max(count_phase[best_sys,:]), colors='r', linestyles='dotted')\n",
    "plt.draw()\n",
    "plt.show()"
   ]
  },
  {
   "cell_type": "markdown",
   "metadata": {},
   "source": [
    "## Perform the marginalization"
   ]
  },
  {
   "cell_type": "code",
   "execution_count": null,
   "metadata": {},
   "outputs": [],
   "source": [
    "### Radius ratio\n",
    "marg_rl, marg_rl_err = marg.marginalization(count_depth, count_depth_err, w_q)\n",
    "print('Rp/R* = {} +/- {}'.format(marg_rl, marg_rl_err))"
   ]
  },
  {
   "cell_type": "code",
   "execution_count": null,
   "metadata": {},
   "outputs": [],
   "source": [
    "### Center of transit time\n",
    "marg_epoch, marg_epoch_err = marg.marginalization(count_epoch, count_epoch_err, w_q)\n",
    "print('Epoch = {} +/- {}'.format(marg_epoch, marg_epoch_err))"
   ]
  },
  {
   "cell_type": "code",
   "execution_count": null,
   "metadata": {},
   "outputs": [],
   "source": [
    "### Inclination in radians\n",
    "marg_inclin_rad, marg_inclin_rad_err = marg.marginalization(sys_params[:, 3], sys_params_err[:, 3], w_q)\n",
    "print('inc (rads) = {} +/- {}'.format(marg_inclin_rad, marg_inclin_rad_err))"
   ]
  },
  {
   "cell_type": "code",
   "execution_count": null,
   "metadata": {},
   "outputs": [],
   "source": [
    "### Inclination in degrees\n",
    "conv1 = sys_params[:, 3] / (2 * np.pi / 360)\n",
    "conv2 = sys_params_err[:, 3] / (2 * np.pi / 360)\n",
    "marg_inclin_deg, marg_inclin_deg_err = marg.marginalization(conv1, conv2, w_q)\n",
    "print('inc (deg) = {} +/- {}'.format(marg_inclin_deg, marg_inclin_deg_err))"
   ]
  },
  {
   "cell_type": "code",
   "execution_count": null,
   "metadata": {},
   "outputs": [],
   "source": [
    "### MsMpR\n",
    "marg_msmpr, marg_msmpr_err = marg.marginalization(sys_params[:, 4], sys_params_err[:, 4], w_q)\n",
    "print('MsMpR = {} +/- {}'.format(marg_msmpr, marg_msmpr_err))\n",
    "\n",
    "marg_aors = constant1 * (marg_msmpr ** 0.333)\n",
    "marg_aors_err = constant1 * (marg_msmpr_err ** 0.3333) / marg_aors\n",
    "print('a/R* = {} +/- {}'.format(marg_aors, marg_aors_err))"
   ]
  }
 ],
 "metadata": {
  "kernelspec": {
   "display_name": "Python 3",
   "language": "python",
   "name": "python3"
  },
  "language_info": {
   "codemirror_mode": {
    "name": "ipython",
    "version": 3
   },
   "file_extension": ".py",
   "mimetype": "text/x-python",
   "name": "python",
   "nbconvert_exporter": "python",
   "pygments_lexer": "ipython3",
   "version": "3.6.8"
  }
 },
 "nbformat": 4,
 "nbformat_minor": 2
}
