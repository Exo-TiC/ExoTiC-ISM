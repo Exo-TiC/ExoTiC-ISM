{
 "cells": [
  {
   "cell_type": "markdown",
   "metadata": {},
   "source": [
    "# Trying Sherpa\n",
    "\n",
    "I was already making code ready to post a question on StackOverflow, when I found this question and the related answers:\n",
    "\n",
    "https://stackoverflow.com/questions/15345906/user-specified-function-in-mpfit\n",
    "\n",
    "The first answer links to the modelling and fitting package `sherpa` which I have never heard of before, but it seems to be super well documented and writen with an object-oriented approach, so I decided to see whether that would actually be useful for us. Here's the link to it:\n",
    "\n",
    "http://cxc.harvard.edu/contrib/sherpa/\n",
    "\n",
    "`pip install sherpa` did it."
   ]
  },
  {
   "cell_type": "markdown",
   "metadata": {},
   "source": [
    "I started by just copy-pasting the first example from their documentation:\n",
    "\n",
    "https://sherpa.readthedocs.io/en/4.11.0/quick.html"
   ]
  },
  {
   "cell_type": "code",
   "execution_count": null,
   "metadata": {},
   "outputs": [],
   "source": [
    "import os\n",
    "import numpy as np\n",
    "import matplotlib.pyplot as plt\n",
    "\n",
    "os.chdir('../')\n",
    "from config import CONFIG_INI\n",
    "import margmodule as marg"
   ]
  },
  {
   "cell_type": "markdown",
   "metadata": {},
   "source": [
    "## Write your own model class\n",
    "\n",
    "First, all the sherpa imports."
   ]
  },
  {
   "cell_type": "code",
   "execution_count": null,
   "metadata": {},
   "outputs": [],
   "source": [
    "import numpy as np\n",
    "import matplotlib.pyplot as plt\n",
    "from sherpa.models import model\n",
    "from sherpa.data import Data1D\n",
    "from sherpa.plot import DataPlot\n",
    "from sherpa.plot import ModelPlot\n",
    "from sherpa.fit import Fit\n",
    "from sherpa.stats import LeastSq\n",
    "from sherpa.optmethods import LevMar\n",
    "from sherpa.stats import Chi2\n",
    "from sherpa.plot import FitPlot"
   ]
  },
  {
   "cell_type": "markdown",
   "metadata": {},
   "source": [
    "### Define the model mathod\n",
    "\n",
    "This calculates a model form given parameters *pars* and an independent variable *x*.\n",
    "\n",
    "**This was moved to `margmodule.py`**"
   ]
  },
  {
   "cell_type": "markdown",
   "metadata": {},
   "source": [
    "### Define the user model class\n",
    "\n",
    "All parameters have at least a name and an initial guess. Make sure you don't forget a parameter in the initialization of the super class.\n",
    "\n",
    "**This was moved to `margmodule.py`**"
   ]
  },
  {
   "cell_type": "markdown",
   "metadata": {},
   "source": [
    "## Import the data"
   ]
  },
  {
   "cell_type": "code",
   "execution_count": null,
   "metadata": {},
   "outputs": [],
   "source": [
    "# Import data\n",
    "localDir = CONFIG_INI.get('data_paths', 'local_path')\n",
    "curr_model = CONFIG_INI.get('data_paths', 'current_model')\n",
    "dataDir = os.path.join(localDir, os.path.join(localDir, CONFIG_INI.get('data_paths', 'data_path')), curr_model)\n",
    "x, y, err, sh = np.loadtxt(os.path.join(dataDir, 'W17_white_lightcurve_test_data.txt'),\n",
    "                           skiprows=7, unpack=True)"
   ]
  },
  {
   "cell_type": "code",
   "execution_count": null,
   "metadata": {},
   "outputs": [],
   "source": [
    "# Plot the data with matplotlib\n",
    "plt.scatter(x, y, s=5)\n",
    "plt.title(\"Data\")"
   ]
  },
  {
   "cell_type": "markdown",
   "metadata": {},
   "source": [
    "## Create Sherpa data object from your data"
   ]
  },
  {
   "cell_type": "code",
   "execution_count": null,
   "metadata": {},
   "outputs": [],
   "source": [
    "# Create Sherpa data object\n",
    "data = Data1D('Data', x, y, staterror=err)\n",
    "print(data)"
   ]
  },
  {
   "cell_type": "code",
   "execution_count": null,
   "metadata": {},
   "outputs": [],
   "source": [
    "# Plot the data with Sherpa\n",
    "dplot = DataPlot()    # create plot object\n",
    "dplot.prepare(data)      # prepare data for plotting\n",
    "dplot.plot()          # plot"
   ]
  },
  {
   "cell_type": "markdown",
   "metadata": {},
   "source": [
    "## Instantiate the model"
   ]
  },
  {
   "cell_type": "code",
   "execution_count": null,
   "metadata": {},
   "outputs": [],
   "source": [
    "# Define the model\n",
    "tmodel = marg.Transit()\n",
    "print(tmodel)"
   ]
  },
  {
   "cell_type": "code",
   "execution_count": null,
   "metadata": {},
   "outputs": [],
   "source": [
    "# Freeze some parameters\n",
    "tmodel.inclin.frozen = True\n",
    "print(tmodel.inclin.frozen)\n",
    "\n",
    "tmodel.msmpr.frozen = True\n",
    "tmodel.ecc.frozen = True\n",
    "tmodel.omega.frozen = True\n",
    "tmodel.period.frozen = True\n",
    "tmodel.tzero.frozen = True\n",
    "tmodel.c1.frozen = True\n",
    "tmodel.c2.frozen = True\n",
    "tmodel.c3.frozen = True\n",
    "tmodel.c4.frozen = True\n",
    "tmodel.m_fac.frozen = True\n",
    "tmodel.hstp1.frozen = True\n",
    "tmodel.hstp2.frozen = True\n",
    "tmodel.hstp3.frozen = True\n",
    "tmodel.hstp4.frozen = True\n",
    "tmodel.xshift1.frozen = True\n",
    "tmodel.xshift2.frozen = True\n",
    "tmodel.xshift3.frozen = True\n",
    "tmodel.xshift4.frozen = True\n",
    "\n",
    "print(tmodel)"
   ]
  },
  {
   "cell_type": "code",
   "execution_count": null,
   "metadata": {},
   "outputs": [],
   "source": [
    "# Plot the model\n",
    "mplot = ModelPlot()\n",
    "mplot.prepare(data, tmodel)\n",
    "mplot.plot()"
   ]
  },
  {
   "cell_type": "markdown",
   "metadata": {},
   "source": [
    "## The fitting\n",
    "\n",
    "### Select the statistics and optimizer"
   ]
  },
  {
   "cell_type": "code",
   "execution_count": null,
   "metadata": {},
   "outputs": [],
   "source": [
    "# Select statistics and optimizer\n",
    "stat = Chi2()\n",
    "opt = LevMar()"
   ]
  },
  {
   "cell_type": "markdown",
   "metadata": {},
   "source": [
    "### Instantiate the fit object and fit"
   ]
  },
  {
   "cell_type": "code",
   "execution_count": null,
   "metadata": {},
   "outputs": [],
   "source": [
    "# Fit\n",
    "tfit = Fit(data, tmodel, stat=stat, method=opt)    # Instantiate fit object\n",
    "tres = tfit.fit()     # do the fit\n",
    "print(tres.format())\n",
    "if not tres.succeeded: print(tres.message)"
   ]
  },
  {
   "cell_type": "code",
   "execution_count": null,
   "metadata": {},
   "outputs": [],
   "source": [
    "# Plot fit over data\n",
    "fplot = FitPlot()\n",
    "mplot.prepare(data, tmodel)\n",
    "fplot.prepare(dplot, mplot)\n",
    "fplot.plot()"
   ]
  },
  {
   "cell_type": "code",
   "execution_count": null,
   "metadata": {},
   "outputs": [],
   "source": []
  }
 ],
 "metadata": {
  "kernelspec": {
   "display_name": "Python 3",
   "language": "python",
   "name": "python3"
  },
  "language_info": {
   "codemirror_mode": {
    "name": "ipython",
    "version": 3
   },
   "file_extension": ".py",
   "mimetype": "text/x-python",
   "name": "python",
   "nbconvert_exporter": "python",
   "pygments_lexer": "ipython3",
   "version": "3.6.8"
  }
 },
 "nbformat": 4,
 "nbformat_minor": 2
}
