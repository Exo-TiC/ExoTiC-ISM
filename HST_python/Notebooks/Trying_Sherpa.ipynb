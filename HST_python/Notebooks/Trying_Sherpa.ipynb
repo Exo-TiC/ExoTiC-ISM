{
 "cells": [
  {
   "cell_type": "markdown",
   "metadata": {},
   "source": [
    "# Trying Sherpa\n",
    "\n",
    "I was already making code ready to post a question on StackOverflow, when I found this question and the related answers:\n",
    "\n",
    "https://stackoverflow.com/questions/15345906/user-specified-function-in-mpfit\n",
    "\n",
    "The first answer links to the modelling and fitting package `sherpa` which I have never heard of before, but it seems to be super well documented and writen with an object-oriented approach, so I decided to see whether that would actually be useful for us. Here's the link to it:\n",
    "\n",
    "http://cxc.harvard.edu/contrib/sherpa/\n",
    "\n",
    "`pip install sherpa` did it."
   ]
  },
  {
   "cell_type": "code",
   "execution_count": null,
   "metadata": {},
   "outputs": [],
   "source": [
    "import numpy as np\n",
    "import matplotlib.pyplot as plt\n",
    "\n",
    "from sherpa.data import Data1D\n",
    "from sherpa.plot import DataPlot"
   ]
  },
  {
   "cell_type": "markdown",
   "metadata": {},
   "source": [
    "I started by just copy-pasting the first example from their documentation:\n",
    "\n",
    "https://sherpa.readthedocs.io/en/4.11.0/quick.html\n",
    "\n",
    "\n",
    "##  Create data"
   ]
  },
  {
   "cell_type": "code",
   "execution_count": null,
   "metadata": {},
   "outputs": [],
   "source": [
    "np.random.seed(0)\n",
    "x = np.linspace(-5., 5., 200)\n",
    "ampl_true = 3\n",
    "pos_true = 1.3\n",
    "sigma_true = 0.8\n",
    "err_true = 0.2\n",
    "y = ampl_true * np.exp(-0.5 * (x - pos_true)**2 / sigma_true**2)\n",
    "y += np.random.normal(0., err_true, x.shape)\n",
    "plt.plot(x, y, 'ko')"
   ]
  },
  {
   "cell_type": "markdown",
   "metadata": {},
   "source": [
    "## Create a data object"
   ]
  },
  {
   "cell_type": "code",
   "execution_count": null,
   "metadata": {},
   "outputs": [],
   "source": [
    "d = Data1D('example', x, y)\n",
    "print(d)"
   ]
  },
  {
   "cell_type": "code",
   "execution_count": null,
   "metadata": {},
   "outputs": [],
   "source": []
  }
 ],
 "metadata": {
  "kernelspec": {
   "display_name": "Python 3",
   "language": "python",
   "name": "python3"
  },
  "language_info": {
   "codemirror_mode": {
    "name": "ipython",
    "version": 3
   },
   "file_extension": ".py",
   "mimetype": "text/x-python",
   "name": "python",
   "nbconvert_exporter": "python",
   "pygments_lexer": "ipython3",
   "version": "3.6.2"
  }
 },
 "nbformat": 4,
 "nbformat_minor": 2
}
