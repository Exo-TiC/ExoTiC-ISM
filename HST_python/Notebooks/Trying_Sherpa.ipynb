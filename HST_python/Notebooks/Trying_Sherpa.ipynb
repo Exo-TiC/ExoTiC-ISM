{
 "cells": [
  {
   "cell_type": "markdown",
   "metadata": {},
   "source": [
    "# Trying Sherpa\n",
    "\n",
    "I was already making code ready to post a question on StackOverflow, when I found this question and the related answers:\n",
    "\n",
    "https://stackoverflow.com/questions/15345906/user-specified-function-in-mpfit\n",
    "\n",
    "The first answer links to the modelling and fitting package `sherpa` which I have never heard of before, but it seems to be super well documented and writen with an object-oriented approach, so I decided to see whether that would actually be useful for us. Here's the link to it:\n",
    "\n",
    "http://cxc.harvard.edu/contrib/sherpa/\n",
    "\n",
    "`pip install sherpa` did it."
   ]
  },
  {
   "cell_type": "markdown",
   "metadata": {},
   "source": [
    "I started by just copy-pasting the first example from their documentation:\n",
    "\n",
    "https://sherpa.readthedocs.io/en/4.11.0/quick.html"
   ]
  },
  {
   "cell_type": "code",
   "execution_count": null,
   "metadata": {},
   "outputs": [],
   "source": [
    "import os\n",
    "import numpy as np\n",
    "import matplotlib.pyplot as plt\n",
    "\n",
    "from sherpa.data import Data1D\n",
    "from sherpa.plot import DataPlot\n",
    "os.chdir('../')\n",
    "from config import CONFIG_INI\n",
    "import hstmarg"
   ]
  },
  {
   "cell_type": "markdown",
   "metadata": {},
   "source": [
    "### Write your own model class\n",
    "Trying..."
   ]
  },
  {
   "cell_type": "code",
   "execution_count": null,
   "metadata": {},
   "outputs": [],
   "source": [
    "import numpy as np\n",
    "import matplotlib.pyplot as plt\n",
    "from sherpa.models import model\n",
    "from sherpa.data import Data1D\n",
    "from sherpa.plot import DataPlot\n",
    "from sherpa.plot import ModelPlot\n",
    "from sherpa.fit import Fit\n",
    "from sherpa.stats import LeastSq\n",
    "from sherpa.optmethods import LevMar\n",
    "from sherpa.stats import Chi2\n",
    "from sherpa.plot import FitPlot\n",
    "from sherpa import plot as sp"
   ]
  },
  {
   "cell_type": "code",
   "execution_count": null,
   "metadata": {},
   "outputs": [],
   "source": [
    "def _transit_circle(pars, x):\n",
    "    \"\"\"\n",
    "    Transit model.\n",
    "    \"\"\"\n",
    "\n",
    "    HSTper = CONFIG_INI.getfloat('constants', 'HST_period')\n",
    "    day_to_sec = CONFIG_INI.getfloat('constants', 'dtosec')\n",
    "\n",
    "    # Define each of the parameters that are read into the fitting routine\n",
    "    (rl, flux, epoch, inclin, MsMpR, ecc, omega, Per, T0, c1, c2, c3, c4,\n",
    "     m_fac, hstp1, hstp2, hstp3, hstp4, xshift1, xshift2, xshift3, xshift4) = pars\n",
    "\n",
    "    phase = hstmarg.phase_calc(x, epoch, Per/day_to_sec)\n",
    "    HSTphase = hstmarg.phase_calc(x, T0, HSTper)\n",
    "\n",
    "    # Calculate the impact parameter as a function of the planetary phase across the star.\n",
    "    b0 = hstmarg.impact_param(Per, MsMpR, phase, inclin)\n",
    "\n",
    "    # Occultnl would be replaced with BATMAN if possible. The main result we need is the rl - radius ratio\n",
    "    # The c1-c4 are the non-linear limb-darkening parameters\n",
    "    # b0 is the impact parameter function and I am not sure how this is handled in BATMAN - I will also look into this.\n",
    "    mulimb0, mulimbf = hstmarg.occultnl(rl, c1, c2, c3, c4, b0)\n",
    "    sh = np.ones_like(x) * 0.00278449   # TODO: replace with real data\n",
    "    systematic_model = hstmarg.sys_model(phase, HSTphase, sh, m_fac, hstp1,\n",
    "                                         hstp2, hstp3, hstp4, xshift1, xshift2,\n",
    "                                         xshift3, xshift4)\n",
    "\n",
    "    # model fit to data = transit model * baseline flux (flux0) * systematic model\n",
    "    model = mulimb0 * flux * systematic_model\n",
    "\n",
    "    return model"
   ]
  },
  {
   "cell_type": "code",
   "execution_count": null,
   "metadata": {},
   "outputs": [],
   "source": [
    "class Transit(model.RegriddableModel1D):\n",
    "    \"\"\"Transit model\"\"\"\n",
    "\n",
    "    def __init__(self, name='transit'):\n",
    "        self.rl = model.Parameter(name, 'rl', 0.1, min=0, hard_min=0)\n",
    "        self.flux = model.Parameter(name, 'flux', 1.)\n",
    "        self.epoch = model.Parameter(name, 'epoch', 57957.98789)\n",
    "        self.inclin = model.Parameter(name, 'inclin', 87.)\n",
    "        self.msmpr = model.Parameter(name, 'msmpr', 1767., min=0, hard_min=0)\n",
    "        self.ecc = model.Parameter(name, 'ecc', 0)\n",
    "        self.omega = model.Parameter(name, 'omega', 90)\n",
    "        self.period = model.Parameter(name, 'period', 2.69)\n",
    "        self.tzero = model.Parameter(name, 'tzero', 557957.859985)\n",
    "        self.c1 = model.Parameter(name, 'c1', 0)\n",
    "        self.c2 = model.Parameter(name, 'c2', 0)\n",
    "        self.c3 = model.Parameter(name, 'c3', 0)\n",
    "        self.c4 = model.Parameter(name, 'c4', 0)\n",
    "        self.m_fac = model.Parameter(name, 'm_fac', 0)\n",
    "        self.hstp1 = model.Parameter(name, 'hstp1', 0)\n",
    "        self.hstp2 = model.Parameter(name, 'hstp2', 0)\n",
    "        self.hstp3 = model.Parameter(name, 'hstp3', 0)\n",
    "        self.hstp4 = model.Parameter(name, 'hstp4', 0)\n",
    "        self.xshift1 = model.Parameter(name, 'xshift1', 0)\n",
    "        self.xshift2 = model.Parameter(name, 'xshift2', 0)\n",
    "        self.xshift3 = model.Parameter(name, 'xshift3', 0)\n",
    "        self.xshift4 = model.Parameter(name, 'xshift4', 0)\n",
    "\n",
    "        model.RegriddableModel1D.__init__(self, name,\n",
    "                                          (self.rl, self.flux, self.epoch,\n",
    "                                           self.inclin, self.msmpr, self.ecc,\n",
    "                                           self.omega, self.period, self.tzero,\n",
    "                                           self.c1, self.c2, self.c3, self.c4, self.m_fac,\n",
    "                                           self.hstp1, self.hstp2, self.hstp3,\n",
    "                                           self.hstp4, self.xshift1, self.xshift2,\n",
    "                                           self.xshift3, self.xshift4))\n",
    "        \n",
    "    def calc(self, pars, x, *args, **kwargs):\n",
    "        \"\"\"Evaluate the model\"\"\"\n",
    "            \n",
    "        #if len(args) == 1:\n",
    "        #    x = (x + args[0]) / 2\n",
    "        return _transit_circle(pars, x)"
   ]
  },
  {
   "cell_type": "code",
   "execution_count": null,
   "metadata": {},
   "outputs": [],
   "source": [
    "# Import data\n",
    "localDir = CONFIG_INI.get('data_paths', 'local_path')\n",
    "curr_model = CONFIG_INI.get('data_paths', 'current_model')\n",
    "dataDir = os.path.join(localDir, os.path.join(localDir, CONFIG_INI.get('data_paths', 'data_path')), curr_model)\n",
    "x, y, err, sh = np.loadtxt(os.path.join(dataDir, 'W17_white_lightcurve_test_data.txt'),\n",
    "                          skiprows=7, unpack=True)"
   ]
  },
  {
   "cell_type": "code",
   "execution_count": null,
   "metadata": {},
   "outputs": [],
   "source": [
    "# # Fake simple data\n",
    "# y = np.array([1., 1., 1., 1., 1., 1., 1., 0.5, 0.5, 0.5, 0.5, 0.5, 1., 1., 1., 1., 1., 1., 1., 1., 1.])\n",
    "# x = np.linspace(1., 20., len(y))\n",
    "\n",
    "# plt.plot(x, y)\n",
    "# plt.title(\"Fake data\")"
   ]
  },
  {
   "cell_type": "code",
   "execution_count": null,
   "metadata": {},
   "outputs": [],
   "source": [
    "plt.scatter(x, y, s=5)\n",
    "plt.title(\"Data\")"
   ]
  },
  {
   "cell_type": "code",
   "execution_count": null,
   "metadata": {},
   "outputs": [],
   "source": [
    "# Create Sherpa data object\n",
    "data = Data1D('Data', x, y, staterror=err)   # TODO: add errors in here\n",
    "print(data)"
   ]
  },
  {
   "cell_type": "code",
   "execution_count": null,
   "metadata": {},
   "outputs": [],
   "source": [
    "# Plot the data with Sherpa\n",
    "dplot = DataPlot()    # create plot object\n",
    "dplot.prepare(data)      # prepare data for plotting\n",
    "dplot.plot()          # plot"
   ]
  },
  {
   "cell_type": "code",
   "execution_count": null,
   "metadata": {},
   "outputs": [],
   "source": [
    "# Define the model\n",
    "tmodel = Transit()\n",
    "print(tmodel)"
   ]
  },
  {
   "cell_type": "code",
   "execution_count": null,
   "metadata": {},
   "outputs": [],
   "source": [
    "# Plot the model\n",
    "mplot = ModelPlot()\n",
    "mplot.prepare(data, tmodel)\n",
    "mplot.plot()"
   ]
  },
  {
   "cell_type": "code",
   "execution_count": null,
   "metadata": {},
   "outputs": [],
   "source": [
    "# Select statistics and optimizer\n",
    "stat = Chi2()\n",
    "opt = LevMar()"
   ]
  },
  {
   "cell_type": "code",
   "execution_count": null,
   "metadata": {},
   "outputs": [],
   "source": [
    "# Fit\n",
    "tfit = Fit(data, tmodel, stat=stat, method=opt)    # Instantiate fit object\n",
    "tres = tfit.fit()     # do the fit\n",
    "print(tres.format())\n",
    "if not tres.succeeded: print(tres.message)"
   ]
  },
  {
   "cell_type": "code",
   "execution_count": null,
   "metadata": {},
   "outputs": [],
   "source": [
    "# Plot fit over data\n",
    "fplot = FitPlot()\n",
    "mplot.prepare(data, tmodel)\n",
    "fplot.prepare(dplot, mplot)\n",
    "fplot.plot()"
   ]
  },
  {
   "cell_type": "code",
   "execution_count": null,
   "metadata": {},
   "outputs": [],
   "source": []
  }
 ],
 "metadata": {
  "kernelspec": {
   "display_name": "Python 3",
   "language": "python",
   "name": "python3"
  },
  "language_info": {
   "codemirror_mode": {
    "name": "ipython",
    "version": 3
   },
   "file_extension": ".py",
   "mimetype": "text/x-python",
   "name": "python",
   "nbconvert_exporter": "python",
   "pygments_lexer": "ipython3",
   "version": "3.6.2"
  }
 },
 "nbformat": 4,
 "nbformat_minor": 2
}
