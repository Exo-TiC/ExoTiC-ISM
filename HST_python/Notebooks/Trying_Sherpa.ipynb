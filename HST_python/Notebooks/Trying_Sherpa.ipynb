{
 "cells": [
  {
   "cell_type": "markdown",
   "metadata": {},
   "source": [
    "# Trying Sherpa\n",
    "\n",
    "I was already making code ready to post a question on StackOverflow, when I found this question and the related answers:\n",
    "\n",
    "https://stackoverflow.com/questions/15345906/user-specified-function-in-mpfit\n",
    "\n",
    "The first answer links to the modelling and fitting package `sherpa` which I have never heard of before, but it seems to be super well documented and writen with an object-oriented approach, so I decided to see whether that would actually be useful for us. Here's the link to it:\n",
    "\n",
    "http://cxc.harvard.edu/contrib/sherpa/\n",
    "\n",
    "`pip install sherpa` did it."
   ]
  },
  {
   "cell_type": "markdown",
   "metadata": {},
   "source": [
    "I started by just copy-pasting the first example from their documentation:\n",
    "\n",
    "https://sherpa.readthedocs.io/en/4.11.0/quick.html"
   ]
  },
  {
   "cell_type": "code",
   "execution_count": null,
   "metadata": {},
   "outputs": [],
   "source": [
    "import os\n",
    "import numpy as np\n",
    "import matplotlib.pyplot as plt\n",
    "\n",
    "os.chdir('../')\n",
    "from config import CONFIG_INI\n",
    "import margmodule as marg"
   ]
  },
  {
   "cell_type": "markdown",
   "metadata": {},
   "source": [
    "## Write your own model class\n",
    "\n",
    "First, all the sherpa imports."
   ]
  },
  {
   "cell_type": "code",
   "execution_count": null,
   "metadata": {},
   "outputs": [],
   "source": [
    "import numpy as np\n",
    "import matplotlib.pyplot as plt\n",
    "from sherpa.models import model\n",
    "from sherpa.data import Data1D\n",
    "from sherpa.plot import DataPlot\n",
    "from sherpa.plot import ModelPlot\n",
    "from sherpa.fit import Fit\n",
    "from sherpa.stats import LeastSq\n",
    "from sherpa.optmethods import LevMar\n",
    "from sherpa.stats import Chi2\n",
    "from sherpa.plot import FitPlot"
   ]
  },
  {
   "cell_type": "markdown",
   "metadata": {},
   "source": [
    "### Define the model mathod\n",
    "\n",
    "This calculates a model form given parameters *pars* and an independent variable *x*."
   ]
  },
  {
   "cell_type": "code",
   "execution_count": null,
   "metadata": {},
   "outputs": [],
   "source": [
    "def _transit_circle(pars, x):\n",
    "    \"\"\"\n",
    "    Transit model.\n",
    "    --------\n",
    "    Params:\n",
    "    \n",
    "    rl:\n",
    "    flux:\n",
    "    epoch:\n",
    "    inclin:\n",
    "    MsMpR:\n",
    "    ecc:\n",
    "    omega:\n",
    "    Per:\n",
    "    T0:\n",
    "    c1, c2, c3, c4:\n",
    "    m_fac:\n",
    "    hstp1, hstp2, hstp3, hstp4:\n",
    "    xshift1, xshift2, xshift3, xshift4:\n",
    "    \"\"\"\n",
    "\n",
    "    HSTper = CONFIG_INI.getfloat('constants', 'HST_period')\n",
    "    day_to_sec = CONFIG_INI.getfloat('constants', 'dtosec')\n",
    "\n",
    "    # Define each of the parameters that are read into the fitting routine\n",
    "    (rl, flux, epoch, inclin, MsMpR, ecc, omega, Per, T0, c1, c2, c3, c4,\n",
    "     m_fac, hstp1, hstp2, hstp3, hstp4, xshift1, xshift2, xshift3, xshift4) = pars\n",
    "\n",
    "    phase = marg.phase_calc(x, epoch, Per)   # Per in days here\n",
    "    HSTphase = marg.phase_calc(x, T0, HSTper)\n",
    "\n",
    "    # Calculate the impact parameter as a function of the planetary phase across the star.\n",
    "    b0 = marg.impact_param(Per*day_to_sec, MsMpR, phase, inclin)  # Per in sec here, incl in radians\n",
    "\n",
    "    # Occultnl would be replaced with BATMAN if possible. The main result we need is the rl - radius ratio\n",
    "    # The c1-c4 are the non-linear limb-darkening parameters\n",
    "    # b0 is the impact parameter function and I am not sure how this is handled in BATMAN - I will also look into this.\n",
    "    mulimb0, mulimbf = marg.occultnl(rl, c1, c2, c3, c4, b0)\n",
    "    sh = np.ones_like(x) * 0.00278449   # TODO: replace with real data\n",
    "    systematic_model = marg.sys_model(phase, HSTphase, sh, m_fac, hstp1,\n",
    "                                         hstp2, hstp3, hstp4, xshift1, xshift2,\n",
    "                                         xshift3, xshift4)\n",
    "\n",
    "    # model fit to data = transit model * baseline flux (flux0) * systematic model\n",
    "    model = mulimb0 * flux * systematic_model\n",
    "\n",
    "    return model"
   ]
  },
  {
   "cell_type": "markdown",
   "metadata": {},
   "source": [
    "### Define the user model class\n",
    "\n",
    "All parameters have at least a name and an initial guess. Make sure you don't forget a parameter in the initialization of the super class."
   ]
  },
  {
   "cell_type": "code",
   "execution_count": null,
   "metadata": {},
   "outputs": [],
   "source": [
    "class Transit(model.RegriddableModel1D):\n",
    "    \"\"\"Transit model\"\"\"\n",
    "\n",
    "    def __init__(self, name='transit'):\n",
    "        self.rl = model.Parameter(name, 'rl', 0.12169232)\n",
    "        self.flux = model.Parameter(name, 'flux', 1.)\n",
    "        self.epoch = model.Parameter(name, 'epoch', 57957.970153390)\n",
    "        self.inclin = model.Parameter(name, 'inclin', np.deg2rad(87.34635))\n",
    "        self.msmpr = model.Parameter(name, 'msmpr', 2014.1042)\n",
    "        self.ecc = model.Parameter(name, 'ecc', 0)\n",
    "        self.omega = model.Parameter(name, 'omega', 0)\n",
    "        self.period = model.Parameter(name, 'period', 3.73548535)\n",
    "        self.tzero = model.Parameter(name, 'tzero', 557957.859985)\n",
    "        self.c1 = model.Parameter(name, 'c1', 0)\n",
    "        self.c2 = model.Parameter(name, 'c2', 0)\n",
    "        self.c3 = model.Parameter(name, 'c3', 0)\n",
    "        self.c4 = model.Parameter(name, 'c4', 0)\n",
    "        self.m_fac = model.Parameter(name, 'm_fac', 0)\n",
    "        self.hstp1 = model.Parameter(name, 'hstp1', 0)\n",
    "        self.hstp2 = model.Parameter(name, 'hstp2', 0)\n",
    "        self.hstp3 = model.Parameter(name, 'hstp3', 0)\n",
    "        self.hstp4 = model.Parameter(name, 'hstp4', 0)\n",
    "        self.xshift1 = model.Parameter(name, 'xshift1', 0)\n",
    "        self.xshift2 = model.Parameter(name, 'xshift2', 0)\n",
    "        self.xshift3 = model.Parameter(name, 'xshift3', 0)\n",
    "        self.xshift4 = model.Parameter(name, 'xshift4', 0)\n",
    "\n",
    "        model.RegriddableModel1D.__init__(self, name,\n",
    "                                          (self.rl, self.flux, self.epoch,\n",
    "                                           self.inclin, self.msmpr, self.ecc,\n",
    "                                           self.omega, self.period, self.tzero,\n",
    "                                           self.c1, self.c2, self.c3, self.c4,\n",
    "                                           self.m_fac, self.hstp1, self.hstp2,\n",
    "                                           self.hstp3, self.hstp4, self.xshift1,\n",
    "                                           self.xshift2, self.xshift3, self.xshift4))\n",
    "        \n",
    "    def calc(self, pars, x, *args, **kwargs):\n",
    "        \"\"\"Evaluate the model\"\"\"\n",
    "        return _transit_circle(pars, x)"
   ]
  },
  {
   "cell_type": "markdown",
   "metadata": {},
   "source": [
    "## Import the data"
   ]
  },
  {
   "cell_type": "code",
   "execution_count": null,
   "metadata": {},
   "outputs": [],
   "source": [
    "# Import data\n",
    "localDir = CONFIG_INI.get('data_paths', 'local_path')\n",
    "curr_model = CONFIG_INI.get('data_paths', 'current_model')\n",
    "dataDir = os.path.join(localDir, os.path.join(localDir, CONFIG_INI.get('data_paths', 'data_path')), curr_model)\n",
    "x, y, err, sh = np.loadtxt(os.path.join(dataDir, 'W17_white_lightcurve_test_data.txt'),\n",
    "                           skiprows=7, unpack=True)"
   ]
  },
  {
   "cell_type": "code",
   "execution_count": null,
   "metadata": {},
   "outputs": [],
   "source": [
    "# Plot the data with matplotlib\n",
    "plt.scatter(x, y, s=5)\n",
    "plt.title(\"Data\")"
   ]
  },
  {
   "cell_type": "markdown",
   "metadata": {},
   "source": [
    "## Create Sherpa data object from your data"
   ]
  },
  {
   "cell_type": "code",
   "execution_count": null,
   "metadata": {},
   "outputs": [],
   "source": [
    "# Create Sherpa data object\n",
    "data = Data1D('Data', x, y, staterror=err)\n",
    "print(data)"
   ]
  },
  {
   "cell_type": "code",
   "execution_count": null,
   "metadata": {},
   "outputs": [],
   "source": [
    "# Plot the data with Sherpa\n",
    "dplot = DataPlot()    # create plot object\n",
    "dplot.prepare(data)      # prepare data for plotting\n",
    "dplot.plot()          # plot"
   ]
  },
  {
   "cell_type": "markdown",
   "metadata": {},
   "source": [
    "## Instantiate the model"
   ]
  },
  {
   "cell_type": "code",
   "execution_count": null,
   "metadata": {},
   "outputs": [],
   "source": [
    "# Define the model\n",
    "tmodel = Transit()\n",
    "print(tmodel)"
   ]
  },
  {
   "cell_type": "code",
   "execution_count": null,
   "metadata": {},
   "outputs": [],
   "source": [
    "# Freeze some parameters\n",
    "tmodel.inclin.frozen = True\n",
    "print(tmodel.inclin.frozen)\n",
    "\n",
    "tmodel.msmpr.frozen = True\n",
    "tmodel.ecc.frozen = True\n",
    "tmodel.omega.frozen = True\n",
    "tmodel.period.frozen = True\n",
    "tmodel.tzero.frozen = True\n",
    "tmodel.c1.frozen = True\n",
    "tmodel.c2.frozen = True\n",
    "tmodel.c3.frozen = True\n",
    "tmodel.c4.frozen = True\n",
    "tmodel.m_fac.frozen = True\n",
    "tmodel.hstp1.frozen = True\n",
    "tmodel.hstp2.frozen = True\n",
    "tmodel.hstp3.frozen = True\n",
    "tmodel.hstp4.frozen = True\n",
    "tmodel.xshift1.frozen = True\n",
    "tmodel.xshift2.frozen = True\n",
    "tmodel.xshift3.frozen = True\n",
    "tmodel.xshift4.frozen = True\n",
    "\n",
    "print(tmodel)"
   ]
  },
  {
   "cell_type": "code",
   "execution_count": null,
   "metadata": {},
   "outputs": [],
   "source": [
    "# Plot the model\n",
    "mplot = ModelPlot()\n",
    "mplot.prepare(data, tmodel)\n",
    "mplot.plot()"
   ]
  },
  {
   "cell_type": "markdown",
   "metadata": {},
   "source": [
    "## The fitting\n",
    "\n",
    "### Select the statistics and optimizer"
   ]
  },
  {
   "cell_type": "code",
   "execution_count": null,
   "metadata": {},
   "outputs": [],
   "source": [
    "# Select statistics and optimizer\n",
    "stat = Chi2()\n",
    "opt = LevMar()"
   ]
  },
  {
   "cell_type": "markdown",
   "metadata": {},
   "source": [
    "### Instantiate the fit object and fit"
   ]
  },
  {
   "cell_type": "code",
   "execution_count": null,
   "metadata": {},
   "outputs": [],
   "source": [
    "# Fit\n",
    "tfit = Fit(data, tmodel, stat=stat, method=opt)    # Instantiate fit object\n",
    "tres = tfit.fit()     # do the fit\n",
    "print(tres.format())\n",
    "if not tres.succeeded: print(tres.message)"
   ]
  },
  {
   "cell_type": "code",
   "execution_count": null,
   "metadata": {},
   "outputs": [],
   "source": [
    "# Plot fit over data\n",
    "fplot = FitPlot()\n",
    "mplot.prepare(data, tmodel)\n",
    "fplot.prepare(dplot, mplot)\n",
    "fplot.plot()"
   ]
  },
  {
   "cell_type": "code",
   "execution_count": null,
   "metadata": {},
   "outputs": [],
   "source": []
  }
 ],
 "metadata": {
  "kernelspec": {
   "display_name": "Python 3",
   "language": "python",
   "name": "python3"
  },
  "language_info": {
   "codemirror_mode": {
    "name": "ipython",
    "version": 3
   },
   "file_extension": ".py",
   "mimetype": "text/x-python",
   "name": "python",
   "nbconvert_exporter": "python",
   "pygments_lexer": "ipython3",
   "version": "3.6.2"
  }
 },
 "nbformat": 4,
 "nbformat_minor": 2
}
